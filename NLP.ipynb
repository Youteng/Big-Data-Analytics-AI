{
  "nbformat": 4,
  "nbformat_minor": 0,
  "metadata": {
    "colab": {
      "name": "NLP.ipynb",
      "provenance": [],
      "collapsed_sections": []
    },
    "kernelspec": {
      "name": "python3",
      "display_name": "Python 3"
    },
    "language_info": {
      "name": "python"
    },
    "widgets": {
      "application/vnd.jupyter.widget-state+json": {
        "48fefc88d4cd4da29aa28d1f40b02717": {
          "model_module": "@jupyter-widgets/controls",
          "model_name": "HBoxModel",
          "model_module_version": "1.5.0",
          "state": {
            "_view_name": "HBoxView",
            "_dom_classes": [],
            "_model_name": "HBoxModel",
            "_view_module": "@jupyter-widgets/controls",
            "_model_module_version": "1.5.0",
            "_view_count": null,
            "_view_module_version": "1.5.0",
            "box_style": "",
            "layout": "IPY_MODEL_83cf5c458f21478ab470f81ac378fa58",
            "_model_module": "@jupyter-widgets/controls",
            "children": [
              "IPY_MODEL_ce6c6ccf70294010acb283fb32fadff4",
              "IPY_MODEL_8ea0f5155a1043158e7b40b0e74fdc5c"
            ]
          }
        },
        "83cf5c458f21478ab470f81ac378fa58": {
          "model_module": "@jupyter-widgets/base",
          "model_name": "LayoutModel",
          "model_module_version": "1.2.0",
          "state": {
            "_view_name": "LayoutView",
            "grid_template_rows": null,
            "right": null,
            "justify_content": null,
            "_view_module": "@jupyter-widgets/base",
            "overflow": null,
            "_model_module_version": "1.2.0",
            "_view_count": null,
            "flex_flow": null,
            "width": null,
            "min_width": null,
            "border": null,
            "align_items": null,
            "bottom": null,
            "_model_module": "@jupyter-widgets/base",
            "top": null,
            "grid_column": null,
            "overflow_y": null,
            "overflow_x": null,
            "grid_auto_flow": null,
            "grid_area": null,
            "grid_template_columns": null,
            "flex": null,
            "_model_name": "LayoutModel",
            "justify_items": null,
            "grid_row": null,
            "max_height": null,
            "align_content": null,
            "visibility": null,
            "align_self": null,
            "height": null,
            "min_height": null,
            "padding": null,
            "grid_auto_rows": null,
            "grid_gap": null,
            "max_width": null,
            "order": null,
            "_view_module_version": "1.2.0",
            "grid_template_areas": null,
            "object_position": null,
            "object_fit": null,
            "grid_auto_columns": null,
            "margin": null,
            "display": null,
            "left": null
          }
        },
        "ce6c6ccf70294010acb283fb32fadff4": {
          "model_module": "@jupyter-widgets/controls",
          "model_name": "FloatProgressModel",
          "model_module_version": "1.5.0",
          "state": {
            "_view_name": "ProgressView",
            "style": "IPY_MODEL_0e8008a410914e0b98309f84cafef551",
            "_dom_classes": [],
            "description": "Dl Completed...: 100%",
            "_model_name": "FloatProgressModel",
            "bar_style": "success",
            "max": 1,
            "_view_module": "@jupyter-widgets/controls",
            "_model_module_version": "1.5.0",
            "value": 1,
            "_view_count": null,
            "_view_module_version": "1.5.0",
            "orientation": "horizontal",
            "min": 0,
            "description_tooltip": null,
            "_model_module": "@jupyter-widgets/controls",
            "layout": "IPY_MODEL_bcbf57436c0b40f9adccdfac5f461e02"
          }
        },
        "8ea0f5155a1043158e7b40b0e74fdc5c": {
          "model_module": "@jupyter-widgets/controls",
          "model_name": "HTMLModel",
          "model_module_version": "1.5.0",
          "state": {
            "_view_name": "HTMLView",
            "style": "IPY_MODEL_e7aac33ba52a4ab9a5610d2d12b01a7c",
            "_dom_classes": [],
            "description": "",
            "_model_name": "HTMLModel",
            "placeholder": "​",
            "_view_module": "@jupyter-widgets/controls",
            "_model_module_version": "1.5.0",
            "value": " 1/1 [00:06&lt;00:00,  6.23s/ url]",
            "_view_count": null,
            "_view_module_version": "1.5.0",
            "description_tooltip": null,
            "_model_module": "@jupyter-widgets/controls",
            "layout": "IPY_MODEL_6d38a4e3492a40d2804966d6e47e786b"
          }
        },
        "0e8008a410914e0b98309f84cafef551": {
          "model_module": "@jupyter-widgets/controls",
          "model_name": "ProgressStyleModel",
          "model_module_version": "1.5.0",
          "state": {
            "_view_name": "StyleView",
            "_model_name": "ProgressStyleModel",
            "description_width": "initial",
            "_view_module": "@jupyter-widgets/base",
            "_model_module_version": "1.5.0",
            "_view_count": null,
            "_view_module_version": "1.2.0",
            "bar_color": null,
            "_model_module": "@jupyter-widgets/controls"
          }
        },
        "bcbf57436c0b40f9adccdfac5f461e02": {
          "model_module": "@jupyter-widgets/base",
          "model_name": "LayoutModel",
          "model_module_version": "1.2.0",
          "state": {
            "_view_name": "LayoutView",
            "grid_template_rows": null,
            "right": null,
            "justify_content": null,
            "_view_module": "@jupyter-widgets/base",
            "overflow": null,
            "_model_module_version": "1.2.0",
            "_view_count": null,
            "flex_flow": null,
            "width": null,
            "min_width": null,
            "border": null,
            "align_items": null,
            "bottom": null,
            "_model_module": "@jupyter-widgets/base",
            "top": null,
            "grid_column": null,
            "overflow_y": null,
            "overflow_x": null,
            "grid_auto_flow": null,
            "grid_area": null,
            "grid_template_columns": null,
            "flex": null,
            "_model_name": "LayoutModel",
            "justify_items": null,
            "grid_row": null,
            "max_height": null,
            "align_content": null,
            "visibility": null,
            "align_self": null,
            "height": null,
            "min_height": null,
            "padding": null,
            "grid_auto_rows": null,
            "grid_gap": null,
            "max_width": null,
            "order": null,
            "_view_module_version": "1.2.0",
            "grid_template_areas": null,
            "object_position": null,
            "object_fit": null,
            "grid_auto_columns": null,
            "margin": null,
            "display": null,
            "left": null
          }
        },
        "e7aac33ba52a4ab9a5610d2d12b01a7c": {
          "model_module": "@jupyter-widgets/controls",
          "model_name": "DescriptionStyleModel",
          "model_module_version": "1.5.0",
          "state": {
            "_view_name": "StyleView",
            "_model_name": "DescriptionStyleModel",
            "description_width": "",
            "_view_module": "@jupyter-widgets/base",
            "_model_module_version": "1.5.0",
            "_view_count": null,
            "_view_module_version": "1.2.0",
            "_model_module": "@jupyter-widgets/controls"
          }
        },
        "6d38a4e3492a40d2804966d6e47e786b": {
          "model_module": "@jupyter-widgets/base",
          "model_name": "LayoutModel",
          "model_module_version": "1.2.0",
          "state": {
            "_view_name": "LayoutView",
            "grid_template_rows": null,
            "right": null,
            "justify_content": null,
            "_view_module": "@jupyter-widgets/base",
            "overflow": null,
            "_model_module_version": "1.2.0",
            "_view_count": null,
            "flex_flow": null,
            "width": null,
            "min_width": null,
            "border": null,
            "align_items": null,
            "bottom": null,
            "_model_module": "@jupyter-widgets/base",
            "top": null,
            "grid_column": null,
            "overflow_y": null,
            "overflow_x": null,
            "grid_auto_flow": null,
            "grid_area": null,
            "grid_template_columns": null,
            "flex": null,
            "_model_name": "LayoutModel",
            "justify_items": null,
            "grid_row": null,
            "max_height": null,
            "align_content": null,
            "visibility": null,
            "align_self": null,
            "height": null,
            "min_height": null,
            "padding": null,
            "grid_auto_rows": null,
            "grid_gap": null,
            "max_width": null,
            "order": null,
            "_view_module_version": "1.2.0",
            "grid_template_areas": null,
            "object_position": null,
            "object_fit": null,
            "grid_auto_columns": null,
            "margin": null,
            "display": null,
            "left": null
          }
        },
        "e514dc96ccbe42a3bfa09e189dbec394": {
          "model_module": "@jupyter-widgets/controls",
          "model_name": "HBoxModel",
          "model_module_version": "1.5.0",
          "state": {
            "_view_name": "HBoxView",
            "_dom_classes": [],
            "_model_name": "HBoxModel",
            "_view_module": "@jupyter-widgets/controls",
            "_model_module_version": "1.5.0",
            "_view_count": null,
            "_view_module_version": "1.5.0",
            "box_style": "",
            "layout": "IPY_MODEL_0771d2d8bacf4b79b2b7d34bf131652f",
            "_model_module": "@jupyter-widgets/controls",
            "children": [
              "IPY_MODEL_b040ce700e03471cbf073284e6f6a0a3",
              "IPY_MODEL_08705ea92e3b44e8a92ef033669e29df"
            ]
          }
        },
        "0771d2d8bacf4b79b2b7d34bf131652f": {
          "model_module": "@jupyter-widgets/base",
          "model_name": "LayoutModel",
          "model_module_version": "1.2.0",
          "state": {
            "_view_name": "LayoutView",
            "grid_template_rows": null,
            "right": null,
            "justify_content": null,
            "_view_module": "@jupyter-widgets/base",
            "overflow": null,
            "_model_module_version": "1.2.0",
            "_view_count": null,
            "flex_flow": null,
            "width": null,
            "min_width": null,
            "border": null,
            "align_items": null,
            "bottom": null,
            "_model_module": "@jupyter-widgets/base",
            "top": null,
            "grid_column": null,
            "overflow_y": null,
            "overflow_x": null,
            "grid_auto_flow": null,
            "grid_area": null,
            "grid_template_columns": null,
            "flex": null,
            "_model_name": "LayoutModel",
            "justify_items": null,
            "grid_row": null,
            "max_height": null,
            "align_content": null,
            "visibility": null,
            "align_self": null,
            "height": null,
            "min_height": null,
            "padding": null,
            "grid_auto_rows": null,
            "grid_gap": null,
            "max_width": null,
            "order": null,
            "_view_module_version": "1.2.0",
            "grid_template_areas": null,
            "object_position": null,
            "object_fit": null,
            "grid_auto_columns": null,
            "margin": null,
            "display": null,
            "left": null
          }
        },
        "b040ce700e03471cbf073284e6f6a0a3": {
          "model_module": "@jupyter-widgets/controls",
          "model_name": "FloatProgressModel",
          "model_module_version": "1.5.0",
          "state": {
            "_view_name": "ProgressView",
            "style": "IPY_MODEL_fab8826f3859429389f0a6b6281afce3",
            "_dom_classes": [],
            "description": "Dl Size...: 100%",
            "_model_name": "FloatProgressModel",
            "bar_style": "success",
            "max": 1,
            "_view_module": "@jupyter-widgets/controls",
            "_model_module_version": "1.5.0",
            "value": 1,
            "_view_count": null,
            "_view_module_version": "1.5.0",
            "orientation": "horizontal",
            "min": 0,
            "description_tooltip": null,
            "_model_module": "@jupyter-widgets/controls",
            "layout": "IPY_MODEL_3602330ea99c43ac892b582068ed25d1"
          }
        },
        "08705ea92e3b44e8a92ef033669e29df": {
          "model_module": "@jupyter-widgets/controls",
          "model_name": "HTMLModel",
          "model_module_version": "1.5.0",
          "state": {
            "_view_name": "HTMLView",
            "style": "IPY_MODEL_52362e95e2dd43168c8706f858744461",
            "_dom_classes": [],
            "description": "",
            "_model_name": "HTMLModel",
            "placeholder": "​",
            "_view_module": "@jupyter-widgets/controls",
            "_model_module_version": "1.5.0",
            "value": " 80/80 [00:06&lt;00:00, 12.98 MiB/s]",
            "_view_count": null,
            "_view_module_version": "1.5.0",
            "description_tooltip": null,
            "_model_module": "@jupyter-widgets/controls",
            "layout": "IPY_MODEL_18a9860e7f564e86a6ec79d41e13b52e"
          }
        },
        "fab8826f3859429389f0a6b6281afce3": {
          "model_module": "@jupyter-widgets/controls",
          "model_name": "ProgressStyleModel",
          "model_module_version": "1.5.0",
          "state": {
            "_view_name": "StyleView",
            "_model_name": "ProgressStyleModel",
            "description_width": "initial",
            "_view_module": "@jupyter-widgets/base",
            "_model_module_version": "1.5.0",
            "_view_count": null,
            "_view_module_version": "1.2.0",
            "bar_color": null,
            "_model_module": "@jupyter-widgets/controls"
          }
        },
        "3602330ea99c43ac892b582068ed25d1": {
          "model_module": "@jupyter-widgets/base",
          "model_name": "LayoutModel",
          "model_module_version": "1.2.0",
          "state": {
            "_view_name": "LayoutView",
            "grid_template_rows": null,
            "right": null,
            "justify_content": null,
            "_view_module": "@jupyter-widgets/base",
            "overflow": null,
            "_model_module_version": "1.2.0",
            "_view_count": null,
            "flex_flow": null,
            "width": null,
            "min_width": null,
            "border": null,
            "align_items": null,
            "bottom": null,
            "_model_module": "@jupyter-widgets/base",
            "top": null,
            "grid_column": null,
            "overflow_y": null,
            "overflow_x": null,
            "grid_auto_flow": null,
            "grid_area": null,
            "grid_template_columns": null,
            "flex": null,
            "_model_name": "LayoutModel",
            "justify_items": null,
            "grid_row": null,
            "max_height": null,
            "align_content": null,
            "visibility": null,
            "align_self": null,
            "height": null,
            "min_height": null,
            "padding": null,
            "grid_auto_rows": null,
            "grid_gap": null,
            "max_width": null,
            "order": null,
            "_view_module_version": "1.2.0",
            "grid_template_areas": null,
            "object_position": null,
            "object_fit": null,
            "grid_auto_columns": null,
            "margin": null,
            "display": null,
            "left": null
          }
        },
        "52362e95e2dd43168c8706f858744461": {
          "model_module": "@jupyter-widgets/controls",
          "model_name": "DescriptionStyleModel",
          "model_module_version": "1.5.0",
          "state": {
            "_view_name": "StyleView",
            "_model_name": "DescriptionStyleModel",
            "description_width": "",
            "_view_module": "@jupyter-widgets/base",
            "_model_module_version": "1.5.0",
            "_view_count": null,
            "_view_module_version": "1.2.0",
            "_model_module": "@jupyter-widgets/controls"
          }
        },
        "18a9860e7f564e86a6ec79d41e13b52e": {
          "model_module": "@jupyter-widgets/base",
          "model_name": "LayoutModel",
          "model_module_version": "1.2.0",
          "state": {
            "_view_name": "LayoutView",
            "grid_template_rows": null,
            "right": null,
            "justify_content": null,
            "_view_module": "@jupyter-widgets/base",
            "overflow": null,
            "_model_module_version": "1.2.0",
            "_view_count": null,
            "flex_flow": null,
            "width": null,
            "min_width": null,
            "border": null,
            "align_items": null,
            "bottom": null,
            "_model_module": "@jupyter-widgets/base",
            "top": null,
            "grid_column": null,
            "overflow_y": null,
            "overflow_x": null,
            "grid_auto_flow": null,
            "grid_area": null,
            "grid_template_columns": null,
            "flex": null,
            "_model_name": "LayoutModel",
            "justify_items": null,
            "grid_row": null,
            "max_height": null,
            "align_content": null,
            "visibility": null,
            "align_self": null,
            "height": null,
            "min_height": null,
            "padding": null,
            "grid_auto_rows": null,
            "grid_gap": null,
            "max_width": null,
            "order": null,
            "_view_module_version": "1.2.0",
            "grid_template_areas": null,
            "object_position": null,
            "object_fit": null,
            "grid_auto_columns": null,
            "margin": null,
            "display": null,
            "left": null
          }
        },
        "881d70b3030d4a20b495928c279b6239": {
          "model_module": "@jupyter-widgets/controls",
          "model_name": "HBoxModel",
          "model_module_version": "1.5.0",
          "state": {
            "_view_name": "HBoxView",
            "_dom_classes": [],
            "_model_name": "HBoxModel",
            "_view_module": "@jupyter-widgets/controls",
            "_model_module_version": "1.5.0",
            "_view_count": null,
            "_view_module_version": "1.5.0",
            "box_style": "",
            "layout": "IPY_MODEL_39dc5f1499ec4dc380a991ca40e1cb15",
            "_model_module": "@jupyter-widgets/controls",
            "children": [
              "IPY_MODEL_79f8242951984fa0910a7629d3316d4f",
              "IPY_MODEL_2b0d0c26e3f249978349786007f29649"
            ]
          }
        },
        "39dc5f1499ec4dc380a991ca40e1cb15": {
          "model_module": "@jupyter-widgets/base",
          "model_name": "LayoutModel",
          "model_module_version": "1.2.0",
          "state": {
            "_view_name": "LayoutView",
            "grid_template_rows": null,
            "right": null,
            "justify_content": null,
            "_view_module": "@jupyter-widgets/base",
            "overflow": null,
            "_model_module_version": "1.2.0",
            "_view_count": null,
            "flex_flow": null,
            "width": null,
            "min_width": null,
            "border": null,
            "align_items": null,
            "bottom": null,
            "_model_module": "@jupyter-widgets/base",
            "top": null,
            "grid_column": null,
            "overflow_y": null,
            "overflow_x": null,
            "grid_auto_flow": null,
            "grid_area": null,
            "grid_template_columns": null,
            "flex": null,
            "_model_name": "LayoutModel",
            "justify_items": null,
            "grid_row": null,
            "max_height": null,
            "align_content": null,
            "visibility": null,
            "align_self": null,
            "height": null,
            "min_height": null,
            "padding": null,
            "grid_auto_rows": null,
            "grid_gap": null,
            "max_width": null,
            "order": null,
            "_view_module_version": "1.2.0",
            "grid_template_areas": null,
            "object_position": null,
            "object_fit": null,
            "grid_auto_columns": null,
            "margin": null,
            "display": null,
            "left": null
          }
        },
        "79f8242951984fa0910a7629d3316d4f": {
          "model_module": "@jupyter-widgets/controls",
          "model_name": "FloatProgressModel",
          "model_module_version": "1.5.0",
          "state": {
            "_view_name": "ProgressView",
            "style": "IPY_MODEL_e889317ac5c14778baeb04e896929817",
            "_dom_classes": [],
            "description": "",
            "_model_name": "FloatProgressModel",
            "bar_style": "info",
            "max": 1,
            "_view_module": "@jupyter-widgets/controls",
            "_model_module_version": "1.5.0",
            "value": 1,
            "_view_count": null,
            "_view_module_version": "1.5.0",
            "orientation": "horizontal",
            "min": 0,
            "description_tooltip": null,
            "_model_module": "@jupyter-widgets/controls",
            "layout": "IPY_MODEL_93ea8d6cb00649bc927d8ecedd4fe4ee"
          }
        },
        "2b0d0c26e3f249978349786007f29649": {
          "model_module": "@jupyter-widgets/controls",
          "model_name": "HTMLModel",
          "model_module_version": "1.5.0",
          "state": {
            "_view_name": "HTMLView",
            "style": "IPY_MODEL_b165e58b2234452e8887848f93f771ca",
            "_dom_classes": [],
            "description": "",
            "_model_name": "HTMLModel",
            "placeholder": "​",
            "_view_module": "@jupyter-widgets/controls",
            "_model_module_version": "1.5.0",
            "value": " 25000/0 [00:15&lt;00:00, 3181.06 examples/s]",
            "_view_count": null,
            "_view_module_version": "1.5.0",
            "description_tooltip": null,
            "_model_module": "@jupyter-widgets/controls",
            "layout": "IPY_MODEL_ef556345634644fc96369e45895fa804"
          }
        },
        "e889317ac5c14778baeb04e896929817": {
          "model_module": "@jupyter-widgets/controls",
          "model_name": "ProgressStyleModel",
          "model_module_version": "1.5.0",
          "state": {
            "_view_name": "StyleView",
            "_model_name": "ProgressStyleModel",
            "description_width": "initial",
            "_view_module": "@jupyter-widgets/base",
            "_model_module_version": "1.5.0",
            "_view_count": null,
            "_view_module_version": "1.2.0",
            "bar_color": null,
            "_model_module": "@jupyter-widgets/controls"
          }
        },
        "93ea8d6cb00649bc927d8ecedd4fe4ee": {
          "model_module": "@jupyter-widgets/base",
          "model_name": "LayoutModel",
          "model_module_version": "1.2.0",
          "state": {
            "_view_name": "LayoutView",
            "grid_template_rows": null,
            "right": null,
            "justify_content": null,
            "_view_module": "@jupyter-widgets/base",
            "overflow": null,
            "_model_module_version": "1.2.0",
            "_view_count": null,
            "flex_flow": null,
            "width": null,
            "min_width": null,
            "border": null,
            "align_items": null,
            "bottom": null,
            "_model_module": "@jupyter-widgets/base",
            "top": null,
            "grid_column": null,
            "overflow_y": null,
            "overflow_x": null,
            "grid_auto_flow": null,
            "grid_area": null,
            "grid_template_columns": null,
            "flex": null,
            "_model_name": "LayoutModel",
            "justify_items": null,
            "grid_row": null,
            "max_height": null,
            "align_content": null,
            "visibility": null,
            "align_self": null,
            "height": null,
            "min_height": null,
            "padding": null,
            "grid_auto_rows": null,
            "grid_gap": null,
            "max_width": null,
            "order": null,
            "_view_module_version": "1.2.0",
            "grid_template_areas": null,
            "object_position": null,
            "object_fit": null,
            "grid_auto_columns": null,
            "margin": null,
            "display": null,
            "left": null
          }
        },
        "b165e58b2234452e8887848f93f771ca": {
          "model_module": "@jupyter-widgets/controls",
          "model_name": "DescriptionStyleModel",
          "model_module_version": "1.5.0",
          "state": {
            "_view_name": "StyleView",
            "_model_name": "DescriptionStyleModel",
            "description_width": "",
            "_view_module": "@jupyter-widgets/base",
            "_model_module_version": "1.5.0",
            "_view_count": null,
            "_view_module_version": "1.2.0",
            "_model_module": "@jupyter-widgets/controls"
          }
        },
        "ef556345634644fc96369e45895fa804": {
          "model_module": "@jupyter-widgets/base",
          "model_name": "LayoutModel",
          "model_module_version": "1.2.0",
          "state": {
            "_view_name": "LayoutView",
            "grid_template_rows": null,
            "right": null,
            "justify_content": null,
            "_view_module": "@jupyter-widgets/base",
            "overflow": null,
            "_model_module_version": "1.2.0",
            "_view_count": null,
            "flex_flow": null,
            "width": null,
            "min_width": null,
            "border": null,
            "align_items": null,
            "bottom": null,
            "_model_module": "@jupyter-widgets/base",
            "top": null,
            "grid_column": null,
            "overflow_y": null,
            "overflow_x": null,
            "grid_auto_flow": null,
            "grid_area": null,
            "grid_template_columns": null,
            "flex": null,
            "_model_name": "LayoutModel",
            "justify_items": null,
            "grid_row": null,
            "max_height": null,
            "align_content": null,
            "visibility": null,
            "align_self": null,
            "height": null,
            "min_height": null,
            "padding": null,
            "grid_auto_rows": null,
            "grid_gap": null,
            "max_width": null,
            "order": null,
            "_view_module_version": "1.2.0",
            "grid_template_areas": null,
            "object_position": null,
            "object_fit": null,
            "grid_auto_columns": null,
            "margin": null,
            "display": null,
            "left": null
          }
        },
        "d456b54cf7d144a985d1863ced0ea4dd": {
          "model_module": "@jupyter-widgets/controls",
          "model_name": "HBoxModel",
          "model_module_version": "1.5.0",
          "state": {
            "_view_name": "HBoxView",
            "_dom_classes": [],
            "_model_name": "HBoxModel",
            "_view_module": "@jupyter-widgets/controls",
            "_model_module_version": "1.5.0",
            "_view_count": null,
            "_view_module_version": "1.5.0",
            "box_style": "",
            "layout": "IPY_MODEL_e1c65cb41313484584030242fd56b82d",
            "_model_module": "@jupyter-widgets/controls",
            "children": [
              "IPY_MODEL_debc40bf9a3746a79d495886f24f847a",
              "IPY_MODEL_efe0b29c1df24e4794ad0bec7868dbcd"
            ]
          }
        },
        "e1c65cb41313484584030242fd56b82d": {
          "model_module": "@jupyter-widgets/base",
          "model_name": "LayoutModel",
          "model_module_version": "1.2.0",
          "state": {
            "_view_name": "LayoutView",
            "grid_template_rows": null,
            "right": null,
            "justify_content": null,
            "_view_module": "@jupyter-widgets/base",
            "overflow": null,
            "_model_module_version": "1.2.0",
            "_view_count": null,
            "flex_flow": null,
            "width": null,
            "min_width": null,
            "border": null,
            "align_items": null,
            "bottom": null,
            "_model_module": "@jupyter-widgets/base",
            "top": null,
            "grid_column": null,
            "overflow_y": null,
            "overflow_x": null,
            "grid_auto_flow": null,
            "grid_area": null,
            "grid_template_columns": null,
            "flex": null,
            "_model_name": "LayoutModel",
            "justify_items": null,
            "grid_row": null,
            "max_height": null,
            "align_content": null,
            "visibility": null,
            "align_self": null,
            "height": null,
            "min_height": null,
            "padding": null,
            "grid_auto_rows": null,
            "grid_gap": null,
            "max_width": null,
            "order": null,
            "_view_module_version": "1.2.0",
            "grid_template_areas": null,
            "object_position": null,
            "object_fit": null,
            "grid_auto_columns": null,
            "margin": null,
            "display": null,
            "left": null
          }
        },
        "debc40bf9a3746a79d495886f24f847a": {
          "model_module": "@jupyter-widgets/controls",
          "model_name": "FloatProgressModel",
          "model_module_version": "1.5.0",
          "state": {
            "_view_name": "ProgressView",
            "style": "IPY_MODEL_eb4bc95aa22249179ca50388ee14ae71",
            "_dom_classes": [],
            "description": " 27%",
            "_model_name": "FloatProgressModel",
            "bar_style": "danger",
            "max": 25000,
            "_view_module": "@jupyter-widgets/controls",
            "_model_module_version": "1.5.0",
            "value": 6827,
            "_view_count": null,
            "_view_module_version": "1.5.0",
            "orientation": "horizontal",
            "min": 0,
            "description_tooltip": null,
            "_model_module": "@jupyter-widgets/controls",
            "layout": "IPY_MODEL_a27bf2903d73483a9569adfb6e1d6384"
          }
        },
        "efe0b29c1df24e4794ad0bec7868dbcd": {
          "model_module": "@jupyter-widgets/controls",
          "model_name": "HTMLModel",
          "model_module_version": "1.5.0",
          "state": {
            "_view_name": "HTMLView",
            "style": "IPY_MODEL_85c52bc96b744b2f8379ce52bd9d7796",
            "_dom_classes": [],
            "description": "",
            "_model_name": "HTMLModel",
            "placeholder": "​",
            "_view_module": "@jupyter-widgets/controls",
            "_model_module_version": "1.5.0",
            "value": " 6827/25000 [00:00&lt;00:00, 68266.00 examples/s]",
            "_view_count": null,
            "_view_module_version": "1.5.0",
            "description_tooltip": null,
            "_model_module": "@jupyter-widgets/controls",
            "layout": "IPY_MODEL_98acd9146c7f47659a2b66af976e2523"
          }
        },
        "eb4bc95aa22249179ca50388ee14ae71": {
          "model_module": "@jupyter-widgets/controls",
          "model_name": "ProgressStyleModel",
          "model_module_version": "1.5.0",
          "state": {
            "_view_name": "StyleView",
            "_model_name": "ProgressStyleModel",
            "description_width": "initial",
            "_view_module": "@jupyter-widgets/base",
            "_model_module_version": "1.5.0",
            "_view_count": null,
            "_view_module_version": "1.2.0",
            "bar_color": null,
            "_model_module": "@jupyter-widgets/controls"
          }
        },
        "a27bf2903d73483a9569adfb6e1d6384": {
          "model_module": "@jupyter-widgets/base",
          "model_name": "LayoutModel",
          "model_module_version": "1.2.0",
          "state": {
            "_view_name": "LayoutView",
            "grid_template_rows": null,
            "right": null,
            "justify_content": null,
            "_view_module": "@jupyter-widgets/base",
            "overflow": null,
            "_model_module_version": "1.2.0",
            "_view_count": null,
            "flex_flow": null,
            "width": null,
            "min_width": null,
            "border": null,
            "align_items": null,
            "bottom": null,
            "_model_module": "@jupyter-widgets/base",
            "top": null,
            "grid_column": null,
            "overflow_y": null,
            "overflow_x": null,
            "grid_auto_flow": null,
            "grid_area": null,
            "grid_template_columns": null,
            "flex": null,
            "_model_name": "LayoutModel",
            "justify_items": null,
            "grid_row": null,
            "max_height": null,
            "align_content": null,
            "visibility": null,
            "align_self": null,
            "height": null,
            "min_height": null,
            "padding": null,
            "grid_auto_rows": null,
            "grid_gap": null,
            "max_width": null,
            "order": null,
            "_view_module_version": "1.2.0",
            "grid_template_areas": null,
            "object_position": null,
            "object_fit": null,
            "grid_auto_columns": null,
            "margin": null,
            "display": null,
            "left": null
          }
        },
        "85c52bc96b744b2f8379ce52bd9d7796": {
          "model_module": "@jupyter-widgets/controls",
          "model_name": "DescriptionStyleModel",
          "model_module_version": "1.5.0",
          "state": {
            "_view_name": "StyleView",
            "_model_name": "DescriptionStyleModel",
            "description_width": "",
            "_view_module": "@jupyter-widgets/base",
            "_model_module_version": "1.5.0",
            "_view_count": null,
            "_view_module_version": "1.2.0",
            "_model_module": "@jupyter-widgets/controls"
          }
        },
        "98acd9146c7f47659a2b66af976e2523": {
          "model_module": "@jupyter-widgets/base",
          "model_name": "LayoutModel",
          "model_module_version": "1.2.0",
          "state": {
            "_view_name": "LayoutView",
            "grid_template_rows": null,
            "right": null,
            "justify_content": null,
            "_view_module": "@jupyter-widgets/base",
            "overflow": null,
            "_model_module_version": "1.2.0",
            "_view_count": null,
            "flex_flow": null,
            "width": null,
            "min_width": null,
            "border": null,
            "align_items": null,
            "bottom": null,
            "_model_module": "@jupyter-widgets/base",
            "top": null,
            "grid_column": null,
            "overflow_y": null,
            "overflow_x": null,
            "grid_auto_flow": null,
            "grid_area": null,
            "grid_template_columns": null,
            "flex": null,
            "_model_name": "LayoutModel",
            "justify_items": null,
            "grid_row": null,
            "max_height": null,
            "align_content": null,
            "visibility": null,
            "align_self": null,
            "height": null,
            "min_height": null,
            "padding": null,
            "grid_auto_rows": null,
            "grid_gap": null,
            "max_width": null,
            "order": null,
            "_view_module_version": "1.2.0",
            "grid_template_areas": null,
            "object_position": null,
            "object_fit": null,
            "grid_auto_columns": null,
            "margin": null,
            "display": null,
            "left": null
          }
        },
        "80dd7499ffa042a582ab7448c0273b16": {
          "model_module": "@jupyter-widgets/controls",
          "model_name": "HBoxModel",
          "model_module_version": "1.5.0",
          "state": {
            "_view_name": "HBoxView",
            "_dom_classes": [],
            "_model_name": "HBoxModel",
            "_view_module": "@jupyter-widgets/controls",
            "_model_module_version": "1.5.0",
            "_view_count": null,
            "_view_module_version": "1.5.0",
            "box_style": "",
            "layout": "IPY_MODEL_be155f8e7f694ab197bad447cd15d4e2",
            "_model_module": "@jupyter-widgets/controls",
            "children": [
              "IPY_MODEL_b505d970d31c499bbb3e910c11ed9561",
              "IPY_MODEL_e37c23e27018434f924d5bbb96517fce"
            ]
          }
        },
        "be155f8e7f694ab197bad447cd15d4e2": {
          "model_module": "@jupyter-widgets/base",
          "model_name": "LayoutModel",
          "model_module_version": "1.2.0",
          "state": {
            "_view_name": "LayoutView",
            "grid_template_rows": null,
            "right": null,
            "justify_content": null,
            "_view_module": "@jupyter-widgets/base",
            "overflow": null,
            "_model_module_version": "1.2.0",
            "_view_count": null,
            "flex_flow": null,
            "width": null,
            "min_width": null,
            "border": null,
            "align_items": null,
            "bottom": null,
            "_model_module": "@jupyter-widgets/base",
            "top": null,
            "grid_column": null,
            "overflow_y": null,
            "overflow_x": null,
            "grid_auto_flow": null,
            "grid_area": null,
            "grid_template_columns": null,
            "flex": null,
            "_model_name": "LayoutModel",
            "justify_items": null,
            "grid_row": null,
            "max_height": null,
            "align_content": null,
            "visibility": null,
            "align_self": null,
            "height": null,
            "min_height": null,
            "padding": null,
            "grid_auto_rows": null,
            "grid_gap": null,
            "max_width": null,
            "order": null,
            "_view_module_version": "1.2.0",
            "grid_template_areas": null,
            "object_position": null,
            "object_fit": null,
            "grid_auto_columns": null,
            "margin": null,
            "display": null,
            "left": null
          }
        },
        "b505d970d31c499bbb3e910c11ed9561": {
          "model_module": "@jupyter-widgets/controls",
          "model_name": "FloatProgressModel",
          "model_module_version": "1.5.0",
          "state": {
            "_view_name": "ProgressView",
            "style": "IPY_MODEL_2eca6588129b442899b6249e77a75bca",
            "_dom_classes": [],
            "description": "",
            "_model_name": "FloatProgressModel",
            "bar_style": "info",
            "max": 1,
            "_view_module": "@jupyter-widgets/controls",
            "_model_module_version": "1.5.0",
            "value": 1,
            "_view_count": null,
            "_view_module_version": "1.5.0",
            "orientation": "horizontal",
            "min": 0,
            "description_tooltip": null,
            "_model_module": "@jupyter-widgets/controls",
            "layout": "IPY_MODEL_0698216bfb6a4c26a04802b4e5cff606"
          }
        },
        "e37c23e27018434f924d5bbb96517fce": {
          "model_module": "@jupyter-widgets/controls",
          "model_name": "HTMLModel",
          "model_module_version": "1.5.0",
          "state": {
            "_view_name": "HTMLView",
            "style": "IPY_MODEL_cee7d1aa796d4175b6a5ac5751a3844d",
            "_dom_classes": [],
            "description": "",
            "_model_name": "HTMLModel",
            "placeholder": "​",
            "_view_module": "@jupyter-widgets/controls",
            "_model_module_version": "1.5.0",
            "value": " 25000/0 [00:15&lt;00:00, 3155.57 examples/s]",
            "_view_count": null,
            "_view_module_version": "1.5.0",
            "description_tooltip": null,
            "_model_module": "@jupyter-widgets/controls",
            "layout": "IPY_MODEL_96658e29c64b43e3bad17908605100d3"
          }
        },
        "2eca6588129b442899b6249e77a75bca": {
          "model_module": "@jupyter-widgets/controls",
          "model_name": "ProgressStyleModel",
          "model_module_version": "1.5.0",
          "state": {
            "_view_name": "StyleView",
            "_model_name": "ProgressStyleModel",
            "description_width": "initial",
            "_view_module": "@jupyter-widgets/base",
            "_model_module_version": "1.5.0",
            "_view_count": null,
            "_view_module_version": "1.2.0",
            "bar_color": null,
            "_model_module": "@jupyter-widgets/controls"
          }
        },
        "0698216bfb6a4c26a04802b4e5cff606": {
          "model_module": "@jupyter-widgets/base",
          "model_name": "LayoutModel",
          "model_module_version": "1.2.0",
          "state": {
            "_view_name": "LayoutView",
            "grid_template_rows": null,
            "right": null,
            "justify_content": null,
            "_view_module": "@jupyter-widgets/base",
            "overflow": null,
            "_model_module_version": "1.2.0",
            "_view_count": null,
            "flex_flow": null,
            "width": null,
            "min_width": null,
            "border": null,
            "align_items": null,
            "bottom": null,
            "_model_module": "@jupyter-widgets/base",
            "top": null,
            "grid_column": null,
            "overflow_y": null,
            "overflow_x": null,
            "grid_auto_flow": null,
            "grid_area": null,
            "grid_template_columns": null,
            "flex": null,
            "_model_name": "LayoutModel",
            "justify_items": null,
            "grid_row": null,
            "max_height": null,
            "align_content": null,
            "visibility": null,
            "align_self": null,
            "height": null,
            "min_height": null,
            "padding": null,
            "grid_auto_rows": null,
            "grid_gap": null,
            "max_width": null,
            "order": null,
            "_view_module_version": "1.2.0",
            "grid_template_areas": null,
            "object_position": null,
            "object_fit": null,
            "grid_auto_columns": null,
            "margin": null,
            "display": null,
            "left": null
          }
        },
        "cee7d1aa796d4175b6a5ac5751a3844d": {
          "model_module": "@jupyter-widgets/controls",
          "model_name": "DescriptionStyleModel",
          "model_module_version": "1.5.0",
          "state": {
            "_view_name": "StyleView",
            "_model_name": "DescriptionStyleModel",
            "description_width": "",
            "_view_module": "@jupyter-widgets/base",
            "_model_module_version": "1.5.0",
            "_view_count": null,
            "_view_module_version": "1.2.0",
            "_model_module": "@jupyter-widgets/controls"
          }
        },
        "96658e29c64b43e3bad17908605100d3": {
          "model_module": "@jupyter-widgets/base",
          "model_name": "LayoutModel",
          "model_module_version": "1.2.0",
          "state": {
            "_view_name": "LayoutView",
            "grid_template_rows": null,
            "right": null,
            "justify_content": null,
            "_view_module": "@jupyter-widgets/base",
            "overflow": null,
            "_model_module_version": "1.2.0",
            "_view_count": null,
            "flex_flow": null,
            "width": null,
            "min_width": null,
            "border": null,
            "align_items": null,
            "bottom": null,
            "_model_module": "@jupyter-widgets/base",
            "top": null,
            "grid_column": null,
            "overflow_y": null,
            "overflow_x": null,
            "grid_auto_flow": null,
            "grid_area": null,
            "grid_template_columns": null,
            "flex": null,
            "_model_name": "LayoutModel",
            "justify_items": null,
            "grid_row": null,
            "max_height": null,
            "align_content": null,
            "visibility": null,
            "align_self": null,
            "height": null,
            "min_height": null,
            "padding": null,
            "grid_auto_rows": null,
            "grid_gap": null,
            "max_width": null,
            "order": null,
            "_view_module_version": "1.2.0",
            "grid_template_areas": null,
            "object_position": null,
            "object_fit": null,
            "grid_auto_columns": null,
            "margin": null,
            "display": null,
            "left": null
          }
        },
        "55e6ecdacc024a61b0079147b7f2c2a6": {
          "model_module": "@jupyter-widgets/controls",
          "model_name": "HBoxModel",
          "model_module_version": "1.5.0",
          "state": {
            "_view_name": "HBoxView",
            "_dom_classes": [],
            "_model_name": "HBoxModel",
            "_view_module": "@jupyter-widgets/controls",
            "_model_module_version": "1.5.0",
            "_view_count": null,
            "_view_module_version": "1.5.0",
            "box_style": "",
            "layout": "IPY_MODEL_e6dc525abd3e4845b5ee3662f912a71f",
            "_model_module": "@jupyter-widgets/controls",
            "children": [
              "IPY_MODEL_07acd2d0f8344360b8b386be2e566626",
              "IPY_MODEL_ae0bff87794447bba43bb08c5f75d638"
            ]
          }
        },
        "e6dc525abd3e4845b5ee3662f912a71f": {
          "model_module": "@jupyter-widgets/base",
          "model_name": "LayoutModel",
          "model_module_version": "1.2.0",
          "state": {
            "_view_name": "LayoutView",
            "grid_template_rows": null,
            "right": null,
            "justify_content": null,
            "_view_module": "@jupyter-widgets/base",
            "overflow": null,
            "_model_module_version": "1.2.0",
            "_view_count": null,
            "flex_flow": null,
            "width": null,
            "min_width": null,
            "border": null,
            "align_items": null,
            "bottom": null,
            "_model_module": "@jupyter-widgets/base",
            "top": null,
            "grid_column": null,
            "overflow_y": null,
            "overflow_x": null,
            "grid_auto_flow": null,
            "grid_area": null,
            "grid_template_columns": null,
            "flex": null,
            "_model_name": "LayoutModel",
            "justify_items": null,
            "grid_row": null,
            "max_height": null,
            "align_content": null,
            "visibility": null,
            "align_self": null,
            "height": null,
            "min_height": null,
            "padding": null,
            "grid_auto_rows": null,
            "grid_gap": null,
            "max_width": null,
            "order": null,
            "_view_module_version": "1.2.0",
            "grid_template_areas": null,
            "object_position": null,
            "object_fit": null,
            "grid_auto_columns": null,
            "margin": null,
            "display": null,
            "left": null
          }
        },
        "07acd2d0f8344360b8b386be2e566626": {
          "model_module": "@jupyter-widgets/controls",
          "model_name": "FloatProgressModel",
          "model_module_version": "1.5.0",
          "state": {
            "_view_name": "ProgressView",
            "style": "IPY_MODEL_f24c7ac7a8b44d9c96409944fe589e31",
            "_dom_classes": [],
            "description": " 23%",
            "_model_name": "FloatProgressModel",
            "bar_style": "danger",
            "max": 25000,
            "_view_module": "@jupyter-widgets/controls",
            "_model_module_version": "1.5.0",
            "value": 5783,
            "_view_count": null,
            "_view_module_version": "1.5.0",
            "orientation": "horizontal",
            "min": 0,
            "description_tooltip": null,
            "_model_module": "@jupyter-widgets/controls",
            "layout": "IPY_MODEL_ee7412e7fee54524876e4e8193f5d7fa"
          }
        },
        "ae0bff87794447bba43bb08c5f75d638": {
          "model_module": "@jupyter-widgets/controls",
          "model_name": "HTMLModel",
          "model_module_version": "1.5.0",
          "state": {
            "_view_name": "HTMLView",
            "style": "IPY_MODEL_3c1c329c415f4cfba28f07c9f9581fe1",
            "_dom_classes": [],
            "description": "",
            "_model_name": "HTMLModel",
            "placeholder": "​",
            "_view_module": "@jupyter-widgets/controls",
            "_model_module_version": "1.5.0",
            "value": " 5783/25000 [00:00&lt;00:00, 57827.02 examples/s]",
            "_view_count": null,
            "_view_module_version": "1.5.0",
            "description_tooltip": null,
            "_model_module": "@jupyter-widgets/controls",
            "layout": "IPY_MODEL_c04746d8acab4d35b57a03a36536c47d"
          }
        },
        "f24c7ac7a8b44d9c96409944fe589e31": {
          "model_module": "@jupyter-widgets/controls",
          "model_name": "ProgressStyleModel",
          "model_module_version": "1.5.0",
          "state": {
            "_view_name": "StyleView",
            "_model_name": "ProgressStyleModel",
            "description_width": "initial",
            "_view_module": "@jupyter-widgets/base",
            "_model_module_version": "1.5.0",
            "_view_count": null,
            "_view_module_version": "1.2.0",
            "bar_color": null,
            "_model_module": "@jupyter-widgets/controls"
          }
        },
        "ee7412e7fee54524876e4e8193f5d7fa": {
          "model_module": "@jupyter-widgets/base",
          "model_name": "LayoutModel",
          "model_module_version": "1.2.0",
          "state": {
            "_view_name": "LayoutView",
            "grid_template_rows": null,
            "right": null,
            "justify_content": null,
            "_view_module": "@jupyter-widgets/base",
            "overflow": null,
            "_model_module_version": "1.2.0",
            "_view_count": null,
            "flex_flow": null,
            "width": null,
            "min_width": null,
            "border": null,
            "align_items": null,
            "bottom": null,
            "_model_module": "@jupyter-widgets/base",
            "top": null,
            "grid_column": null,
            "overflow_y": null,
            "overflow_x": null,
            "grid_auto_flow": null,
            "grid_area": null,
            "grid_template_columns": null,
            "flex": null,
            "_model_name": "LayoutModel",
            "justify_items": null,
            "grid_row": null,
            "max_height": null,
            "align_content": null,
            "visibility": null,
            "align_self": null,
            "height": null,
            "min_height": null,
            "padding": null,
            "grid_auto_rows": null,
            "grid_gap": null,
            "max_width": null,
            "order": null,
            "_view_module_version": "1.2.0",
            "grid_template_areas": null,
            "object_position": null,
            "object_fit": null,
            "grid_auto_columns": null,
            "margin": null,
            "display": null,
            "left": null
          }
        },
        "3c1c329c415f4cfba28f07c9f9581fe1": {
          "model_module": "@jupyter-widgets/controls",
          "model_name": "DescriptionStyleModel",
          "model_module_version": "1.5.0",
          "state": {
            "_view_name": "StyleView",
            "_model_name": "DescriptionStyleModel",
            "description_width": "",
            "_view_module": "@jupyter-widgets/base",
            "_model_module_version": "1.5.0",
            "_view_count": null,
            "_view_module_version": "1.2.0",
            "_model_module": "@jupyter-widgets/controls"
          }
        },
        "c04746d8acab4d35b57a03a36536c47d": {
          "model_module": "@jupyter-widgets/base",
          "model_name": "LayoutModel",
          "model_module_version": "1.2.0",
          "state": {
            "_view_name": "LayoutView",
            "grid_template_rows": null,
            "right": null,
            "justify_content": null,
            "_view_module": "@jupyter-widgets/base",
            "overflow": null,
            "_model_module_version": "1.2.0",
            "_view_count": null,
            "flex_flow": null,
            "width": null,
            "min_width": null,
            "border": null,
            "align_items": null,
            "bottom": null,
            "_model_module": "@jupyter-widgets/base",
            "top": null,
            "grid_column": null,
            "overflow_y": null,
            "overflow_x": null,
            "grid_auto_flow": null,
            "grid_area": null,
            "grid_template_columns": null,
            "flex": null,
            "_model_name": "LayoutModel",
            "justify_items": null,
            "grid_row": null,
            "max_height": null,
            "align_content": null,
            "visibility": null,
            "align_self": null,
            "height": null,
            "min_height": null,
            "padding": null,
            "grid_auto_rows": null,
            "grid_gap": null,
            "max_width": null,
            "order": null,
            "_view_module_version": "1.2.0",
            "grid_template_areas": null,
            "object_position": null,
            "object_fit": null,
            "grid_auto_columns": null,
            "margin": null,
            "display": null,
            "left": null
          }
        },
        "ee39e46c8ae84dce9d3102025d6570b1": {
          "model_module": "@jupyter-widgets/controls",
          "model_name": "HBoxModel",
          "model_module_version": "1.5.0",
          "state": {
            "_view_name": "HBoxView",
            "_dom_classes": [],
            "_model_name": "HBoxModel",
            "_view_module": "@jupyter-widgets/controls",
            "_model_module_version": "1.5.0",
            "_view_count": null,
            "_view_module_version": "1.5.0",
            "box_style": "",
            "layout": "IPY_MODEL_f97f8b0aa74140b3881765f22f855abd",
            "_model_module": "@jupyter-widgets/controls",
            "children": [
              "IPY_MODEL_04db298d778f4cf0b8a0fc7ecc21d227",
              "IPY_MODEL_20552ff79fb746fcae8482544cec39fb"
            ]
          }
        },
        "f97f8b0aa74140b3881765f22f855abd": {
          "model_module": "@jupyter-widgets/base",
          "model_name": "LayoutModel",
          "model_module_version": "1.2.0",
          "state": {
            "_view_name": "LayoutView",
            "grid_template_rows": null,
            "right": null,
            "justify_content": null,
            "_view_module": "@jupyter-widgets/base",
            "overflow": null,
            "_model_module_version": "1.2.0",
            "_view_count": null,
            "flex_flow": null,
            "width": null,
            "min_width": null,
            "border": null,
            "align_items": null,
            "bottom": null,
            "_model_module": "@jupyter-widgets/base",
            "top": null,
            "grid_column": null,
            "overflow_y": null,
            "overflow_x": null,
            "grid_auto_flow": null,
            "grid_area": null,
            "grid_template_columns": null,
            "flex": null,
            "_model_name": "LayoutModel",
            "justify_items": null,
            "grid_row": null,
            "max_height": null,
            "align_content": null,
            "visibility": null,
            "align_self": null,
            "height": null,
            "min_height": null,
            "padding": null,
            "grid_auto_rows": null,
            "grid_gap": null,
            "max_width": null,
            "order": null,
            "_view_module_version": "1.2.0",
            "grid_template_areas": null,
            "object_position": null,
            "object_fit": null,
            "grid_auto_columns": null,
            "margin": null,
            "display": null,
            "left": null
          }
        },
        "04db298d778f4cf0b8a0fc7ecc21d227": {
          "model_module": "@jupyter-widgets/controls",
          "model_name": "FloatProgressModel",
          "model_module_version": "1.5.0",
          "state": {
            "_view_name": "ProgressView",
            "style": "IPY_MODEL_1a525a92b6f24d54901a7b0f6ae72212",
            "_dom_classes": [],
            "description": "",
            "_model_name": "FloatProgressModel",
            "bar_style": "info",
            "max": 1,
            "_view_module": "@jupyter-widgets/controls",
            "_model_module_version": "1.5.0",
            "value": 1,
            "_view_count": null,
            "_view_module_version": "1.5.0",
            "orientation": "horizontal",
            "min": 0,
            "description_tooltip": null,
            "_model_module": "@jupyter-widgets/controls",
            "layout": "IPY_MODEL_6e09bb56978e492480132609f90757f8"
          }
        },
        "20552ff79fb746fcae8482544cec39fb": {
          "model_module": "@jupyter-widgets/controls",
          "model_name": "HTMLModel",
          "model_module_version": "1.5.0",
          "state": {
            "_view_name": "HTMLView",
            "style": "IPY_MODEL_593bdc22551744aeb1c1e9b4a7d25e6f",
            "_dom_classes": [],
            "description": "",
            "_model_name": "HTMLModel",
            "placeholder": "​",
            "_view_module": "@jupyter-widgets/controls",
            "_model_module_version": "1.5.0",
            "value": " 50000/0 [00:21&lt;00:00, 3160.68 examples/s]",
            "_view_count": null,
            "_view_module_version": "1.5.0",
            "description_tooltip": null,
            "_model_module": "@jupyter-widgets/controls",
            "layout": "IPY_MODEL_663f027553d34a1ca73c34ce5d98218d"
          }
        },
        "1a525a92b6f24d54901a7b0f6ae72212": {
          "model_module": "@jupyter-widgets/controls",
          "model_name": "ProgressStyleModel",
          "model_module_version": "1.5.0",
          "state": {
            "_view_name": "StyleView",
            "_model_name": "ProgressStyleModel",
            "description_width": "initial",
            "_view_module": "@jupyter-widgets/base",
            "_model_module_version": "1.5.0",
            "_view_count": null,
            "_view_module_version": "1.2.0",
            "bar_color": null,
            "_model_module": "@jupyter-widgets/controls"
          }
        },
        "6e09bb56978e492480132609f90757f8": {
          "model_module": "@jupyter-widgets/base",
          "model_name": "LayoutModel",
          "model_module_version": "1.2.0",
          "state": {
            "_view_name": "LayoutView",
            "grid_template_rows": null,
            "right": null,
            "justify_content": null,
            "_view_module": "@jupyter-widgets/base",
            "overflow": null,
            "_model_module_version": "1.2.0",
            "_view_count": null,
            "flex_flow": null,
            "width": null,
            "min_width": null,
            "border": null,
            "align_items": null,
            "bottom": null,
            "_model_module": "@jupyter-widgets/base",
            "top": null,
            "grid_column": null,
            "overflow_y": null,
            "overflow_x": null,
            "grid_auto_flow": null,
            "grid_area": null,
            "grid_template_columns": null,
            "flex": null,
            "_model_name": "LayoutModel",
            "justify_items": null,
            "grid_row": null,
            "max_height": null,
            "align_content": null,
            "visibility": null,
            "align_self": null,
            "height": null,
            "min_height": null,
            "padding": null,
            "grid_auto_rows": null,
            "grid_gap": null,
            "max_width": null,
            "order": null,
            "_view_module_version": "1.2.0",
            "grid_template_areas": null,
            "object_position": null,
            "object_fit": null,
            "grid_auto_columns": null,
            "margin": null,
            "display": null,
            "left": null
          }
        },
        "593bdc22551744aeb1c1e9b4a7d25e6f": {
          "model_module": "@jupyter-widgets/controls",
          "model_name": "DescriptionStyleModel",
          "model_module_version": "1.5.0",
          "state": {
            "_view_name": "StyleView",
            "_model_name": "DescriptionStyleModel",
            "description_width": "",
            "_view_module": "@jupyter-widgets/base",
            "_model_module_version": "1.5.0",
            "_view_count": null,
            "_view_module_version": "1.2.0",
            "_model_module": "@jupyter-widgets/controls"
          }
        },
        "663f027553d34a1ca73c34ce5d98218d": {
          "model_module": "@jupyter-widgets/base",
          "model_name": "LayoutModel",
          "model_module_version": "1.2.0",
          "state": {
            "_view_name": "LayoutView",
            "grid_template_rows": null,
            "right": null,
            "justify_content": null,
            "_view_module": "@jupyter-widgets/base",
            "overflow": null,
            "_model_module_version": "1.2.0",
            "_view_count": null,
            "flex_flow": null,
            "width": null,
            "min_width": null,
            "border": null,
            "align_items": null,
            "bottom": null,
            "_model_module": "@jupyter-widgets/base",
            "top": null,
            "grid_column": null,
            "overflow_y": null,
            "overflow_x": null,
            "grid_auto_flow": null,
            "grid_area": null,
            "grid_template_columns": null,
            "flex": null,
            "_model_name": "LayoutModel",
            "justify_items": null,
            "grid_row": null,
            "max_height": null,
            "align_content": null,
            "visibility": null,
            "align_self": null,
            "height": null,
            "min_height": null,
            "padding": null,
            "grid_auto_rows": null,
            "grid_gap": null,
            "max_width": null,
            "order": null,
            "_view_module_version": "1.2.0",
            "grid_template_areas": null,
            "object_position": null,
            "object_fit": null,
            "grid_auto_columns": null,
            "margin": null,
            "display": null,
            "left": null
          }
        },
        "8650e95bd87a4e878c2baeafd490e71d": {
          "model_module": "@jupyter-widgets/controls",
          "model_name": "HBoxModel",
          "model_module_version": "1.5.0",
          "state": {
            "_view_name": "HBoxView",
            "_dom_classes": [],
            "_model_name": "HBoxModel",
            "_view_module": "@jupyter-widgets/controls",
            "_model_module_version": "1.5.0",
            "_view_count": null,
            "_view_module_version": "1.5.0",
            "box_style": "",
            "layout": "IPY_MODEL_d0e7fedc11db4483acdd903ed6ee5067",
            "_model_module": "@jupyter-widgets/controls",
            "children": [
              "IPY_MODEL_03a31b2bc31040298f8dd5185e8ea8b7",
              "IPY_MODEL_4e2b536e179943e0954a7de2fe23d378"
            ]
          }
        },
        "d0e7fedc11db4483acdd903ed6ee5067": {
          "model_module": "@jupyter-widgets/base",
          "model_name": "LayoutModel",
          "model_module_version": "1.2.0",
          "state": {
            "_view_name": "LayoutView",
            "grid_template_rows": null,
            "right": null,
            "justify_content": null,
            "_view_module": "@jupyter-widgets/base",
            "overflow": null,
            "_model_module_version": "1.2.0",
            "_view_count": null,
            "flex_flow": null,
            "width": null,
            "min_width": null,
            "border": null,
            "align_items": null,
            "bottom": null,
            "_model_module": "@jupyter-widgets/base",
            "top": null,
            "grid_column": null,
            "overflow_y": null,
            "overflow_x": null,
            "grid_auto_flow": null,
            "grid_area": null,
            "grid_template_columns": null,
            "flex": null,
            "_model_name": "LayoutModel",
            "justify_items": null,
            "grid_row": null,
            "max_height": null,
            "align_content": null,
            "visibility": null,
            "align_self": null,
            "height": null,
            "min_height": null,
            "padding": null,
            "grid_auto_rows": null,
            "grid_gap": null,
            "max_width": null,
            "order": null,
            "_view_module_version": "1.2.0",
            "grid_template_areas": null,
            "object_position": null,
            "object_fit": null,
            "grid_auto_columns": null,
            "margin": null,
            "display": null,
            "left": null
          }
        },
        "03a31b2bc31040298f8dd5185e8ea8b7": {
          "model_module": "@jupyter-widgets/controls",
          "model_name": "FloatProgressModel",
          "model_module_version": "1.5.0",
          "state": {
            "_view_name": "ProgressView",
            "style": "IPY_MODEL_e662b3d24497482bb04d01aaeac7d04b",
            "_dom_classes": [],
            "description": " 82%",
            "_model_name": "FloatProgressModel",
            "bar_style": "danger",
            "max": 50000,
            "_view_module": "@jupyter-widgets/controls",
            "_model_module_version": "1.5.0",
            "value": 41216,
            "_view_count": null,
            "_view_module_version": "1.5.0",
            "orientation": "horizontal",
            "min": 0,
            "description_tooltip": null,
            "_model_module": "@jupyter-widgets/controls",
            "layout": "IPY_MODEL_da3e58626011477fb948954edaec1e70"
          }
        },
        "4e2b536e179943e0954a7de2fe23d378": {
          "model_module": "@jupyter-widgets/controls",
          "model_name": "HTMLModel",
          "model_module_version": "1.5.0",
          "state": {
            "_view_name": "HTMLView",
            "style": "IPY_MODEL_942d11237d9946e98415a8208ff062c0",
            "_dom_classes": [],
            "description": "",
            "_model_name": "HTMLModel",
            "placeholder": "​",
            "_view_module": "@jupyter-widgets/controls",
            "_model_module_version": "1.5.0",
            "value": " 41216/50000 [00:00&lt;00:06, 1322.06 examples/s]",
            "_view_count": null,
            "_view_module_version": "1.5.0",
            "description_tooltip": null,
            "_model_module": "@jupyter-widgets/controls",
            "layout": "IPY_MODEL_d6af8deec471493b81887f19b6c97277"
          }
        },
        "e662b3d24497482bb04d01aaeac7d04b": {
          "model_module": "@jupyter-widgets/controls",
          "model_name": "ProgressStyleModel",
          "model_module_version": "1.5.0",
          "state": {
            "_view_name": "StyleView",
            "_model_name": "ProgressStyleModel",
            "description_width": "initial",
            "_view_module": "@jupyter-widgets/base",
            "_model_module_version": "1.5.0",
            "_view_count": null,
            "_view_module_version": "1.2.0",
            "bar_color": null,
            "_model_module": "@jupyter-widgets/controls"
          }
        },
        "da3e58626011477fb948954edaec1e70": {
          "model_module": "@jupyter-widgets/base",
          "model_name": "LayoutModel",
          "model_module_version": "1.2.0",
          "state": {
            "_view_name": "LayoutView",
            "grid_template_rows": null,
            "right": null,
            "justify_content": null,
            "_view_module": "@jupyter-widgets/base",
            "overflow": null,
            "_model_module_version": "1.2.0",
            "_view_count": null,
            "flex_flow": null,
            "width": null,
            "min_width": null,
            "border": null,
            "align_items": null,
            "bottom": null,
            "_model_module": "@jupyter-widgets/base",
            "top": null,
            "grid_column": null,
            "overflow_y": null,
            "overflow_x": null,
            "grid_auto_flow": null,
            "grid_area": null,
            "grid_template_columns": null,
            "flex": null,
            "_model_name": "LayoutModel",
            "justify_items": null,
            "grid_row": null,
            "max_height": null,
            "align_content": null,
            "visibility": null,
            "align_self": null,
            "height": null,
            "min_height": null,
            "padding": null,
            "grid_auto_rows": null,
            "grid_gap": null,
            "max_width": null,
            "order": null,
            "_view_module_version": "1.2.0",
            "grid_template_areas": null,
            "object_position": null,
            "object_fit": null,
            "grid_auto_columns": null,
            "margin": null,
            "display": null,
            "left": null
          }
        },
        "942d11237d9946e98415a8208ff062c0": {
          "model_module": "@jupyter-widgets/controls",
          "model_name": "DescriptionStyleModel",
          "model_module_version": "1.5.0",
          "state": {
            "_view_name": "StyleView",
            "_model_name": "DescriptionStyleModel",
            "description_width": "",
            "_view_module": "@jupyter-widgets/base",
            "_model_module_version": "1.5.0",
            "_view_count": null,
            "_view_module_version": "1.2.0",
            "_model_module": "@jupyter-widgets/controls"
          }
        },
        "d6af8deec471493b81887f19b6c97277": {
          "model_module": "@jupyter-widgets/base",
          "model_name": "LayoutModel",
          "model_module_version": "1.2.0",
          "state": {
            "_view_name": "LayoutView",
            "grid_template_rows": null,
            "right": null,
            "justify_content": null,
            "_view_module": "@jupyter-widgets/base",
            "overflow": null,
            "_model_module_version": "1.2.0",
            "_view_count": null,
            "flex_flow": null,
            "width": null,
            "min_width": null,
            "border": null,
            "align_items": null,
            "bottom": null,
            "_model_module": "@jupyter-widgets/base",
            "top": null,
            "grid_column": null,
            "overflow_y": null,
            "overflow_x": null,
            "grid_auto_flow": null,
            "grid_area": null,
            "grid_template_columns": null,
            "flex": null,
            "_model_name": "LayoutModel",
            "justify_items": null,
            "grid_row": null,
            "max_height": null,
            "align_content": null,
            "visibility": null,
            "align_self": null,
            "height": null,
            "min_height": null,
            "padding": null,
            "grid_auto_rows": null,
            "grid_gap": null,
            "max_width": null,
            "order": null,
            "_view_module_version": "1.2.0",
            "grid_template_areas": null,
            "object_position": null,
            "object_fit": null,
            "grid_auto_columns": null,
            "margin": null,
            "display": null,
            "left": null
          }
        }
      }
    },
    "accelerator": "GPU"
  },
  "cells": [
    {
      "cell_type": "code",
      "metadata": {
        "id": "UoZrhswLzPwR"
      },
      "source": [
        "import tensorflow as tf\n",
        "import tensorflow_datasets as tfds\n",
        "import numpy as np\n",
        "from tensorflow.keras.preprocessing.sequence import pad_sequences\n",
        "from sklearn.model_selection import train_test_split\n",
        "import tensorflow as tf\n",
        "from tensorflow import keras\n",
        "from keras.preprocessing.text import Tokenizer"
      ],
      "execution_count": null,
      "outputs": []
    },
    {
      "cell_type": "code",
      "metadata": {
        "id": "FU0F_mwwJ5wV"
      },
      "source": [
        "mnist_data, info = tfds.load(\"fashion_mnist\", with_info='true')"
      ],
      "execution_count": null,
      "outputs": []
    },
    {
      "cell_type": "code",
      "metadata": {
        "colab": {
          "base_uri": "https://localhost:8080/"
        },
        "id": "Gh1w6hk6Kgce",
        "outputId": "b75acf4a-ea17-47db-8721-97d30280dddb"
      },
      "source": [
        "print(info)"
      ],
      "execution_count": null,
      "outputs": [
        {
          "output_type": "stream",
          "text": [
            "tfds.core.DatasetInfo(\n",
            "    name='fashion_mnist',\n",
            "    version=3.0.1,\n",
            "    description='Fashion-MNIST is a dataset of Zalando's article images consisting of a training set of 60,000 examples and a test set of 10,000 examples. Each example is a 28x28 grayscale image, associated with a label from 10 classes.',\n",
            "    homepage='https://github.com/zalandoresearch/fashion-mnist',\n",
            "    features=FeaturesDict({\n",
            "        'image': Image(shape=(28, 28, 1), dtype=tf.uint8),\n",
            "        'label': ClassLabel(shape=(), dtype=tf.int64, num_classes=10),\n",
            "    }),\n",
            "    total_num_examples=70000,\n",
            "    splits={\n",
            "        'test': 10000,\n",
            "        'train': 60000,\n",
            "    },\n",
            "    supervised_keys=('image', 'label'),\n",
            "    citation=\"\"\"@article{DBLP:journals/corr/abs-1708-07747,\n",
            "      author    = {Han Xiao and\n",
            "                   Kashif Rasul and\n",
            "                   Roland Vollgraf},\n",
            "      title     = {Fashion-MNIST: a Novel Image Dataset for Benchmarking Machine Learning\n",
            "                   Algorithms},\n",
            "      journal   = {CoRR},\n",
            "      volume    = {abs/1708.07747},\n",
            "      year      = {2017},\n",
            "      url       = {http://arxiv.org/abs/1708.07747},\n",
            "      archivePrefix = {arXiv},\n",
            "      eprint    = {1708.07747},\n",
            "      timestamp = {Mon, 13 Aug 2018 16:47:27 +0200},\n",
            "      biburl    = {https://dblp.org/rec/bib/journals/corr/abs-1708-07747},\n",
            "      bibsource = {dblp computer science bibliography, https://dblp.org}\n",
            "    }\"\"\",\n",
            "    redistribution_info=,\n",
            ")\n",
            "\n"
          ],
          "name": "stdout"
        }
      ]
    },
    {
      "cell_type": "code",
      "metadata": {
        "id": "nZH3rfrnNxpZ"
      },
      "source": [
        ""
      ],
      "execution_count": null,
      "outputs": []
    },
    {
      "cell_type": "code",
      "metadata": {
        "colab": {
          "base_uri": "https://localhost:8080/"
        },
        "id": "wM3bTAEbOEWZ",
        "outputId": "81977123-ed92-4bfd-d545-8a079550b081"
      },
      "source": [
        "sentences = [\n",
        "             'I love dog',\n",
        "             'I love cat',\n",
        "             'I love a cat',\n",
        "             'I love a cat?'\n",
        "]\n",
        "\n",
        "tokenizer = Tokenizer(num_words=100)\n",
        "tokenizer.fit_on_texts(sentences)\n",
        "wordIndex = tokenizer.word_index\n",
        "print(wordIndex)"
      ],
      "execution_count": null,
      "outputs": [
        {
          "output_type": "stream",
          "text": [
            "{'i': 1, 'love': 2, 'cat': 3, 'a': 4, 'dog': 5}\n"
          ],
          "name": "stdout"
        }
      ]
    },
    {
      "cell_type": "code",
      "metadata": {
        "colab": {
          "base_uri": "https://localhost:8080/"
        },
        "id": "rItnmB2sPN10",
        "outputId": "1f022a7d-473a-4d14-be5a-1594e9a2d813"
      },
      "source": [
        "sentences = [\n",
        "             'I love dog',\n",
        "             'I love cat',\n",
        "             'I love a cat',\n",
        "             'I love a cat?'\n",
        "]\n",
        "\n",
        "tokenizer = Tokenizer(num_words=100)\n",
        "tokenizer.fit_on_texts(sentences)\n",
        "sqeuences = tokenizer.texts_to_sequences(sentences)\n",
        "print(sqeuences)"
      ],
      "execution_count": null,
      "outputs": [
        {
          "output_type": "stream",
          "text": [
            "[[1, 2, 5], [1, 2, 3], [1, 2, 4, 3], [1, 2, 4, 3]]\n"
          ],
          "name": "stdout"
        }
      ]
    },
    {
      "cell_type": "code",
      "metadata": {
        "colab": {
          "base_uri": "https://localhost:8080/"
        },
        "id": "Fr5b5sfMQd6P",
        "outputId": "4d78f7bc-8c43-4ca7-b481-40d69e1387bd"
      },
      "source": [
        "testData = [\n",
        "             'I love pig',\n",
        "             'I love a goat'\n",
        "]\n",
        "sqeuences = tokenizer.texts_to_sequences(testData)\n",
        "print(sqeuences)"
      ],
      "execution_count": null,
      "outputs": [
        {
          "output_type": "stream",
          "text": [
            "[[1, 2], [1, 2, 4]]\n"
          ],
          "name": "stdout"
        }
      ]
    },
    {
      "cell_type": "code",
      "metadata": {
        "colab": {
          "base_uri": "https://localhost:8080/"
        },
        "id": "eASJpievQ3gs",
        "outputId": "e4257e45-cdab-4883-aa7d-bc2984bbf443"
      },
      "source": [
        "tokenizer = Tokenizer(num_words=100, oov_token='OOV')\n",
        "tokenizer.fit_on_texts(sentences)\n",
        "sqeuences = tokenizer.texts_to_sequences(testData)\n",
        "wordIndex = tokenizer.word_index\n",
        "print(wordIndex)\n",
        "print(sqeuences)"
      ],
      "execution_count": null,
      "outputs": [
        {
          "output_type": "stream",
          "text": [
            "{'OOV': 1, 'i': 2, 'love': 3, 'cat': 4, 'a': 5, 'dog': 6}\n",
            "[[2, 3, 1], [2, 3, 5, 1]]\n"
          ],
          "name": "stdout"
        }
      ]
    },
    {
      "cell_type": "code",
      "metadata": {
        "colab": {
          "base_uri": "https://localhost:8080/",
          "height": 463,
          "referenced_widgets": [
            "48fefc88d4cd4da29aa28d1f40b02717",
            "83cf5c458f21478ab470f81ac378fa58",
            "ce6c6ccf70294010acb283fb32fadff4",
            "8ea0f5155a1043158e7b40b0e74fdc5c",
            "0e8008a410914e0b98309f84cafef551",
            "bcbf57436c0b40f9adccdfac5f461e02",
            "e7aac33ba52a4ab9a5610d2d12b01a7c",
            "6d38a4e3492a40d2804966d6e47e786b",
            "e514dc96ccbe42a3bfa09e189dbec394",
            "0771d2d8bacf4b79b2b7d34bf131652f",
            "b040ce700e03471cbf073284e6f6a0a3",
            "08705ea92e3b44e8a92ef033669e29df",
            "fab8826f3859429389f0a6b6281afce3",
            "3602330ea99c43ac892b582068ed25d1",
            "52362e95e2dd43168c8706f858744461",
            "18a9860e7f564e86a6ec79d41e13b52e",
            "881d70b3030d4a20b495928c279b6239",
            "39dc5f1499ec4dc380a991ca40e1cb15",
            "79f8242951984fa0910a7629d3316d4f",
            "2b0d0c26e3f249978349786007f29649",
            "e889317ac5c14778baeb04e896929817",
            "93ea8d6cb00649bc927d8ecedd4fe4ee",
            "b165e58b2234452e8887848f93f771ca",
            "ef556345634644fc96369e45895fa804",
            "d456b54cf7d144a985d1863ced0ea4dd",
            "e1c65cb41313484584030242fd56b82d",
            "debc40bf9a3746a79d495886f24f847a",
            "efe0b29c1df24e4794ad0bec7868dbcd",
            "eb4bc95aa22249179ca50388ee14ae71",
            "a27bf2903d73483a9569adfb6e1d6384",
            "85c52bc96b744b2f8379ce52bd9d7796",
            "98acd9146c7f47659a2b66af976e2523",
            "80dd7499ffa042a582ab7448c0273b16",
            "be155f8e7f694ab197bad447cd15d4e2",
            "b505d970d31c499bbb3e910c11ed9561",
            "e37c23e27018434f924d5bbb96517fce",
            "2eca6588129b442899b6249e77a75bca",
            "0698216bfb6a4c26a04802b4e5cff606",
            "cee7d1aa796d4175b6a5ac5751a3844d",
            "96658e29c64b43e3bad17908605100d3",
            "55e6ecdacc024a61b0079147b7f2c2a6",
            "e6dc525abd3e4845b5ee3662f912a71f",
            "07acd2d0f8344360b8b386be2e566626",
            "ae0bff87794447bba43bb08c5f75d638",
            "f24c7ac7a8b44d9c96409944fe589e31",
            "ee7412e7fee54524876e4e8193f5d7fa",
            "3c1c329c415f4cfba28f07c9f9581fe1",
            "c04746d8acab4d35b57a03a36536c47d",
            "ee39e46c8ae84dce9d3102025d6570b1",
            "f97f8b0aa74140b3881765f22f855abd",
            "04db298d778f4cf0b8a0fc7ecc21d227",
            "20552ff79fb746fcae8482544cec39fb",
            "1a525a92b6f24d54901a7b0f6ae72212",
            "6e09bb56978e492480132609f90757f8",
            "593bdc22551744aeb1c1e9b4a7d25e6f",
            "663f027553d34a1ca73c34ce5d98218d",
            "8650e95bd87a4e878c2baeafd490e71d",
            "d0e7fedc11db4483acdd903ed6ee5067",
            "03a31b2bc31040298f8dd5185e8ea8b7",
            "4e2b536e179943e0954a7de2fe23d378",
            "e662b3d24497482bb04d01aaeac7d04b",
            "da3e58626011477fb948954edaec1e70",
            "942d11237d9946e98415a8208ff062c0",
            "d6af8deec471493b81887f19b6c97277"
          ]
        },
        "id": "sejJDTs_RoXc",
        "outputId": "d03ef0c7-73fc-44e0-93e6-213ee449ed3a"
      },
      "source": [
        "tranData = tfds.load('imdb_reviews', split='train')"
      ],
      "execution_count": null,
      "outputs": [
        {
          "output_type": "stream",
          "text": [
            "\u001b[1mDownloading and preparing dataset imdb_reviews/plain_text/1.0.0 (download: 80.23 MiB, generated: Unknown size, total: 80.23 MiB) to /root/tensorflow_datasets/imdb_reviews/plain_text/1.0.0...\u001b[0m\n"
          ],
          "name": "stdout"
        },
        {
          "output_type": "display_data",
          "data": {
            "application/vnd.jupyter.widget-view+json": {
              "model_id": "48fefc88d4cd4da29aa28d1f40b02717",
              "version_minor": 0,
              "version_major": 2
            },
            "text/plain": [
              "HBox(children=(FloatProgress(value=1.0, bar_style='info', description='Dl Completed...', max=1.0, style=Progre…"
            ]
          },
          "metadata": {
            "tags": []
          }
        },
        {
          "output_type": "display_data",
          "data": {
            "application/vnd.jupyter.widget-view+json": {
              "model_id": "e514dc96ccbe42a3bfa09e189dbec394",
              "version_minor": 0,
              "version_major": 2
            },
            "text/plain": [
              "HBox(children=(FloatProgress(value=1.0, bar_style='info', description='Dl Size...', max=1.0, style=ProgressSty…"
            ]
          },
          "metadata": {
            "tags": []
          }
        },
        {
          "output_type": "stream",
          "text": [
            "\n",
            "\n",
            "\n",
            "\n"
          ],
          "name": "stdout"
        },
        {
          "output_type": "display_data",
          "data": {
            "application/vnd.jupyter.widget-view+json": {
              "model_id": "881d70b3030d4a20b495928c279b6239",
              "version_minor": 0,
              "version_major": 2
            },
            "text/plain": [
              "HBox(children=(FloatProgress(value=1.0, bar_style='info', max=1.0), HTML(value='')))"
            ]
          },
          "metadata": {
            "tags": []
          }
        },
        {
          "output_type": "stream",
          "text": [
            "\rShuffling and writing examples to /root/tensorflow_datasets/imdb_reviews/plain_text/1.0.0.incompleteQ5272G/imdb_reviews-train.tfrecord\n"
          ],
          "name": "stdout"
        },
        {
          "output_type": "display_data",
          "data": {
            "application/vnd.jupyter.widget-view+json": {
              "model_id": "d456b54cf7d144a985d1863ced0ea4dd",
              "version_minor": 0,
              "version_major": 2
            },
            "text/plain": [
              "HBox(children=(FloatProgress(value=0.0, max=25000.0), HTML(value='')))"
            ]
          },
          "metadata": {
            "tags": []
          }
        },
        {
          "output_type": "stream",
          "text": [
            "\r"
          ],
          "name": "stdout"
        },
        {
          "output_type": "display_data",
          "data": {
            "application/vnd.jupyter.widget-view+json": {
              "model_id": "80dd7499ffa042a582ab7448c0273b16",
              "version_minor": 0,
              "version_major": 2
            },
            "text/plain": [
              "HBox(children=(FloatProgress(value=1.0, bar_style='info', max=1.0), HTML(value='')))"
            ]
          },
          "metadata": {
            "tags": []
          }
        },
        {
          "output_type": "stream",
          "text": [
            "\rShuffling and writing examples to /root/tensorflow_datasets/imdb_reviews/plain_text/1.0.0.incompleteQ5272G/imdb_reviews-test.tfrecord\n"
          ],
          "name": "stdout"
        },
        {
          "output_type": "display_data",
          "data": {
            "application/vnd.jupyter.widget-view+json": {
              "model_id": "55e6ecdacc024a61b0079147b7f2c2a6",
              "version_minor": 0,
              "version_major": 2
            },
            "text/plain": [
              "HBox(children=(FloatProgress(value=0.0, max=25000.0), HTML(value='')))"
            ]
          },
          "metadata": {
            "tags": []
          }
        },
        {
          "output_type": "stream",
          "text": [
            "\r"
          ],
          "name": "stdout"
        },
        {
          "output_type": "display_data",
          "data": {
            "application/vnd.jupyter.widget-view+json": {
              "model_id": "ee39e46c8ae84dce9d3102025d6570b1",
              "version_minor": 0,
              "version_major": 2
            },
            "text/plain": [
              "HBox(children=(FloatProgress(value=1.0, bar_style='info', max=1.0), HTML(value='')))"
            ]
          },
          "metadata": {
            "tags": []
          }
        },
        {
          "output_type": "stream",
          "text": [
            "\rShuffling and writing examples to /root/tensorflow_datasets/imdb_reviews/plain_text/1.0.0.incompleteQ5272G/imdb_reviews-unsupervised.tfrecord\n"
          ],
          "name": "stdout"
        },
        {
          "output_type": "display_data",
          "data": {
            "application/vnd.jupyter.widget-view+json": {
              "model_id": "8650e95bd87a4e878c2baeafd490e71d",
              "version_minor": 0,
              "version_major": 2
            },
            "text/plain": [
              "HBox(children=(FloatProgress(value=0.0, max=50000.0), HTML(value='')))"
            ]
          },
          "metadata": {
            "tags": []
          }
        },
        {
          "output_type": "stream",
          "text": [
            "WARNING:absl:Dataset is using deprecated text encoder API which will be removed soon. Please use the plain_text version of the dataset and migrate to `tensorflow_text`.\n"
          ],
          "name": "stderr"
        },
        {
          "output_type": "stream",
          "text": [
            "\u001b[1mDataset imdb_reviews downloaded and prepared to /root/tensorflow_datasets/imdb_reviews/plain_text/1.0.0. Subsequent calls will reuse this data.\u001b[0m\n",
            "\r"
          ],
          "name": "stdout"
        }
      ]
    },
    {
      "cell_type": "code",
      "metadata": {
        "colab": {
          "base_uri": "https://localhost:8080/",
          "height": 233
        },
        "id": "C_0PBQNJTnJy",
        "outputId": "69223d25-21cf-45da-c55e-b2ac5ef1ee19"
      },
      "source": [
        "imdbSentences = list()\n",
        "for item in tranData:\n",
        "  imdbSentences.append(str(item['text']))\n",
        "\n",
        "tokenizer = Tokenizer(num_words=5000)\n",
        "tokenizer.fit_on_texts(imdbSentences)\n",
        "\n",
        "wordIndex = tokenizer.word_index\n",
        "print(wordIndex)"
      ],
      "execution_count": null,
      "outputs": [
        {
          "output_type": "error",
          "ename": "NameError",
          "evalue": "ignored",
          "traceback": [
            "\u001b[0;31m---------------------------------------------------------------------------\u001b[0m",
            "\u001b[0;31mNameError\u001b[0m                                 Traceback (most recent call last)",
            "\u001b[0;32m<ipython-input-2-2fe4273dc3d3>\u001b[0m in \u001b[0;36m<module>\u001b[0;34m()\u001b[0m\n\u001b[1;32m      1\u001b[0m \u001b[0mimdbSentences\u001b[0m \u001b[0;34m=\u001b[0m \u001b[0mlist\u001b[0m\u001b[0;34m(\u001b[0m\u001b[0;34m)\u001b[0m\u001b[0;34m\u001b[0m\u001b[0;34m\u001b[0m\u001b[0m\n\u001b[0;32m----> 2\u001b[0;31m \u001b[0;32mfor\u001b[0m \u001b[0mitem\u001b[0m \u001b[0;32min\u001b[0m \u001b[0mtranData\u001b[0m\u001b[0;34m:\u001b[0m\u001b[0;34m\u001b[0m\u001b[0;34m\u001b[0m\u001b[0m\n\u001b[0m\u001b[1;32m      3\u001b[0m   \u001b[0mimdbSentences\u001b[0m\u001b[0;34m.\u001b[0m\u001b[0mappend\u001b[0m\u001b[0;34m(\u001b[0m\u001b[0mstr\u001b[0m\u001b[0;34m(\u001b[0m\u001b[0mitem\u001b[0m\u001b[0;34m[\u001b[0m\u001b[0;34m'text'\u001b[0m\u001b[0;34m]\u001b[0m\u001b[0;34m)\u001b[0m\u001b[0;34m)\u001b[0m\u001b[0;34m\u001b[0m\u001b[0;34m\u001b[0m\u001b[0m\n\u001b[1;32m      4\u001b[0m \u001b[0;34m\u001b[0m\u001b[0m\n\u001b[1;32m      5\u001b[0m \u001b[0mtokenizer\u001b[0m \u001b[0;34m=\u001b[0m \u001b[0mTokenizer\u001b[0m\u001b[0;34m(\u001b[0m\u001b[0mnum_words\u001b[0m\u001b[0;34m=\u001b[0m\u001b[0;36m5000\u001b[0m\u001b[0;34m)\u001b[0m\u001b[0;34m\u001b[0m\u001b[0;34m\u001b[0m\u001b[0m\n",
            "\u001b[0;31mNameError\u001b[0m: name 'tranData' is not defined"
          ]
        }
      ]
    },
    {
      "cell_type": "code",
      "metadata": {
        "id": "ckTGzJdEgu0v"
      },
      "source": [
        "vocab_size = 1000\n",
        "embedding_dim = 16\n",
        "max_length = 120\n",
        "trunc_type = 'post'\n",
        "padding_type = 'post'\n",
        "oov_tok = \"<OOV>\""
      ],
      "execution_count": null,
      "outputs": []
    },
    {
      "cell_type": "code",
      "metadata": {
        "id": "NskVfRxq8k_x"
      },
      "source": [
        "import json\n",
        "with open(\"/content/sarcasmDataset.json\", 'r') as f:\n",
        "  data = json.load(f)\n",
        "\n",
        "sentences = list()\n",
        "labels = list()\n",
        "urls = list()\n",
        "\n",
        "for item in data:\n",
        "  sentence = item['headline'].lower()\n",
        "  sentences.append(sentence)\n",
        "  labels.append(item['is_sarcastic'])\n",
        "  urls.append(item['article_link'])"
      ],
      "execution_count": null,
      "outputs": []
    },
    {
      "cell_type": "code",
      "metadata": {
        "id": "IKE3KS9COM-r",
        "colab": {
          "base_uri": "https://localhost:8080/"
        },
        "outputId": "214731f5-eb34-4008-bf85-3bff3be24bef"
      },
      "source": [
        "print(len(sentences))"
      ],
      "execution_count": null,
      "outputs": [
        {
          "output_type": "stream",
          "text": [
            "28619\n"
          ],
          "name": "stdout"
        }
      ]
    },
    {
      "cell_type": "code",
      "metadata": {
        "id": "EtelYNzGEq9J"
      },
      "source": [
        "training_size = 24000\n",
        "\n",
        "training_sentences = sentences[0:training_size]\n",
        "testing_sentences = sentences[training_size:]\n",
        "training_labels = labels[0:training_size]\n",
        "testing_labels = labels[training_size:]"
      ],
      "execution_count": null,
      "outputs": []
    },
    {
      "cell_type": "code",
      "metadata": {
        "id": "0aplV7FMge4O"
      },
      "source": [
        "from tensorflow.keras.preprocessing.text import Tokenizer\n",
        "\n",
        "tokenizer = Tokenizer(num_words=1000, oov_token=\"<OOV>\")\n",
        "tokenizer.fit_on_texts(training_sentences)\n",
        "\n",
        "word_index = tokenizer.word_index"
      ],
      "execution_count": null,
      "outputs": []
    },
    {
      "cell_type": "code",
      "metadata": {
        "id": "IJadpk0KdxEO"
      },
      "source": [
        "from tensorflow.keras.preprocessing.sequence import pad_sequences\n",
        "\n",
        "training_sequences = tokenizer.texts_to_sequences(training_sentences)\n",
        "training_padded = pad_sequences(training_sequences, maxlen=120, padding=padding_type, truncating=trunc_type)\n",
        "\n",
        "testing_sequences = tokenizer.texts_to_sequences(testing_sentences)\n",
        "testing_padded = pad_sequences(testing_sequences, maxlen=max_length, padding=padding_type, truncating=trunc_type)"
      ],
      "execution_count": null,
      "outputs": []
    },
    {
      "cell_type": "code",
      "metadata": {
        "id": "FwrtfCqgg1Os"
      },
      "source": [
        "training_padded = np.array(training_padded)\n",
        "training_labels = np.array(training_labels)\n",
        "testing_padded = np.array(testing_padded)\n",
        "testing_labels = np.array(testing_labels)"
      ],
      "execution_count": null,
      "outputs": []
    },
    {
      "cell_type": "code",
      "metadata": {
        "colab": {
          "base_uri": "https://localhost:8080/"
        },
        "id": "goUKPJIJE4Pb",
        "outputId": "df4d7ef7-c344-4fae-8e5b-414988d0b1e7"
      },
      "source": [
        "model = keras.Sequential(\n",
        "    [\n",
        "     keras.layers.Embedding(10000, 16),\n",
        "     keras.layers.GlobalAveragePooling1D(),\n",
        "     keras.layers.Dense(24, activation='relu'),\n",
        "     keras.layers.Dense(1, activation='sigmoid')\n",
        "    ]\n",
        ")\n",
        "\n",
        "model.compile(loss='binary_crossentropy', optimizer='adam', metrics=['accuracy'])\n",
        "model.summary()"
      ],
      "execution_count": null,
      "outputs": [
        {
          "output_type": "stream",
          "text": [
            "Model: \"sequential\"\n",
            "_________________________________________________________________\n",
            "Layer (type)                 Output Shape              Param #   \n",
            "=================================================================\n",
            "embedding (Embedding)        (None, None, 16)          160000    \n",
            "_________________________________________________________________\n",
            "global_average_pooling1d (Gl (None, 16)                0         \n",
            "_________________________________________________________________\n",
            "dense (Dense)                (None, 24)                408       \n",
            "_________________________________________________________________\n",
            "dense_1 (Dense)              (None, 1)                 25        \n",
            "=================================================================\n",
            "Total params: 160,433\n",
            "Trainable params: 160,433\n",
            "Non-trainable params: 0\n",
            "_________________________________________________________________\n"
          ],
          "name": "stdout"
        }
      ]
    },
    {
      "cell_type": "code",
      "metadata": {
        "colab": {
          "base_uri": "https://localhost:8080/"
        },
        "id": "azA0LW04HM0C",
        "outputId": "981a4363-7c25-49d1-be26-cb5258346753"
      },
      "source": [
        "history = model.fit(training_padded, training_labels,\n",
        "          epochs=100, verbose=1,\n",
        "          validation_data=(testing_padded, testing_labels))"
      ],
      "execution_count": null,
      "outputs": [
        {
          "output_type": "stream",
          "text": [
            "Epoch 1/100\n",
            "625/625 [==============================] - 6s 6ms/step - loss: 0.6694 - accuracy: 0.5993 - val_loss: 0.5885 - val_accuracy: 0.7400\n",
            "Epoch 2/100\n",
            "625/625 [==============================] - 3s 5ms/step - loss: 0.4938 - accuracy: 0.7763 - val_loss: 0.4460 - val_accuracy: 0.7929\n",
            "Epoch 3/100\n",
            "625/625 [==============================] - 3s 5ms/step - loss: 0.4134 - accuracy: 0.8115 - val_loss: 0.4044 - val_accuracy: 0.8087\n",
            "Epoch 4/100\n",
            "625/625 [==============================] - 3s 5ms/step - loss: 0.3909 - accuracy: 0.8215 - val_loss: 0.4039 - val_accuracy: 0.8074\n",
            "Epoch 5/100\n",
            "625/625 [==============================] - 3s 5ms/step - loss: 0.3788 - accuracy: 0.8270 - val_loss: 0.4112 - val_accuracy: 0.7992\n",
            "Epoch 6/100\n",
            "625/625 [==============================] - 3s 5ms/step - loss: 0.3715 - accuracy: 0.8295 - val_loss: 0.3869 - val_accuracy: 0.8213\n",
            "Epoch 7/100\n",
            "625/625 [==============================] - 3s 5ms/step - loss: 0.3676 - accuracy: 0.8316 - val_loss: 0.3868 - val_accuracy: 0.8235\n",
            "Epoch 8/100\n",
            "625/625 [==============================] - 3s 5ms/step - loss: 0.3636 - accuracy: 0.8352 - val_loss: 0.3929 - val_accuracy: 0.8137\n",
            "Epoch 9/100\n",
            "625/625 [==============================] - 3s 5ms/step - loss: 0.3618 - accuracy: 0.8354 - val_loss: 0.3877 - val_accuracy: 0.8229\n",
            "Epoch 10/100\n",
            "625/625 [==============================] - 3s 5ms/step - loss: 0.3604 - accuracy: 0.8343 - val_loss: 0.3894 - val_accuracy: 0.8192\n",
            "Epoch 11/100\n",
            "625/625 [==============================] - 3s 5ms/step - loss: 0.3585 - accuracy: 0.8361 - val_loss: 0.3914 - val_accuracy: 0.8227\n",
            "Epoch 12/100\n",
            "625/625 [==============================] - 3s 5ms/step - loss: 0.3564 - accuracy: 0.8391 - val_loss: 0.3898 - val_accuracy: 0.8213\n",
            "Epoch 13/100\n",
            "625/625 [==============================] - 3s 5ms/step - loss: 0.3573 - accuracy: 0.8353 - val_loss: 0.3902 - val_accuracy: 0.8212\n",
            "Epoch 14/100\n",
            "625/625 [==============================] - 3s 5ms/step - loss: 0.3565 - accuracy: 0.8356 - val_loss: 0.3940 - val_accuracy: 0.8144\n",
            "Epoch 15/100\n",
            "625/625 [==============================] - 3s 5ms/step - loss: 0.3565 - accuracy: 0.8360 - val_loss: 0.3922 - val_accuracy: 0.8219\n",
            "Epoch 16/100\n",
            "625/625 [==============================] - 3s 5ms/step - loss: 0.3555 - accuracy: 0.8355 - val_loss: 0.3951 - val_accuracy: 0.8225\n",
            "Epoch 17/100\n",
            "625/625 [==============================] - 3s 5ms/step - loss: 0.3547 - accuracy: 0.8372 - val_loss: 0.3920 - val_accuracy: 0.8196\n",
            "Epoch 18/100\n",
            "625/625 [==============================] - 3s 5ms/step - loss: 0.3546 - accuracy: 0.8364 - val_loss: 0.3922 - val_accuracy: 0.8188\n",
            "Epoch 19/100\n",
            "625/625 [==============================] - 3s 5ms/step - loss: 0.3537 - accuracy: 0.8388 - val_loss: 0.3926 - val_accuracy: 0.8198\n",
            "Epoch 20/100\n",
            "625/625 [==============================] - 3s 5ms/step - loss: 0.3535 - accuracy: 0.8383 - val_loss: 0.3937 - val_accuracy: 0.8198\n",
            "Epoch 21/100\n",
            "625/625 [==============================] - 3s 5ms/step - loss: 0.3536 - accuracy: 0.8387 - val_loss: 0.3929 - val_accuracy: 0.8188\n",
            "Epoch 22/100\n",
            "625/625 [==============================] - 3s 5ms/step - loss: 0.3541 - accuracy: 0.8385 - val_loss: 0.3963 - val_accuracy: 0.8139\n",
            "Epoch 23/100\n",
            "625/625 [==============================] - 3s 5ms/step - loss: 0.3537 - accuracy: 0.8375 - val_loss: 0.3942 - val_accuracy: 0.8207\n",
            "Epoch 24/100\n",
            "625/625 [==============================] - 3s 5ms/step - loss: 0.3539 - accuracy: 0.8379 - val_loss: 0.3977 - val_accuracy: 0.8205\n",
            "Epoch 25/100\n",
            "625/625 [==============================] - 3s 5ms/step - loss: 0.3534 - accuracy: 0.8384 - val_loss: 0.3954 - val_accuracy: 0.8213\n",
            "Epoch 26/100\n",
            "625/625 [==============================] - 3s 5ms/step - loss: 0.3546 - accuracy: 0.8372 - val_loss: 0.4046 - val_accuracy: 0.8083\n",
            "Epoch 27/100\n",
            "625/625 [==============================] - 3s 5ms/step - loss: 0.3532 - accuracy: 0.8382 - val_loss: 0.3962 - val_accuracy: 0.8151\n",
            "Epoch 28/100\n",
            "625/625 [==============================] - 3s 5ms/step - loss: 0.3547 - accuracy: 0.8377 - val_loss: 0.3952 - val_accuracy: 0.8199\n",
            "Epoch 29/100\n",
            "625/625 [==============================] - 3s 5ms/step - loss: 0.3526 - accuracy: 0.8382 - val_loss: 0.4011 - val_accuracy: 0.8205\n",
            "Epoch 30/100\n",
            "625/625 [==============================] - 3s 5ms/step - loss: 0.3533 - accuracy: 0.8367 - val_loss: 0.3966 - val_accuracy: 0.8200\n",
            "Epoch 31/100\n",
            "625/625 [==============================] - 3s 5ms/step - loss: 0.3537 - accuracy: 0.8375 - val_loss: 0.3961 - val_accuracy: 0.8155\n",
            "Epoch 32/100\n",
            "625/625 [==============================] - 3s 5ms/step - loss: 0.3548 - accuracy: 0.8393 - val_loss: 0.3952 - val_accuracy: 0.8190\n",
            "Epoch 33/100\n",
            "625/625 [==============================] - 3s 5ms/step - loss: 0.3515 - accuracy: 0.8402 - val_loss: 0.3992 - val_accuracy: 0.8117\n",
            "Epoch 34/100\n",
            "625/625 [==============================] - 3s 5ms/step - loss: 0.3532 - accuracy: 0.8381 - val_loss: 0.3954 - val_accuracy: 0.8190\n",
            "Epoch 35/100\n",
            "625/625 [==============================] - 3s 5ms/step - loss: 0.3527 - accuracy: 0.8389 - val_loss: 0.4086 - val_accuracy: 0.8141\n",
            "Epoch 36/100\n",
            "625/625 [==============================] - 3s 5ms/step - loss: 0.3528 - accuracy: 0.8390 - val_loss: 0.3982 - val_accuracy: 0.8211\n",
            "Epoch 37/100\n",
            "625/625 [==============================] - 3s 5ms/step - loss: 0.3516 - accuracy: 0.8407 - val_loss: 0.3963 - val_accuracy: 0.8192\n",
            "Epoch 38/100\n",
            "625/625 [==============================] - 3s 5ms/step - loss: 0.3528 - accuracy: 0.8388 - val_loss: 0.3967 - val_accuracy: 0.8204\n",
            "Epoch 39/100\n",
            "625/625 [==============================] - 3s 5ms/step - loss: 0.3527 - accuracy: 0.8393 - val_loss: 0.3963 - val_accuracy: 0.8204\n",
            "Epoch 40/100\n",
            "625/625 [==============================] - 3s 5ms/step - loss: 0.3510 - accuracy: 0.8411 - val_loss: 0.3966 - val_accuracy: 0.8171\n",
            "Epoch 41/100\n",
            "625/625 [==============================] - 3s 5ms/step - loss: 0.3517 - accuracy: 0.8389 - val_loss: 0.4069 - val_accuracy: 0.8161\n",
            "Epoch 42/100\n",
            "625/625 [==============================] - 3s 5ms/step - loss: 0.3521 - accuracy: 0.8411 - val_loss: 0.3974 - val_accuracy: 0.8156\n",
            "Epoch 43/100\n",
            "625/625 [==============================] - 3s 5ms/step - loss: 0.3519 - accuracy: 0.8385 - val_loss: 0.4041 - val_accuracy: 0.8101\n",
            "Epoch 44/100\n",
            "625/625 [==============================] - 3s 5ms/step - loss: 0.3513 - accuracy: 0.8393 - val_loss: 0.4106 - val_accuracy: 0.8139\n",
            "Epoch 45/100\n",
            "625/625 [==============================] - 3s 5ms/step - loss: 0.3521 - accuracy: 0.8389 - val_loss: 0.4010 - val_accuracy: 0.8199\n",
            "Epoch 46/100\n",
            "625/625 [==============================] - 3s 5ms/step - loss: 0.3512 - accuracy: 0.8397 - val_loss: 0.4009 - val_accuracy: 0.8202\n",
            "Epoch 47/100\n",
            "625/625 [==============================] - 3s 5ms/step - loss: 0.3511 - accuracy: 0.8386 - val_loss: 0.3979 - val_accuracy: 0.8199\n",
            "Epoch 48/100\n",
            "625/625 [==============================] - 3s 5ms/step - loss: 0.3528 - accuracy: 0.8387 - val_loss: 0.3985 - val_accuracy: 0.8140\n",
            "Epoch 49/100\n",
            "625/625 [==============================] - 3s 5ms/step - loss: 0.3509 - accuracy: 0.8390 - val_loss: 0.3969 - val_accuracy: 0.8163\n",
            "Epoch 50/100\n",
            "625/625 [==============================] - 3s 5ms/step - loss: 0.3526 - accuracy: 0.8397 - val_loss: 0.4065 - val_accuracy: 0.8078\n",
            "Epoch 51/100\n",
            "625/625 [==============================] - 3s 5ms/step - loss: 0.3510 - accuracy: 0.8399 - val_loss: 0.4311 - val_accuracy: 0.7979\n",
            "Epoch 52/100\n",
            "625/625 [==============================] - 3s 5ms/step - loss: 0.3511 - accuracy: 0.8389 - val_loss: 0.3977 - val_accuracy: 0.8187\n",
            "Epoch 53/100\n",
            "625/625 [==============================] - 3s 5ms/step - loss: 0.3504 - accuracy: 0.8399 - val_loss: 0.3971 - val_accuracy: 0.8174\n",
            "Epoch 54/100\n",
            "625/625 [==============================] - 3s 5ms/step - loss: 0.3501 - accuracy: 0.8418 - val_loss: 0.3972 - val_accuracy: 0.8173\n",
            "Epoch 55/100\n",
            "625/625 [==============================] - 3s 5ms/step - loss: 0.3510 - accuracy: 0.8397 - val_loss: 0.3979 - val_accuracy: 0.8198\n",
            "Epoch 56/100\n",
            "625/625 [==============================] - 3s 5ms/step - loss: 0.3509 - accuracy: 0.8396 - val_loss: 0.4067 - val_accuracy: 0.8064\n",
            "Epoch 57/100\n",
            "625/625 [==============================] - 3s 5ms/step - loss: 0.3515 - accuracy: 0.8396 - val_loss: 0.3971 - val_accuracy: 0.8175\n",
            "Epoch 58/100\n",
            "625/625 [==============================] - 3s 5ms/step - loss: 0.3505 - accuracy: 0.8397 - val_loss: 0.3985 - val_accuracy: 0.8142\n",
            "Epoch 59/100\n",
            "625/625 [==============================] - 3s 5ms/step - loss: 0.3507 - accuracy: 0.8395 - val_loss: 0.3975 - val_accuracy: 0.8180\n",
            "Epoch 60/100\n",
            "625/625 [==============================] - 3s 5ms/step - loss: 0.3521 - accuracy: 0.8371 - val_loss: 0.4027 - val_accuracy: 0.8196\n",
            "Epoch 61/100\n",
            "625/625 [==============================] - 3s 5ms/step - loss: 0.3526 - accuracy: 0.8378 - val_loss: 0.4001 - val_accuracy: 0.8132\n",
            "Epoch 62/100\n",
            "625/625 [==============================] - 3s 5ms/step - loss: 0.3502 - accuracy: 0.8382 - val_loss: 0.3971 - val_accuracy: 0.8181\n",
            "Epoch 63/100\n",
            "625/625 [==============================] - 3s 5ms/step - loss: 0.3509 - accuracy: 0.8401 - val_loss: 0.3986 - val_accuracy: 0.8148\n",
            "Epoch 64/100\n",
            "625/625 [==============================] - 3s 5ms/step - loss: 0.3509 - accuracy: 0.8394 - val_loss: 0.3998 - val_accuracy: 0.8207\n",
            "Epoch 65/100\n",
            "625/625 [==============================] - 3s 5ms/step - loss: 0.3518 - accuracy: 0.8379 - val_loss: 0.3967 - val_accuracy: 0.8174\n",
            "Epoch 66/100\n",
            "625/625 [==============================] - 3s 5ms/step - loss: 0.3514 - accuracy: 0.8400 - val_loss: 0.3986 - val_accuracy: 0.8203\n",
            "Epoch 67/100\n",
            "625/625 [==============================] - 3s 5ms/step - loss: 0.3495 - accuracy: 0.8397 - val_loss: 0.3981 - val_accuracy: 0.8148\n",
            "Epoch 68/100\n",
            "625/625 [==============================] - 3s 5ms/step - loss: 0.3514 - accuracy: 0.8371 - val_loss: 0.4234 - val_accuracy: 0.8071\n",
            "Epoch 69/100\n",
            "625/625 [==============================] - 3s 5ms/step - loss: 0.3491 - accuracy: 0.8403 - val_loss: 0.4004 - val_accuracy: 0.8140\n",
            "Epoch 70/100\n",
            "625/625 [==============================] - 3s 5ms/step - loss: 0.3500 - accuracy: 0.8411 - val_loss: 0.4010 - val_accuracy: 0.8196\n",
            "Epoch 71/100\n",
            "625/625 [==============================] - 3s 5ms/step - loss: 0.3492 - accuracy: 0.8386 - val_loss: 0.3978 - val_accuracy: 0.8189\n",
            "Epoch 72/100\n",
            "625/625 [==============================] - 3s 5ms/step - loss: 0.3481 - accuracy: 0.8428 - val_loss: 0.4060 - val_accuracy: 0.8062\n",
            "Epoch 73/100\n",
            "625/625 [==============================] - 3s 5ms/step - loss: 0.3481 - accuracy: 0.8412 - val_loss: 0.3949 - val_accuracy: 0.8176\n",
            "Epoch 74/100\n",
            "625/625 [==============================] - 3s 5ms/step - loss: 0.3483 - accuracy: 0.8427 - val_loss: 0.3967 - val_accuracy: 0.8147\n",
            "Epoch 75/100\n",
            "625/625 [==============================] - 3s 5ms/step - loss: 0.3474 - accuracy: 0.8410 - val_loss: 0.3958 - val_accuracy: 0.8149\n",
            "Epoch 76/100\n",
            "625/625 [==============================] - 3s 5ms/step - loss: 0.3468 - accuracy: 0.8410 - val_loss: 0.3958 - val_accuracy: 0.8200\n",
            "Epoch 77/100\n",
            "625/625 [==============================] - 3s 5ms/step - loss: 0.3463 - accuracy: 0.8422 - val_loss: 0.4040 - val_accuracy: 0.8073\n",
            "Epoch 78/100\n",
            "625/625 [==============================] - 3s 5ms/step - loss: 0.3469 - accuracy: 0.8412 - val_loss: 0.3943 - val_accuracy: 0.8206\n",
            "Epoch 79/100\n",
            "625/625 [==============================] - 3s 5ms/step - loss: 0.3449 - accuracy: 0.8416 - val_loss: 0.4003 - val_accuracy: 0.8190\n",
            "Epoch 80/100\n",
            "625/625 [==============================] - 3s 5ms/step - loss: 0.3438 - accuracy: 0.8431 - val_loss: 0.3935 - val_accuracy: 0.8195\n",
            "Epoch 81/100\n",
            "625/625 [==============================] - 3s 5ms/step - loss: 0.3436 - accuracy: 0.8418 - val_loss: 0.3924 - val_accuracy: 0.8204\n",
            "Epoch 82/100\n",
            "625/625 [==============================] - 3s 5ms/step - loss: 0.3430 - accuracy: 0.8419 - val_loss: 0.3920 - val_accuracy: 0.8170\n",
            "Epoch 83/100\n",
            "625/625 [==============================] - 3s 5ms/step - loss: 0.3413 - accuracy: 0.8432 - val_loss: 0.3941 - val_accuracy: 0.8139\n",
            "Epoch 84/100\n",
            "625/625 [==============================] - 3s 5ms/step - loss: 0.3405 - accuracy: 0.8449 - val_loss: 0.3948 - val_accuracy: 0.8206\n",
            "Epoch 85/100\n",
            "625/625 [==============================] - 3s 5ms/step - loss: 0.3389 - accuracy: 0.8450 - val_loss: 0.3892 - val_accuracy: 0.8197\n",
            "Epoch 86/100\n",
            "625/625 [==============================] - 3s 5ms/step - loss: 0.3369 - accuracy: 0.8476 - val_loss: 0.4002 - val_accuracy: 0.8118\n",
            "Epoch 87/100\n",
            "625/625 [==============================] - 3s 5ms/step - loss: 0.3355 - accuracy: 0.8484 - val_loss: 0.3908 - val_accuracy: 0.8224\n",
            "Epoch 88/100\n",
            "625/625 [==============================] - 3s 5ms/step - loss: 0.3356 - accuracy: 0.8475 - val_loss: 0.3881 - val_accuracy: 0.8240\n",
            "Epoch 89/100\n",
            "625/625 [==============================] - 3s 5ms/step - loss: 0.3337 - accuracy: 0.8510 - val_loss: 0.3900 - val_accuracy: 0.8226\n",
            "Epoch 90/100\n",
            "625/625 [==============================] - 3s 5ms/step - loss: 0.3319 - accuracy: 0.8504 - val_loss: 0.3883 - val_accuracy: 0.8220\n",
            "Epoch 91/100\n",
            "625/625 [==============================] - 3s 5ms/step - loss: 0.3310 - accuracy: 0.8503 - val_loss: 0.3886 - val_accuracy: 0.8234\n",
            "Epoch 92/100\n",
            "625/625 [==============================] - 3s 5ms/step - loss: 0.3306 - accuracy: 0.8530 - val_loss: 0.3919 - val_accuracy: 0.8175\n",
            "Epoch 93/100\n",
            "625/625 [==============================] - 3s 5ms/step - loss: 0.3286 - accuracy: 0.8537 - val_loss: 0.3962 - val_accuracy: 0.8198\n",
            "Epoch 94/100\n",
            "625/625 [==============================] - 3s 5ms/step - loss: 0.3279 - accuracy: 0.8515 - val_loss: 0.3998 - val_accuracy: 0.8163\n",
            "Epoch 95/100\n",
            "625/625 [==============================] - 3s 5ms/step - loss: 0.3257 - accuracy: 0.8523 - val_loss: 0.3990 - val_accuracy: 0.8189\n",
            "Epoch 96/100\n",
            "625/625 [==============================] - 3s 5ms/step - loss: 0.3256 - accuracy: 0.8539 - val_loss: 0.3879 - val_accuracy: 0.8235\n",
            "Epoch 97/100\n",
            "625/625 [==============================] - 3s 5ms/step - loss: 0.3231 - accuracy: 0.8575 - val_loss: 0.3914 - val_accuracy: 0.8242\n",
            "Epoch 98/100\n",
            "625/625 [==============================] - 3s 5ms/step - loss: 0.3251 - accuracy: 0.8547 - val_loss: 0.3879 - val_accuracy: 0.8255\n",
            "Epoch 99/100\n",
            "625/625 [==============================] - 3s 5ms/step - loss: 0.3218 - accuracy: 0.8565 - val_loss: 0.3890 - val_accuracy: 0.8246\n",
            "Epoch 100/100\n",
            "625/625 [==============================] - 3s 5ms/step - loss: 0.3221 - accuracy: 0.8557 - val_loss: 0.3895 - val_accuracy: 0.8239\n"
          ],
          "name": "stdout"
        }
      ]
    },
    {
      "cell_type": "code",
      "metadata": {
        "colab": {
          "base_uri": "https://localhost:8080/",
          "height": 573
        },
        "id": "wwhe72ZOHS5P",
        "outputId": "a9c1d4dd-07ae-4750-b90c-27e0c916258a"
      },
      "source": [
        "import matplotlib.pyplot as plt\n",
        "\n",
        "plt.plot(history.history['accuracy'])\n",
        "plt.plot(history.history['val_accuracy'])\n",
        "plt.title('Model accuracy')\n",
        "plt.ylabel('Accuracy')\n",
        "plt.xlabel('Epoch')\n",
        "plt.legend(['Train', 'Test'], loc='upper left')\n",
        "plt.show()\n",
        "\n",
        "\n",
        "plt.plot(history.history['loss'])\n",
        "plt.plot(history.history['val_loss'])\n",
        "plt.title('Model loss')\n",
        "plt.ylabel('Loss')\n",
        "plt.xlabel('Epoch')\n",
        "plt.legend(['Train', 'Test'], loc='upper left')\n",
        "plt.show()"
      ],
      "execution_count": null,
      "outputs": [
        {
          "output_type": "display_data",
          "data": {
            "image/png": "[encoded data removed]",
            "text/plain": [
              "<Figure size 432x288 with 1 Axes>"
            ]
          },
          "metadata": {
            "needs_background": "light"
          }
        },
        {
          "output_type": "display_data",
          "data": {
            "image/png": "[encoded data removed]",
            "text/plain": [
              "<Figure size 432x288 with 1 Axes>"
            ]
          },
          "metadata": {
            "needs_background": "light"
          }
        }
      ]
    },
    {
      "cell_type": "code",
      "metadata": {
        "colab": {
          "base_uri": "https://localhost:8080/"
        },
        "id": "d4i_BURqEIzY",
        "outputId": "442c9799-24bf-4b9d-d096-4590ea33bda1"
      },
      "source": [
        "model = keras.Sequential(\n",
        "    [\n",
        "     keras.layers.Embedding(10000, 16),\n",
        "     keras.layers.GlobalAveragePooling1D(),\n",
        "     keras.layers.Dense(128, activation='relu'),\n",
        "     keras.layers.Dense(64, activation='relu'),\n",
        "     keras.layers.Dense(1, activation='sigmoid')\n",
        "    ]\n",
        ")\n",
        "\n",
        "model.compile(loss='binary_crossentropy', optimizer='adam', metrics=['accuracy'])\n",
        "model.summary()"
      ],
      "execution_count": null,
      "outputs": [
        {
          "output_type": "stream",
          "text": [
            "Model: \"sequential\"\n",
            "_________________________________________________________________\n",
            "Layer (type)                 Output Shape              Param #   \n",
            "=================================================================\n",
            "embedding (Embedding)        (None, None, 16)          160000    \n",
            "_________________________________________________________________\n",
            "global_average_pooling1d (Gl (None, 16)                0         \n",
            "_________________________________________________________________\n",
            "dense (Dense)                (None, 128)               2176      \n",
            "_________________________________________________________________\n",
            "dense_1 (Dense)              (None, 64)                8256      \n",
            "_________________________________________________________________\n",
            "dense_2 (Dense)              (None, 1)                 65        \n",
            "=================================================================\n",
            "Total params: 170,497\n",
            "Trainable params: 170,497\n",
            "Non-trainable params: 0\n",
            "_________________________________________________________________\n"
          ],
          "name": "stdout"
        }
      ]
    },
    {
      "cell_type": "code",
      "metadata": {
        "colab": {
          "base_uri": "https://localhost:8080/"
        },
        "id": "fvuHFwG3EoNH",
        "outputId": "564c864a-a3d2-44bc-c581-d7f000db52a1"
      },
      "source": [
        "history = model.fit(training_padded, training_labels,\n",
        "          epochs=30, verbose=1,\n",
        "          validation_data=(testing_padded, testing_labels))"
      ],
      "execution_count": null,
      "outputs": [
        {
          "output_type": "stream",
          "text": [
            "Epoch 1/30\n",
            "625/625 [==============================] - 6s 6ms/step - loss: 0.5752 - accuracy: 0.6694 - val_loss: 0.4112 - val_accuracy: 0.8078\n",
            "Epoch 2/30\n",
            "625/625 [==============================] - 3s 5ms/step - loss: 0.4022 - accuracy: 0.8125 - val_loss: 0.3897 - val_accuracy: 0.8198\n",
            "Epoch 3/30\n",
            "625/625 [==============================] - 3s 5ms/step - loss: 0.3811 - accuracy: 0.8228 - val_loss: 0.3922 - val_accuracy: 0.8151\n",
            "Epoch 4/30\n",
            "625/625 [==============================] - 3s 5ms/step - loss: 0.3730 - accuracy: 0.8263 - val_loss: 0.4100 - val_accuracy: 0.8014\n",
            "Epoch 5/30\n",
            "625/625 [==============================] - 3s 5ms/step - loss: 0.3726 - accuracy: 0.8278 - val_loss: 0.3910 - val_accuracy: 0.8161\n",
            "Epoch 6/30\n",
            "625/625 [==============================] - 3s 5ms/step - loss: 0.3653 - accuracy: 0.8331 - val_loss: 0.4087 - val_accuracy: 0.8124\n",
            "Epoch 7/30\n",
            "625/625 [==============================] - 3s 5ms/step - loss: 0.3660 - accuracy: 0.8310 - val_loss: 0.3986 - val_accuracy: 0.8109\n",
            "Epoch 8/30\n",
            "625/625 [==============================] - 3s 5ms/step - loss: 0.3658 - accuracy: 0.8321 - val_loss: 0.3929 - val_accuracy: 0.8142\n",
            "Epoch 9/30\n",
            "625/625 [==============================] - 3s 5ms/step - loss: 0.3633 - accuracy: 0.8334 - val_loss: 0.4001 - val_accuracy: 0.8097\n",
            "Epoch 10/30\n",
            "625/625 [==============================] - 3s 5ms/step - loss: 0.3662 - accuracy: 0.8316 - val_loss: 0.4091 - val_accuracy: 0.8133\n",
            "Epoch 11/30\n",
            "625/625 [==============================] - 3s 5ms/step - loss: 0.3626 - accuracy: 0.8322 - val_loss: 0.3939 - val_accuracy: 0.8214\n",
            "Epoch 12/30\n",
            "625/625 [==============================] - 3s 5ms/step - loss: 0.3617 - accuracy: 0.8354 - val_loss: 0.3923 - val_accuracy: 0.8221\n",
            "Epoch 13/30\n",
            "625/625 [==============================] - 3s 5ms/step - loss: 0.3602 - accuracy: 0.8352 - val_loss: 0.4019 - val_accuracy: 0.8081\n",
            "Epoch 14/30\n",
            "625/625 [==============================] - 3s 5ms/step - loss: 0.3617 - accuracy: 0.8342 - val_loss: 0.3965 - val_accuracy: 0.8129\n",
            "Epoch 15/30\n",
            "625/625 [==============================] - 3s 5ms/step - loss: 0.3588 - accuracy: 0.8343 - val_loss: 0.3932 - val_accuracy: 0.8185\n",
            "Epoch 16/30\n",
            "625/625 [==============================] - 3s 5ms/step - loss: 0.3595 - accuracy: 0.8345 - val_loss: 0.3939 - val_accuracy: 0.8221\n",
            "Epoch 17/30\n",
            "625/625 [==============================] - 3s 5ms/step - loss: 0.3603 - accuracy: 0.8351 - val_loss: 0.3935 - val_accuracy: 0.8205\n",
            "Epoch 18/30\n",
            "625/625 [==============================] - 3s 5ms/step - loss: 0.3601 - accuracy: 0.8371 - val_loss: 0.3990 - val_accuracy: 0.8180\n",
            "Epoch 19/30\n",
            "625/625 [==============================] - 3s 5ms/step - loss: 0.3588 - accuracy: 0.8368 - val_loss: 0.4035 - val_accuracy: 0.8095\n",
            "Epoch 20/30\n",
            "625/625 [==============================] - 3s 5ms/step - loss: 0.3580 - accuracy: 0.8368 - val_loss: 0.3960 - val_accuracy: 0.8221\n",
            "Epoch 21/30\n",
            "625/625 [==============================] - 3s 5ms/step - loss: 0.3594 - accuracy: 0.8362 - val_loss: 0.3973 - val_accuracy: 0.8162\n",
            "Epoch 22/30\n",
            "625/625 [==============================] - 3s 5ms/step - loss: 0.3582 - accuracy: 0.8340 - val_loss: 0.3935 - val_accuracy: 0.8198\n",
            "Epoch 23/30\n",
            "625/625 [==============================] - 3s 5ms/step - loss: 0.3585 - accuracy: 0.8364 - val_loss: 0.4021 - val_accuracy: 0.8108\n",
            "Epoch 24/30\n",
            "625/625 [==============================] - 3s 5ms/step - loss: 0.3580 - accuracy: 0.8339 - val_loss: 0.3949 - val_accuracy: 0.8167\n",
            "Epoch 25/30\n",
            "625/625 [==============================] - 3s 5ms/step - loss: 0.3571 - accuracy: 0.8370 - val_loss: 0.3920 - val_accuracy: 0.8166\n",
            "Epoch 26/30\n",
            "625/625 [==============================] - 3s 5ms/step - loss: 0.3543 - accuracy: 0.8361 - val_loss: 0.3974 - val_accuracy: 0.8145\n",
            "Epoch 27/30\n",
            "625/625 [==============================] - 3s 5ms/step - loss: 0.3550 - accuracy: 0.8358 - val_loss: 0.3952 - val_accuracy: 0.8192\n",
            "Epoch 28/30\n",
            "625/625 [==============================] - 3s 5ms/step - loss: 0.3525 - accuracy: 0.8356 - val_loss: 0.3933 - val_accuracy: 0.8183\n",
            "Epoch 29/30\n",
            "625/625 [==============================] - 3s 5ms/step - loss: 0.3488 - accuracy: 0.8378 - val_loss: 0.4041 - val_accuracy: 0.8178\n",
            "Epoch 30/30\n",
            "625/625 [==============================] - 3s 5ms/step - loss: 0.3446 - accuracy: 0.8399 - val_loss: 0.3963 - val_accuracy: 0.8212\n"
          ],
          "name": "stdout"
        }
      ]
    },
    {
      "cell_type": "code",
      "metadata": {
        "colab": {
          "base_uri": "https://localhost:8080/",
          "height": 573
        },
        "id": "wiGdpnTfFQKj",
        "outputId": "2e8a0094-5c57-4903-af7b-785a2499b01f"
      },
      "source": [
        "import matplotlib.pyplot as plt\n",
        "\n",
        "plt.plot(history.history['accuracy'])\n",
        "plt.plot(history.history['val_accuracy'])\n",
        "plt.title('Model accuracy')\n",
        "plt.ylabel('Accuracy')\n",
        "plt.xlabel('Epoch')\n",
        "plt.legend(['Train', 'Test'], loc='upper left')\n",
        "plt.show()\n",
        "\n",
        "\n",
        "plt.plot(history.history['loss'])\n",
        "plt.plot(history.history['val_loss'])\n",
        "plt.title('Model loss')\n",
        "plt.ylabel('Loss')\n",
        "plt.xlabel('Epoch')\n",
        "plt.legend(['Train', 'Test'], loc='upper left')\n",
        "plt.show()"
      ],
      "execution_count": null,
      "outputs": [
        {
          "output_type": "display_data",
          "data": {
            "image/png": "[encoded data removed]",
            "text/plain": [
              "<Figure size 432x288 with 1 Axes>"
            ]
          },
          "metadata": {
            "needs_background": "light"
          }
        },
        {
          "output_type": "display_data",
          "data": {
            "image/png": "[encoded data removed]",
            "text/plain": [
              "<Figure size 432x288 with 1 Axes>"
            ]
          },
          "metadata": {
            "needs_background": "light"
          }
        }
      ]
    },
    {
      "cell_type": "code",
      "metadata": {
        "colab": {
          "base_uri": "https://localhost:8080/"
        },
        "id": "GU5fJWCoFU9C",
        "outputId": "f989601a-f4c6-4e25-9667-bc617f2ab152"
      },
      "source": [
        "model = keras.Sequential(\n",
        "    [\n",
        "     keras.layers.Embedding(10000, 16),\n",
        "     keras.layers.GlobalAveragePooling1D(),\n",
        "     keras.layers.Dense(128, activation='relu'),\n",
        "     keras.layers.Dense(64, activation='relu'),\n",
        "     keras.layers.Dense(1, activation='sigmoid')\n",
        "    ]\n",
        ")\n",
        "\n",
        "model.compile(loss='binary_crossentropy', optimizer='adam', metrics=['accuracy'])\n",
        "model.summary()"
      ],
      "execution_count": null,
      "outputs": [
        {
          "output_type": "stream",
          "text": [
            "Model: \"sequential_1\"\n",
            "_________________________________________________________________\n",
            "Layer (type)                 Output Shape              Param #   \n",
            "=================================================================\n",
            "embedding_1 (Embedding)      (None, None, 16)          160000    \n",
            "_________________________________________________________________\n",
            "global_average_pooling1d_1 ( (None, 16)                0         \n",
            "_________________________________________________________________\n",
            "dense_3 (Dense)              (None, 128)               2176      \n",
            "_________________________________________________________________\n",
            "dense_4 (Dense)              (None, 64)                8256      \n",
            "_________________________________________________________________\n",
            "dense_5 (Dense)              (None, 1)                 65        \n",
            "=================================================================\n",
            "Total params: 170,497\n",
            "Trainable params: 170,497\n",
            "Non-trainable params: 0\n",
            "_________________________________________________________________\n"
          ],
          "name": "stdout"
        }
      ]
    },
    {
      "cell_type": "code",
      "metadata": {
        "colab": {
          "base_uri": "https://localhost:8080/"
        },
        "id": "LfbskH2kFaJJ",
        "outputId": "fbb92b68-a972-425f-91a0-7da454da5487"
      },
      "source": [
        "history = model.fit(training_padded, training_labels,\n",
        "          epochs=100, verbose=1,\n",
        "          validation_data=(testing_padded, testing_labels))"
      ],
      "execution_count": null,
      "outputs": [
        {
          "output_type": "stream",
          "text": [
            "Epoch 1/100\n",
            "625/625 [==============================] - 4s 6ms/step - loss: 0.5793 - accuracy: 0.6611 - val_loss: 0.4254 - val_accuracy: 0.8022\n",
            "Epoch 2/100\n",
            "625/625 [==============================] - 3s 5ms/step - loss: 0.4024 - accuracy: 0.8136 - val_loss: 0.4059 - val_accuracy: 0.8102\n",
            "Epoch 3/100\n",
            "625/625 [==============================] - 3s 5ms/step - loss: 0.3829 - accuracy: 0.8227 - val_loss: 0.3995 - val_accuracy: 0.8073\n",
            "Epoch 4/100\n",
            "625/625 [==============================] - 3s 5ms/step - loss: 0.3768 - accuracy: 0.8256 - val_loss: 0.3919 - val_accuracy: 0.8158\n",
            "Epoch 5/100\n",
            "625/625 [==============================] - 3s 5ms/step - loss: 0.3710 - accuracy: 0.8306 - val_loss: 0.3925 - val_accuracy: 0.8221\n",
            "Epoch 6/100\n",
            "625/625 [==============================] - 3s 5ms/step - loss: 0.3673 - accuracy: 0.8306 - val_loss: 0.3955 - val_accuracy: 0.8216\n",
            "Epoch 7/100\n",
            "625/625 [==============================] - 3s 5ms/step - loss: 0.3672 - accuracy: 0.8307 - val_loss: 0.3917 - val_accuracy: 0.8163\n",
            "Epoch 8/100\n",
            "625/625 [==============================] - 3s 5ms/step - loss: 0.3680 - accuracy: 0.8334 - val_loss: 0.3920 - val_accuracy: 0.8218\n",
            "Epoch 9/100\n",
            "625/625 [==============================] - 3s 5ms/step - loss: 0.3632 - accuracy: 0.8327 - val_loss: 0.4127 - val_accuracy: 0.8042\n",
            "Epoch 10/100\n",
            "625/625 [==============================] - 3s 5ms/step - loss: 0.3635 - accuracy: 0.8337 - val_loss: 0.3914 - val_accuracy: 0.8204\n",
            "Epoch 11/100\n",
            "625/625 [==============================] - 3s 5ms/step - loss: 0.3622 - accuracy: 0.8328 - val_loss: 0.3991 - val_accuracy: 0.8203\n",
            "Epoch 12/100\n",
            "625/625 [==============================] - 3s 5ms/step - loss: 0.3615 - accuracy: 0.8330 - val_loss: 0.4024 - val_accuracy: 0.8166\n",
            "Epoch 13/100\n",
            "625/625 [==============================] - 3s 5ms/step - loss: 0.3651 - accuracy: 0.8307 - val_loss: 0.4018 - val_accuracy: 0.8144\n",
            "Epoch 14/100\n",
            "625/625 [==============================] - 3s 5ms/step - loss: 0.3591 - accuracy: 0.8332 - val_loss: 0.3989 - val_accuracy: 0.8199\n",
            "Epoch 15/100\n",
            "625/625 [==============================] - 3s 5ms/step - loss: 0.3608 - accuracy: 0.8346 - val_loss: 0.3938 - val_accuracy: 0.8194\n",
            "Epoch 16/100\n",
            "625/625 [==============================] - 3s 5ms/step - loss: 0.3644 - accuracy: 0.8331 - val_loss: 0.3969 - val_accuracy: 0.8123\n",
            "Epoch 17/100\n",
            "625/625 [==============================] - 3s 5ms/step - loss: 0.3595 - accuracy: 0.8358 - val_loss: 0.3931 - val_accuracy: 0.8203\n",
            "Epoch 18/100\n",
            "625/625 [==============================] - 3s 5ms/step - loss: 0.3602 - accuracy: 0.8328 - val_loss: 0.3931 - val_accuracy: 0.8182\n",
            "Epoch 19/100\n",
            "625/625 [==============================] - 3s 5ms/step - loss: 0.3603 - accuracy: 0.8343 - val_loss: 0.4127 - val_accuracy: 0.8037\n",
            "Epoch 20/100\n",
            "625/625 [==============================] - 3s 5ms/step - loss: 0.3596 - accuracy: 0.8350 - val_loss: 0.3927 - val_accuracy: 0.8195\n",
            "Epoch 21/100\n",
            "625/625 [==============================] - 3s 5ms/step - loss: 0.3600 - accuracy: 0.8346 - val_loss: 0.4119 - val_accuracy: 0.8047\n",
            "Epoch 22/100\n",
            "625/625 [==============================] - 3s 5ms/step - loss: 0.3580 - accuracy: 0.8375 - val_loss: 0.3944 - val_accuracy: 0.8174\n",
            "Epoch 23/100\n",
            "625/625 [==============================] - 3s 5ms/step - loss: 0.3585 - accuracy: 0.8361 - val_loss: 0.3976 - val_accuracy: 0.8188\n",
            "Epoch 24/100\n",
            "625/625 [==============================] - 3s 5ms/step - loss: 0.3570 - accuracy: 0.8359 - val_loss: 0.4003 - val_accuracy: 0.8137\n",
            "Epoch 25/100\n",
            "625/625 [==============================] - 3s 5ms/step - loss: 0.3561 - accuracy: 0.8370 - val_loss: 0.3997 - val_accuracy: 0.8091\n",
            "Epoch 26/100\n",
            "625/625 [==============================] - 3s 5ms/step - loss: 0.3598 - accuracy: 0.8358 - val_loss: 0.3978 - val_accuracy: 0.8184\n",
            "Epoch 27/100\n",
            "625/625 [==============================] - 3s 5ms/step - loss: 0.3579 - accuracy: 0.8353 - val_loss: 0.3947 - val_accuracy: 0.8163\n",
            "Epoch 28/100\n",
            "625/625 [==============================] - 3s 5ms/step - loss: 0.3546 - accuracy: 0.8380 - val_loss: 0.4186 - val_accuracy: 0.8019\n",
            "Epoch 29/100\n",
            "625/625 [==============================] - 3s 5ms/step - loss: 0.3554 - accuracy: 0.8361 - val_loss: 0.3930 - val_accuracy: 0.8200\n",
            "Epoch 30/100\n",
            "625/625 [==============================] - 3s 5ms/step - loss: 0.3545 - accuracy: 0.8389 - val_loss: 0.3938 - val_accuracy: 0.8194\n",
            "Epoch 31/100\n",
            "625/625 [==============================] - 3s 5ms/step - loss: 0.3534 - accuracy: 0.8382 - val_loss: 0.4126 - val_accuracy: 0.8076\n",
            "Epoch 32/100\n",
            "625/625 [==============================] - 3s 5ms/step - loss: 0.3533 - accuracy: 0.8375 - val_loss: 0.3950 - val_accuracy: 0.8202\n",
            "Epoch 33/100\n",
            "625/625 [==============================] - 3s 5ms/step - loss: 0.3505 - accuracy: 0.8378 - val_loss: 0.3958 - val_accuracy: 0.8221\n",
            "Epoch 34/100\n",
            "625/625 [==============================] - 3s 5ms/step - loss: 0.3501 - accuracy: 0.8359 - val_loss: 0.3962 - val_accuracy: 0.8180\n",
            "Epoch 35/100\n",
            "625/625 [==============================] - 3s 5ms/step - loss: 0.3474 - accuracy: 0.8374 - val_loss: 0.4031 - val_accuracy: 0.8220\n",
            "Epoch 36/100\n",
            "625/625 [==============================] - 3s 5ms/step - loss: 0.3434 - accuracy: 0.8410 - val_loss: 0.4021 - val_accuracy: 0.8083\n",
            "Epoch 37/100\n",
            "625/625 [==============================] - 3s 5ms/step - loss: 0.3411 - accuracy: 0.8407 - val_loss: 0.3986 - val_accuracy: 0.8180\n",
            "Epoch 38/100\n",
            "625/625 [==============================] - 3s 5ms/step - loss: 0.3381 - accuracy: 0.8407 - val_loss: 0.4130 - val_accuracy: 0.8198\n",
            "Epoch 39/100\n",
            "625/625 [==============================] - 3s 5ms/step - loss: 0.3373 - accuracy: 0.8408 - val_loss: 0.4070 - val_accuracy: 0.8122\n",
            "Epoch 40/100\n",
            "625/625 [==============================] - 3s 5ms/step - loss: 0.3362 - accuracy: 0.8410 - val_loss: 0.4140 - val_accuracy: 0.8219\n",
            "Epoch 41/100\n",
            "625/625 [==============================] - 3s 5ms/step - loss: 0.3323 - accuracy: 0.8425 - val_loss: 0.4133 - val_accuracy: 0.8182\n",
            "Epoch 42/100\n",
            "625/625 [==============================] - 3s 5ms/step - loss: 0.3316 - accuracy: 0.8418 - val_loss: 0.4251 - val_accuracy: 0.8163\n",
            "Epoch 43/100\n",
            "625/625 [==============================] - 3s 5ms/step - loss: 0.3272 - accuracy: 0.8438 - val_loss: 0.4140 - val_accuracy: 0.8204\n",
            "Epoch 44/100\n",
            "625/625 [==============================] - 3s 6ms/step - loss: 0.3282 - accuracy: 0.8429 - val_loss: 0.4160 - val_accuracy: 0.8178\n",
            "Epoch 45/100\n",
            "625/625 [==============================] - 3s 5ms/step - loss: 0.3251 - accuracy: 0.8446 - val_loss: 0.4257 - val_accuracy: 0.8133\n",
            "Epoch 46/100\n",
            "625/625 [==============================] - 3s 5ms/step - loss: 0.3246 - accuracy: 0.8458 - val_loss: 0.4206 - val_accuracy: 0.8030\n",
            "Epoch 47/100\n",
            "625/625 [==============================] - 3s 5ms/step - loss: 0.3245 - accuracy: 0.8438 - val_loss: 0.4269 - val_accuracy: 0.8078\n",
            "Epoch 48/100\n",
            "625/625 [==============================] - 3s 5ms/step - loss: 0.3218 - accuracy: 0.8483 - val_loss: 0.4363 - val_accuracy: 0.8163\n",
            "Epoch 49/100\n",
            "625/625 [==============================] - 3s 5ms/step - loss: 0.3213 - accuracy: 0.8445 - val_loss: 0.4373 - val_accuracy: 0.8065\n",
            "Epoch 50/100\n",
            "625/625 [==============================] - 3s 5ms/step - loss: 0.3214 - accuracy: 0.8457 - val_loss: 0.4314 - val_accuracy: 0.8048\n",
            "Epoch 51/100\n",
            "625/625 [==============================] - 3s 5ms/step - loss: 0.3235 - accuracy: 0.8457 - val_loss: 0.4177 - val_accuracy: 0.8043\n",
            "Epoch 52/100\n",
            "625/625 [==============================] - 3s 5ms/step - loss: 0.3163 - accuracy: 0.8479 - val_loss: 0.4269 - val_accuracy: 0.8100\n",
            "Epoch 53/100\n",
            "625/625 [==============================] - 3s 5ms/step - loss: 0.3185 - accuracy: 0.8479 - val_loss: 0.4431 - val_accuracy: 0.8191\n",
            "Epoch 54/100\n",
            "625/625 [==============================] - 3s 5ms/step - loss: 0.3168 - accuracy: 0.8492 - val_loss: 0.4432 - val_accuracy: 0.8165\n",
            "Epoch 55/100\n",
            "625/625 [==============================] - 3s 5ms/step - loss: 0.3159 - accuracy: 0.8497 - val_loss: 0.4300 - val_accuracy: 0.8042\n",
            "Epoch 56/100\n",
            "625/625 [==============================] - 3s 5ms/step - loss: 0.3126 - accuracy: 0.8518 - val_loss: 0.4439 - val_accuracy: 0.8141\n",
            "Epoch 57/100\n",
            "625/625 [==============================] - 3s 5ms/step - loss: 0.3122 - accuracy: 0.8538 - val_loss: 0.4409 - val_accuracy: 0.8136\n",
            "Epoch 58/100\n",
            "625/625 [==============================] - 3s 5ms/step - loss: 0.3119 - accuracy: 0.8509 - val_loss: 0.4400 - val_accuracy: 0.8093\n",
            "Epoch 59/100\n",
            "625/625 [==============================] - 3s 5ms/step - loss: 0.3113 - accuracy: 0.8540 - val_loss: 0.4487 - val_accuracy: 0.7899\n",
            "Epoch 60/100\n",
            "625/625 [==============================] - 3s 5ms/step - loss: 0.3092 - accuracy: 0.8533 - val_loss: 0.4503 - val_accuracy: 0.8064\n",
            "Epoch 61/100\n",
            "625/625 [==============================] - 3s 5ms/step - loss: 0.3033 - accuracy: 0.8583 - val_loss: 0.4552 - val_accuracy: 0.8105\n",
            "Epoch 62/100\n",
            "625/625 [==============================] - 3s 5ms/step - loss: 0.3065 - accuracy: 0.8569 - val_loss: 0.4620 - val_accuracy: 0.8090\n",
            "Epoch 63/100\n",
            "625/625 [==============================] - 3s 5ms/step - loss: 0.3036 - accuracy: 0.8576 - val_loss: 0.4595 - val_accuracy: 0.8080\n",
            "Epoch 64/100\n",
            "625/625 [==============================] - 3s 5ms/step - loss: 0.3008 - accuracy: 0.8594 - val_loss: 0.4473 - val_accuracy: 0.8105\n",
            "Epoch 65/100\n",
            "625/625 [==============================] - 3s 5ms/step - loss: 0.2964 - accuracy: 0.8629 - val_loss: 0.4690 - val_accuracy: 0.8055\n",
            "Epoch 66/100\n",
            "625/625 [==============================] - 3s 5ms/step - loss: 0.2930 - accuracy: 0.8652 - val_loss: 0.4656 - val_accuracy: 0.8116\n",
            "Epoch 67/100\n",
            "625/625 [==============================] - 3s 5ms/step - loss: 0.2910 - accuracy: 0.8666 - val_loss: 0.4813 - val_accuracy: 0.8028\n",
            "Epoch 68/100\n",
            "625/625 [==============================] - 3s 5ms/step - loss: 0.2886 - accuracy: 0.8705 - val_loss: 0.4638 - val_accuracy: 0.8025\n",
            "Epoch 69/100\n",
            "625/625 [==============================] - 3s 5ms/step - loss: 0.2882 - accuracy: 0.8687 - val_loss: 0.4626 - val_accuracy: 0.7987\n",
            "Epoch 70/100\n",
            "625/625 [==============================] - 3s 5ms/step - loss: 0.2835 - accuracy: 0.8729 - val_loss: 0.4790 - val_accuracy: 0.8060\n",
            "Epoch 71/100\n",
            "625/625 [==============================] - 3s 5ms/step - loss: 0.2809 - accuracy: 0.8742 - val_loss: 0.4825 - val_accuracy: 0.8021\n",
            "Epoch 72/100\n",
            "625/625 [==============================] - 4s 6ms/step - loss: 0.2770 - accuracy: 0.8744 - val_loss: 0.4798 - val_accuracy: 0.8013\n",
            "Epoch 73/100\n",
            "625/625 [==============================] - 3s 5ms/step - loss: 0.2783 - accuracy: 0.8763 - val_loss: 0.4927 - val_accuracy: 0.8083\n",
            "Epoch 74/100\n",
            "625/625 [==============================] - 3s 5ms/step - loss: 0.2742 - accuracy: 0.8762 - val_loss: 0.5051 - val_accuracy: 0.8043\n",
            "Epoch 75/100\n",
            "625/625 [==============================] - 3s 5ms/step - loss: 0.2687 - accuracy: 0.8792 - val_loss: 0.5221 - val_accuracy: 0.8082\n",
            "Epoch 76/100\n",
            "625/625 [==============================] - 3s 5ms/step - loss: 0.2665 - accuracy: 0.8814 - val_loss: 0.5100 - val_accuracy: 0.8075\n",
            "Epoch 77/100\n",
            "625/625 [==============================] - 3s 6ms/step - loss: 0.2652 - accuracy: 0.8824 - val_loss: 0.5291 - val_accuracy: 0.7978\n",
            "Epoch 78/100\n",
            "625/625 [==============================] - 3s 5ms/step - loss: 0.2622 - accuracy: 0.8816 - val_loss: 0.5391 - val_accuracy: 0.8073\n",
            "Epoch 79/100\n",
            "625/625 [==============================] - 3s 5ms/step - loss: 0.2605 - accuracy: 0.8832 - val_loss: 0.5376 - val_accuracy: 0.8064\n",
            "Epoch 80/100\n",
            "625/625 [==============================] - 3s 5ms/step - loss: 0.2585 - accuracy: 0.8864 - val_loss: 0.5417 - val_accuracy: 0.8059\n",
            "Epoch 81/100\n",
            "625/625 [==============================] - 3s 5ms/step - loss: 0.2537 - accuracy: 0.8896 - val_loss: 0.5351 - val_accuracy: 0.8030\n",
            "Epoch 82/100\n",
            "625/625 [==============================] - 3s 5ms/step - loss: 0.2549 - accuracy: 0.8889 - val_loss: 0.5348 - val_accuracy: 0.7897\n",
            "Epoch 83/100\n",
            "625/625 [==============================] - 3s 5ms/step - loss: 0.2503 - accuracy: 0.8914 - val_loss: 0.5793 - val_accuracy: 0.8050\n",
            "Epoch 84/100\n",
            "625/625 [==============================] - 3s 5ms/step - loss: 0.2473 - accuracy: 0.8934 - val_loss: 0.5407 - val_accuracy: 0.8021\n",
            "Epoch 85/100\n",
            "625/625 [==============================] - 3s 5ms/step - loss: 0.2468 - accuracy: 0.8930 - val_loss: 0.5253 - val_accuracy: 0.7989\n",
            "Epoch 86/100\n",
            "625/625 [==============================] - 3s 5ms/step - loss: 0.2437 - accuracy: 0.8936 - val_loss: 0.5751 - val_accuracy: 0.8047\n",
            "Epoch 87/100\n",
            "625/625 [==============================] - 3s 6ms/step - loss: 0.2385 - accuracy: 0.8979 - val_loss: 0.5686 - val_accuracy: 0.8074\n",
            "Epoch 88/100\n",
            "625/625 [==============================] - 3s 6ms/step - loss: 0.2371 - accuracy: 0.8964 - val_loss: 0.6234 - val_accuracy: 0.8050\n",
            "Epoch 89/100\n",
            "625/625 [==============================] - 3s 5ms/step - loss: 0.2357 - accuracy: 0.9000 - val_loss: 0.5968 - val_accuracy: 0.7928\n",
            "Epoch 90/100\n",
            "625/625 [==============================] - 3s 5ms/step - loss: 0.2315 - accuracy: 0.8992 - val_loss: 0.6094 - val_accuracy: 0.8081\n",
            "Epoch 91/100\n",
            "625/625 [==============================] - 3s 5ms/step - loss: 0.2312 - accuracy: 0.8999 - val_loss: 0.6095 - val_accuracy: 0.8069\n",
            "Epoch 92/100\n",
            "625/625 [==============================] - 3s 6ms/step - loss: 0.2308 - accuracy: 0.9000 - val_loss: 0.6355 - val_accuracy: 0.8003\n",
            "Epoch 93/100\n",
            "625/625 [==============================] - 3s 5ms/step - loss: 0.2250 - accuracy: 0.9044 - val_loss: 0.5862 - val_accuracy: 0.7996\n",
            "Epoch 94/100\n",
            "625/625 [==============================] - 3s 5ms/step - loss: 0.2228 - accuracy: 0.9034 - val_loss: 0.6442 - val_accuracy: 0.8059\n",
            "Epoch 95/100\n",
            "625/625 [==============================] - 3s 5ms/step - loss: 0.2218 - accuracy: 0.9046 - val_loss: 0.6648 - val_accuracy: 0.8030\n",
            "Epoch 96/100\n",
            "625/625 [==============================] - 3s 5ms/step - loss: 0.2182 - accuracy: 0.9065 - val_loss: 0.6567 - val_accuracy: 0.8081\n",
            "Epoch 97/100\n",
            "625/625 [==============================] - 3s 5ms/step - loss: 0.2135 - accuracy: 0.9097 - val_loss: 0.5865 - val_accuracy: 0.7950\n",
            "Epoch 98/100\n",
            "625/625 [==============================] - 3s 5ms/step - loss: 0.2091 - accuracy: 0.9107 - val_loss: 0.7342 - val_accuracy: 0.7967\n",
            "Epoch 99/100\n",
            "625/625 [==============================] - 3s 5ms/step - loss: 0.2081 - accuracy: 0.9118 - val_loss: 0.7125 - val_accuracy: 0.7967\n",
            "Epoch 100/100\n",
            "625/625 [==============================] - 3s 5ms/step - loss: 0.2086 - accuracy: 0.9117 - val_loss: 0.6695 - val_accuracy: 0.8004\n"
          ],
          "name": "stdout"
        }
      ]
    },
    {
      "cell_type": "code",
      "metadata": {
        "colab": {
          "base_uri": "https://localhost:8080/",
          "height": 573
        },
        "id": "apKLDGahHgQu",
        "outputId": "2b2aa6fa-52e8-4051-be45-29e106f540e9"
      },
      "source": [
        "import matplotlib.pyplot as plt\n",
        "\n",
        "plt.plot(history.history['accuracy'])\n",
        "plt.plot(history.history['val_accuracy'])\n",
        "plt.title('Model accuracy')\n",
        "plt.ylabel('Accuracy')\n",
        "plt.xlabel('Epoch')\n",
        "plt.legend(['Train', 'Test'], loc='upper left')\n",
        "plt.show()\n",
        "\n",
        "\n",
        "plt.plot(history.history['loss'])\n",
        "plt.plot(history.history['val_loss'])\n",
        "plt.title('Model loss')\n",
        "plt.ylabel('Loss')\n",
        "plt.xlabel('Epoch')\n",
        "plt.legend(['Train', 'Test'], loc='upper left')\n",
        "plt.show()"
      ],
      "execution_count": null,
      "outputs": [
        {
          "output_type": "display_data",
          "data": {
            "image/png": "[encoded data removed]",
            "text/plain": [
              "<Figure size 432x288 with 1 Axes>"
            ]
          },
          "metadata": {
            "needs_background": "light"
          }
        },
        {
          "output_type": "display_data",
          "data": {
            "image/png": "[encoded data removed]",
            "text/plain": [
              "<Figure size 432x288 with 1 Axes>"
            ]
          },
          "metadata": {
            "needs_background": "light"
          }
        }
      ]
    },
    {
      "cell_type": "code",
      "metadata": {
        "colab": {
          "base_uri": "https://localhost:8080/"
        },
        "id": "x017TF3uK11E",
        "outputId": "94c9d09f-0fa2-4a46-c48d-f85591c5d8cf"
      },
      "source": [
        "model = keras.Sequential(\n",
        "    [\n",
        "     keras.layers.Embedding(10000, 16),\n",
        "     keras.layers.Bidirectional(keras.layers.LSTM(16)),\n",
        "     keras.layers.Dense(24, activation='relu'),\n",
        "     keras.layers.Dense(1, activation='sigmoid')\n",
        "    ]\n",
        ")\n",
        "\n",
        "model.compile(loss='binary_crossentropy', optimizer='adam', metrics=['accuracy'])\n",
        "model.summary()"
      ],
      "execution_count": null,
      "outputs": [
        {
          "output_type": "stream",
          "text": [
            "Model: \"sequential\"\n",
            "_________________________________________________________________\n",
            "Layer (type)                 Output Shape              Param #   \n",
            "=================================================================\n",
            "embedding (Embedding)        (None, None, 16)          160000    \n",
            "_________________________________________________________________\n",
            "bidirectional (Bidirectional (None, 32)                4224      \n",
            "_________________________________________________________________\n",
            "dense (Dense)                (None, 24)                792       \n",
            "_________________________________________________________________\n",
            "dense_1 (Dense)              (None, 1)                 25        \n",
            "=================================================================\n",
            "Total params: 165,041\n",
            "Trainable params: 165,041\n",
            "Non-trainable params: 0\n",
            "_________________________________________________________________\n"
          ],
          "name": "stdout"
        }
      ]
    },
    {
      "cell_type": "code",
      "metadata": {
        "colab": {
          "base_uri": "https://localhost:8080/"
        },
        "id": "IP2aoskKLIc1",
        "outputId": "e445f216-d38f-4c84-deac-4d7374e93f20"
      },
      "source": [
        "history = model.fit(training_padded, training_labels,\n",
        "          epochs=30, verbose=1,\n",
        "          validation_data=(testing_padded, testing_labels))"
      ],
      "execution_count": null,
      "outputs": [
        {
          "output_type": "stream",
          "text": [
            "Epoch 1/30\n",
            "750/750 [==============================] - 17s 12ms/step - loss: 0.4491 - accuracy: 0.7799 - val_loss: 0.3862 - val_accuracy: 0.8151\n",
            "Epoch 2/30\n",
            "750/750 [==============================] - 8s 11ms/step - loss: 0.3666 - accuracy: 0.8313 - val_loss: 0.3765 - val_accuracy: 0.8242\n",
            "Epoch 3/30\n",
            "750/750 [==============================] - 8s 11ms/step - loss: 0.3483 - accuracy: 0.8410 - val_loss: 0.3667 - val_accuracy: 0.8238\n",
            "Epoch 4/30\n",
            "750/750 [==============================] - 8s 11ms/step - loss: 0.3315 - accuracy: 0.8515 - val_loss: 0.3709 - val_accuracy: 0.8205\n",
            "Epoch 5/30\n",
            "750/750 [==============================] - 8s 11ms/step - loss: 0.3170 - accuracy: 0.8593 - val_loss: 0.3590 - val_accuracy: 0.8324\n",
            "Epoch 6/30\n",
            "750/750 [==============================] - 8s 11ms/step - loss: 0.3060 - accuracy: 0.8658 - val_loss: 0.3743 - val_accuracy: 0.8311\n",
            "Epoch 7/30\n",
            "750/750 [==============================] - 8s 11ms/step - loss: 0.2965 - accuracy: 0.8692 - val_loss: 0.3648 - val_accuracy: 0.8355\n",
            "Epoch 8/30\n",
            "750/750 [==============================] - 8s 11ms/step - loss: 0.2879 - accuracy: 0.8744 - val_loss: 0.3782 - val_accuracy: 0.8350\n",
            "Epoch 9/30\n",
            "750/750 [==============================] - 8s 11ms/step - loss: 0.2797 - accuracy: 0.8761 - val_loss: 0.3845 - val_accuracy: 0.8305\n",
            "Epoch 10/30\n",
            "750/750 [==============================] - 8s 11ms/step - loss: 0.2728 - accuracy: 0.8806 - val_loss: 0.3951 - val_accuracy: 0.8298\n",
            "Epoch 11/30\n",
            "750/750 [==============================] - 8s 11ms/step - loss: 0.2655 - accuracy: 0.8825 - val_loss: 0.4020 - val_accuracy: 0.8270\n",
            "Epoch 12/30\n",
            "750/750 [==============================] - 8s 11ms/step - loss: 0.2594 - accuracy: 0.8860 - val_loss: 0.3899 - val_accuracy: 0.8255\n",
            "Epoch 13/30\n",
            "750/750 [==============================] - 8s 11ms/step - loss: 0.2533 - accuracy: 0.8907 - val_loss: 0.3966 - val_accuracy: 0.8311\n",
            "Epoch 14/30\n",
            "750/750 [==============================] - 8s 11ms/step - loss: 0.2474 - accuracy: 0.8933 - val_loss: 0.4163 - val_accuracy: 0.8283\n",
            "Epoch 15/30\n",
            "750/750 [==============================] - 8s 11ms/step - loss: 0.2408 - accuracy: 0.8963 - val_loss: 0.4219 - val_accuracy: 0.8279\n",
            "Epoch 16/30\n",
            "750/750 [==============================] - 8s 11ms/step - loss: 0.2357 - accuracy: 0.8985 - val_loss: 0.4498 - val_accuracy: 0.8277\n",
            "Epoch 17/30\n",
            "750/750 [==============================] - 8s 11ms/step - loss: 0.2276 - accuracy: 0.9039 - val_loss: 0.4476 - val_accuracy: 0.8300\n",
            "Epoch 18/30\n",
            "750/750 [==============================] - 8s 11ms/step - loss: 0.2206 - accuracy: 0.9047 - val_loss: 0.4493 - val_accuracy: 0.8268\n",
            "Epoch 19/30\n",
            "750/750 [==============================] - 8s 11ms/step - loss: 0.2150 - accuracy: 0.9097 - val_loss: 0.4672 - val_accuracy: 0.8255\n",
            "Epoch 20/30\n",
            "750/750 [==============================] - 8s 11ms/step - loss: 0.2095 - accuracy: 0.9116 - val_loss: 0.4835 - val_accuracy: 0.8240\n",
            "Epoch 21/30\n",
            "750/750 [==============================] - 8s 11ms/step - loss: 0.2028 - accuracy: 0.9150 - val_loss: 0.4890 - val_accuracy: 0.8259\n",
            "Epoch 22/30\n",
            "750/750 [==============================] - 8s 11ms/step - loss: 0.1932 - accuracy: 0.9190 - val_loss: 0.5446 - val_accuracy: 0.8225\n",
            "Epoch 23/30\n",
            "750/750 [==============================] - 8s 11ms/step - loss: 0.1848 - accuracy: 0.9230 - val_loss: 0.5655 - val_accuracy: 0.8253\n",
            "Epoch 24/30\n",
            "750/750 [==============================] - 8s 11ms/step - loss: 0.1813 - accuracy: 0.9245 - val_loss: 0.5823 - val_accuracy: 0.8249\n",
            "Epoch 25/30\n",
            "750/750 [==============================] - 8s 11ms/step - loss: 0.1740 - accuracy: 0.9283 - val_loss: 0.6441 - val_accuracy: 0.8223\n",
            "Epoch 26/30\n",
            "750/750 [==============================] - 8s 11ms/step - loss: 0.1670 - accuracy: 0.9308 - val_loss: 0.6341 - val_accuracy: 0.8216\n",
            "Epoch 27/30\n",
            "750/750 [==============================] - 8s 11ms/step - loss: 0.1604 - accuracy: 0.9338 - val_loss: 0.6557 - val_accuracy: 0.8177\n",
            "Epoch 28/30\n",
            "750/750 [==============================] - 8s 11ms/step - loss: 0.1571 - accuracy: 0.9355 - val_loss: 0.6822 - val_accuracy: 0.8199\n",
            "Epoch 29/30\n",
            "750/750 [==============================] - 8s 11ms/step - loss: 0.1495 - accuracy: 0.9389 - val_loss: 0.7404 - val_accuracy: 0.8175\n",
            "Epoch 30/30\n",
            "750/750 [==============================] - 8s 11ms/step - loss: 0.1450 - accuracy: 0.9393 - val_loss: 0.7709 - val_accuracy: 0.8227\n"
          ],
          "name": "stdout"
        }
      ]
    },
    {
      "cell_type": "code",
      "metadata": {
        "colab": {
          "base_uri": "https://localhost:8080/",
          "height": 573
        },
        "id": "xR0UYZwwRwAi",
        "outputId": "f08361ed-3edc-425a-92fa-1d07a4fdc558"
      },
      "source": [
        "import matplotlib.pyplot as plt\n",
        "\n",
        "plt.plot(history.history['accuracy'])\n",
        "plt.plot(history.history['val_accuracy'])\n",
        "plt.title('Model accuracy')\n",
        "plt.ylabel('Accuracy')\n",
        "plt.xlabel('Epoch')\n",
        "plt.legend(['Train', 'Test'], loc='upper left')\n",
        "plt.show()\n",
        "\n",
        "plt.plot(history.history['loss'])\n",
        "plt.plot(history.history['val_loss'])\n",
        "plt.title('Model loss')\n",
        "plt.ylabel('Loss')\n",
        "plt.xlabel('Epoch')\n",
        "plt.legend(['Train', 'Test'], loc='upper left')\n",
        "plt.show()"
      ],
      "execution_count": null,
      "outputs": [
        {
          "output_type": "display_data",
          "data": {
            "image/png": "[encoded data removed]",
            "text/plain": [
              "<Figure size 432x288 with 1 Axes>"
            ]
          },
          "metadata": {
            "needs_background": "light"
          }
        },
        {
          "output_type": "display_data",
          "data": {
            "image/png": "[encoded data removed]",
            "text/plain": [
              "<Figure size 432x288 with 1 Axes>"
            ]
          },
          "metadata": {
            "needs_background": "light"
          }
        }
      ]
    },
    {
      "cell_type": "code",
      "metadata": {
        "id": "30U1EvtgLLdA"
      },
      "source": [
        "import tensorflow_hub as hub\n",
        "hubLayer = hub.KerasLayer(\n",
        "    \"https://tfhub.dev/google/tf2-preview/gnews-swivel-20dim/1\",\n",
        "    output_shape=[20],  # Outputs a tensor with shape [batch_size, 20].\n",
        "    input_shape=[],     # Expects a tensor of shape [batch_size] as input.\n",
        "    dtype=tf.string,\n",
        "    trainable=False) "
      ],
      "execution_count": null,
      "outputs": []
    },
    {
      "cell_type": "code",
      "metadata": {
        "colab": {
          "base_uri": "https://localhost:8080/"
        },
        "id": "LrjRmsk6MTCE",
        "outputId": "722f191b-eaf3-4c09-f479-cb07c10f0168"
      },
      "source": [
        "model = keras.Sequential(\n",
        "    [\n",
        "     hubLayer,\n",
        "     keras.layers.Dense(16, activation='relu'),\n",
        "     keras.layers.Dense(1, activation='sigmoid')\n",
        "    ]\n",
        ")\n",
        "\n",
        "model.compile(loss='binary_crossentropy', optimizer='adam', metrics=['accuracy'])\n",
        "model.summary()"
      ],
      "execution_count": null,
      "outputs": [
        {
          "output_type": "stream",
          "text": [
            "Model: \"sequential_1\"\n",
            "_________________________________________________________________\n",
            "Layer (type)                 Output Shape              Param #   \n",
            "=================================================================\n",
            "keras_layer_1 (KerasLayer)   (None, 20)                400020    \n",
            "_________________________________________________________________\n",
            "dense_2 (Dense)              (None, 16)                336       \n",
            "_________________________________________________________________\n",
            "dense_3 (Dense)              (None, 1)                 17        \n",
            "=================================================================\n",
            "Total params: 400,373\n",
            "Trainable params: 353\n",
            "Non-trainable params: 400,020\n",
            "_________________________________________________________________\n"
          ],
          "name": "stdout"
        }
      ]
    },
    {
      "cell_type": "code",
      "metadata": {
        "colab": {
          "base_uri": "https://localhost:8080/"
        },
        "id": "pTQhmqZ6Mi5r",
        "outputId": "39f4274a-f265-4c38-8743-48c75dcaa56f"
      },
      "source": [
        "tf.config.run_functions_eagerly(True)\n",
        "history = model.fit(training_sentences, training_labels,\n",
        "          epochs=50, verbose=1,\n",
        "          validation_data=(testing_sentences, testing_labels))"
      ],
      "execution_count": null,
      "outputs": [
        {
          "output_type": "stream",
          "text": [
            "Epoch 1/50\n",
            "  5/750 [..............................] - ETA: 10s - loss: 0.7314 - accuracy: 0.5312"
          ],
          "name": "stdout"
        },
        {
          "output_type": "stream",
          "text": [
            "/usr/local/lib/python3.7/dist-packages/tensorflow/python/data/ops/dataset_ops.py:4212: UserWarning: Even though the `tf.config.experimental_run_functions_eagerly` option is set, this option does not apply to tf.data functions. To force eager execution of tf.data functions, please use `tf.data.experimental.enable_debug_mode()`.\n",
            "  \"Even though the `tf.config.experimental_run_functions_eagerly` \"\n"
          ],
          "name": "stderr"
        },
        {
          "output_type": "stream",
          "text": [
            "750/750 [==============================] - 12s 16ms/step - loss: 0.6626 - accuracy: 0.6051 - val_loss: 0.6343 - val_accuracy: 0.6436\n",
            "Epoch 2/50\n",
            "750/750 [==============================] - 12s 16ms/step - loss: 0.6309 - accuracy: 0.6472 - val_loss: 0.6173 - val_accuracy: 0.6603\n",
            "Epoch 3/50\n",
            "750/750 [==============================] - 12s 16ms/step - loss: 0.6222 - accuracy: 0.6545 - val_loss: 0.6117 - val_accuracy: 0.6653\n",
            "Epoch 4/50\n",
            "750/750 [==============================] - 12s 16ms/step - loss: 0.6173 - accuracy: 0.6593 - val_loss: 0.6078 - val_accuracy: 0.6709\n",
            "Epoch 5/50\n",
            "750/750 [==============================] - 12s 16ms/step - loss: 0.6147 - accuracy: 0.6645 - val_loss: 0.6083 - val_accuracy: 0.6655\n",
            "Epoch 6/50\n",
            "750/750 [==============================] - 12s 17ms/step - loss: 0.6121 - accuracy: 0.6685 - val_loss: 0.6048 - val_accuracy: 0.6731\n",
            "Epoch 7/50\n",
            "750/750 [==============================] - 12s 16ms/step - loss: 0.6107 - accuracy: 0.6683 - val_loss: 0.6035 - val_accuracy: 0.6724\n",
            "Epoch 8/50\n",
            "750/750 [==============================] - 12s 16ms/step - loss: 0.6088 - accuracy: 0.6697 - val_loss: 0.6055 - val_accuracy: 0.6644\n",
            "Epoch 9/50\n",
            "750/750 [==============================] - 12s 16ms/step - loss: 0.6073 - accuracy: 0.6702 - val_loss: 0.6024 - val_accuracy: 0.6733\n",
            "Epoch 10/50\n",
            "750/750 [==============================] - 12s 16ms/step - loss: 0.6059 - accuracy: 0.6733 - val_loss: 0.6014 - val_accuracy: 0.6757\n",
            "Epoch 11/50\n",
            "750/750 [==============================] - 12s 16ms/step - loss: 0.6048 - accuracy: 0.6737 - val_loss: 0.5997 - val_accuracy: 0.6792\n",
            "Epoch 12/50\n",
            "750/750 [==============================] - 12s 16ms/step - loss: 0.6040 - accuracy: 0.6747 - val_loss: 0.6009 - val_accuracy: 0.6787\n",
            "Epoch 13/50\n",
            "750/750 [==============================] - 12s 16ms/step - loss: 0.6032 - accuracy: 0.6757 - val_loss: 0.6035 - val_accuracy: 0.6672\n",
            "Epoch 14/50\n",
            "750/750 [==============================] - 12s 16ms/step - loss: 0.6021 - accuracy: 0.6766 - val_loss: 0.6011 - val_accuracy: 0.6724\n",
            "Epoch 15/50\n",
            "750/750 [==============================] - 12s 16ms/step - loss: 0.6017 - accuracy: 0.6783 - val_loss: 0.5984 - val_accuracy: 0.6774\n",
            "Epoch 16/50\n",
            "750/750 [==============================] - 12s 16ms/step - loss: 0.6010 - accuracy: 0.6787 - val_loss: 0.5988 - val_accuracy: 0.6776\n",
            "Epoch 17/50\n",
            "750/750 [==============================] - 12s 16ms/step - loss: 0.6004 - accuracy: 0.6795 - val_loss: 0.5963 - val_accuracy: 0.6805\n",
            "Epoch 18/50\n",
            "750/750 [==============================] - 12s 16ms/step - loss: 0.5994 - accuracy: 0.6791 - val_loss: 0.5970 - val_accuracy: 0.6878\n",
            "Epoch 19/50\n",
            "750/750 [==============================] - 12s 16ms/step - loss: 0.5995 - accuracy: 0.6793 - val_loss: 0.5976 - val_accuracy: 0.6779\n",
            "Epoch 20/50\n",
            "750/750 [==============================] - 12s 16ms/step - loss: 0.5987 - accuracy: 0.6801 - val_loss: 0.5986 - val_accuracy: 0.6705\n",
            "Epoch 21/50\n",
            "750/750 [==============================] - 12s 16ms/step - loss: 0.5989 - accuracy: 0.6805 - val_loss: 0.5983 - val_accuracy: 0.6785\n",
            "Epoch 22/50\n",
            "750/750 [==============================] - 12s 16ms/step - loss: 0.5981 - accuracy: 0.6805 - val_loss: 0.5986 - val_accuracy: 0.6772\n",
            "Epoch 23/50\n",
            "750/750 [==============================] - 12s 16ms/step - loss: 0.5979 - accuracy: 0.6808 - val_loss: 0.5970 - val_accuracy: 0.6852\n",
            "Epoch 24/50\n",
            "750/750 [==============================] - 12s 16ms/step - loss: 0.5974 - accuracy: 0.6814 - val_loss: 0.5969 - val_accuracy: 0.6789\n",
            "Epoch 25/50\n",
            "750/750 [==============================] - 12s 16ms/step - loss: 0.5972 - accuracy: 0.6812 - val_loss: 0.5989 - val_accuracy: 0.6746\n",
            "Epoch 26/50\n",
            "750/750 [==============================] - 12s 16ms/step - loss: 0.5967 - accuracy: 0.6815 - val_loss: 0.5966 - val_accuracy: 0.6755\n",
            "Epoch 27/50\n",
            "750/750 [==============================] - 12s 16ms/step - loss: 0.5967 - accuracy: 0.6817 - val_loss: 0.5978 - val_accuracy: 0.6770\n",
            "Epoch 28/50\n",
            "750/750 [==============================] - 12s 16ms/step - loss: 0.5960 - accuracy: 0.6824 - val_loss: 0.6022 - val_accuracy: 0.6696\n",
            "Epoch 29/50\n",
            "750/750 [==============================] - 12s 16ms/step - loss: 0.5958 - accuracy: 0.6836 - val_loss: 0.6040 - val_accuracy: 0.6659\n",
            "Epoch 30/50\n",
            "750/750 [==============================] - 12s 16ms/step - loss: 0.5957 - accuracy: 0.6833 - val_loss: 0.5962 - val_accuracy: 0.6859\n",
            "Epoch 31/50\n",
            "750/750 [==============================] - 12s 16ms/step - loss: 0.5954 - accuracy: 0.6830 - val_loss: 0.5960 - val_accuracy: 0.6809\n",
            "Epoch 32/50\n",
            "750/750 [==============================] - 12s 16ms/step - loss: 0.5954 - accuracy: 0.6845 - val_loss: 0.5965 - val_accuracy: 0.6815\n",
            "Epoch 33/50\n",
            "750/750 [==============================] - 12s 16ms/step - loss: 0.5954 - accuracy: 0.6828 - val_loss: 0.5960 - val_accuracy: 0.6781\n",
            "Epoch 34/50\n",
            "750/750 [==============================] - 12s 16ms/step - loss: 0.5948 - accuracy: 0.6857 - val_loss: 0.5944 - val_accuracy: 0.6800\n",
            "Epoch 35/50\n",
            "750/750 [==============================] - 12s 16ms/step - loss: 0.5948 - accuracy: 0.6849 - val_loss: 0.5969 - val_accuracy: 0.6824\n",
            "Epoch 36/50\n",
            "750/750 [==============================] - 12s 16ms/step - loss: 0.5947 - accuracy: 0.6839 - val_loss: 0.5961 - val_accuracy: 0.6833\n",
            "Epoch 37/50\n",
            "750/750 [==============================] - 12s 16ms/step - loss: 0.5945 - accuracy: 0.6834 - val_loss: 0.5970 - val_accuracy: 0.6727\n",
            "Epoch 38/50\n",
            "750/750 [==============================] - 12s 16ms/step - loss: 0.5942 - accuracy: 0.6832 - val_loss: 0.5954 - val_accuracy: 0.6783\n",
            "Epoch 39/50\n",
            "750/750 [==============================] - 12s 16ms/step - loss: 0.5937 - accuracy: 0.6843 - val_loss: 0.5994 - val_accuracy: 0.6759\n",
            "Epoch 40/50\n",
            "750/750 [==============================] - 12s 16ms/step - loss: 0.5938 - accuracy: 0.6848 - val_loss: 0.5946 - val_accuracy: 0.6794\n",
            "Epoch 41/50\n",
            "750/750 [==============================] - 12s 16ms/step - loss: 0.5938 - accuracy: 0.6851 - val_loss: 0.5974 - val_accuracy: 0.6809\n",
            "Epoch 42/50\n",
            "750/750 [==============================] - 12s 16ms/step - loss: 0.5936 - accuracy: 0.6860 - val_loss: 0.5952 - val_accuracy: 0.6807\n",
            "Epoch 43/50\n",
            "750/750 [==============================] - 12s 16ms/step - loss: 0.5936 - accuracy: 0.6846 - val_loss: 0.5966 - val_accuracy: 0.6757\n",
            "Epoch 44/50\n",
            "750/750 [==============================] - 12s 16ms/step - loss: 0.5932 - accuracy: 0.6852 - val_loss: 0.5971 - val_accuracy: 0.6746\n",
            "Epoch 45/50\n",
            "750/750 [==============================] - 12s 16ms/step - loss: 0.5924 - accuracy: 0.6859 - val_loss: 0.5951 - val_accuracy: 0.6787\n",
            "Epoch 46/50\n",
            "750/750 [==============================] - 12s 16ms/step - loss: 0.5927 - accuracy: 0.6867 - val_loss: 0.5958 - val_accuracy: 0.6761\n",
            "Epoch 47/50\n",
            "750/750 [==============================] - 12s 17ms/step - loss: 0.5925 - accuracy: 0.6856 - val_loss: 0.5981 - val_accuracy: 0.6724\n",
            "Epoch 48/50\n",
            "750/750 [==============================] - 13s 17ms/step - loss: 0.5922 - accuracy: 0.6849 - val_loss: 0.5959 - val_accuracy: 0.6757\n",
            "Epoch 49/50\n",
            "750/750 [==============================] - 12s 16ms/step - loss: 0.5925 - accuracy: 0.6868 - val_loss: 0.5957 - val_accuracy: 0.6830\n",
            "Epoch 50/50\n",
            "750/750 [==============================] - 12s 16ms/step - loss: 0.5921 - accuracy: 0.6847 - val_loss: 0.5947 - val_accuracy: 0.6763\n"
          ],
          "name": "stdout"
        }
      ]
    },
    {
      "cell_type": "code",
      "metadata": {
        "colab": {
          "base_uri": "https://localhost:8080/",
          "height": 573
        },
        "id": "MAZ0QygxRwJr",
        "outputId": "a9fa6e67-5f52-4911-b981-b978b4f56cc8"
      },
      "source": [
        "import matplotlib.pyplot as plt\n",
        "\n",
        "plt.plot(history.history['accuracy'])\n",
        "plt.plot(history.history['val_accuracy'])\n",
        "plt.title('Model accuracy')\n",
        "plt.ylabel('Accuracy')\n",
        "plt.xlabel('Epoch')\n",
        "plt.legend(['Train', 'Test'], loc='upper left')\n",
        "plt.show()\n",
        "\n",
        "plt.plot(history.history['loss'])\n",
        "plt.plot(history.history['val_loss'])\n",
        "plt.title('Model loss')\n",
        "plt.ylabel('Loss')\n",
        "plt.xlabel('Epoch')\n",
        "plt.legend(['Train', 'Test'], loc='upper left')\n",
        "plt.show()"
      ],
      "execution_count": null,
      "outputs": [
        {
          "output_type": "display_data",
          "data": {
            "image/png": "[encoded data removed]",
            "text/plain": [
              "<Figure size 432x288 with 1 Axes>"
            ]
          },
          "metadata": {
            "needs_background": "light"
          }
        },
        {
          "output_type": "display_data",
          "data": {
            "image/png": "[encoded data removed]",
            "text/plain": [
              "<Figure size 432x288 with 1 Axes>"
            ]
          },
          "metadata": {
            "needs_background": "light"
          }
        }
      ]
    },
    {
      "cell_type": "code",
      "metadata": {
        "colab": {
          "base_uri": "https://localhost:8080/"
        },
        "id": "QzJLhkIKR3kZ",
        "outputId": "2dea4436-905e-4a5a-cb1f-51a032a4e39e"
      },
      "source": [
        "!wget --no-check-certificate \\\n",
        "  https://huggingface.co/stanfordnlp/glove/resolve/main/glove.twitter.27B.zip \\\n",
        "  - 0 /content/glove.zip"
      ],
      "execution_count": null,
      "outputs": [
        {
          "output_type": "stream",
          "text": [
            "--2021-08-29 22:28:15--  https://huggingface.co/stanfordnlp/glove/resolve/main/glove.twitter.27B.zip\n",
            "Resolving huggingface.co (huggingface.co)... 52.44.185.180, 34.200.164.230, 34.195.144.223, ...\n",
            "Connecting to huggingface.co (huggingface.co)|52.44.185.180|:443... connected.\n",
            "HTTP request sent, awaiting response... 302 Found\n",
            "Location: https://cdn-lfs.huggingface.co/stanfordnlp/glove/3123e7f5c3f6a30095d413b12fc3284bbf717acd2a9bed63d1c7c13bf5223352 [following]\n",
            "--2021-08-29 22:28:15--  https://cdn-lfs.huggingface.co/stanfordnlp/glove/3123e7f5c3f6a30095d413b12fc3284bbf717acd2a9bed63d1c7c13bf5223352\n",
            "Resolving cdn-lfs.huggingface.co (cdn-lfs.huggingface.co)... 52.85.224.78, 52.85.224.95, 52.85.224.129, ...\n",
            "Connecting to cdn-lfs.huggingface.co (cdn-lfs.huggingface.co)|52.85.224.78|:443... connected.\n",
            "HTTP request sent, awaiting response... 200 OK\n",
            "Length: 1520408741 (1.4G) [application/zip]\n",
            "Saving to: ‘glove.twitter.27B.zip’\n",
            "\n",
            "glove.twitter.27B.z 100%[===================>]   1.42G  76.7MB/s    in 18s     \n",
            "\n",
            "2021-08-29 22:28:34 (80.1 MB/s) - ‘glove.twitter.27B.zip’ saved [1520408741/1520408741]\n",
            "\n",
            "--2021-08-29 22:28:34--  http://-/\n",
            "Resolving - (-)... failed: Name or service not known.\n",
            "wget: unable to resolve host address ‘-’\n",
            "--2021-08-29 22:28:34--  http://0/\n",
            "Resolving 0 (0)... 0.0.0.0\n",
            "Connecting to 0 (0)|0.0.0.0|:80... failed: Connection refused.\n",
            "/content/glove.zip: Scheme missing.\n",
            "FINISHED --2021-08-29 22:28:34--\n",
            "Total wall clock time: 19s\n",
            "Downloaded: 1 files, 1.4G in 18s (80.1 MB/s)\n"
          ],
          "name": "stdout"
        }
      ]
    },
    {
      "cell_type": "code",
      "metadata": {
        "id": "FM26cFNcZC0o"
      },
      "source": [
        "import os\n",
        "import zipfile\n",
        "\n",
        "f = '/content/glove.twitter.27B.zip'\n",
        "zip = zipfile.ZipFile(f, 'r')\n",
        "zip.extractall('/content')\n",
        "zip.close()"
      ],
      "execution_count": null,
      "outputs": []
    },
    {
      "cell_type": "code",
      "metadata": {
        "id": "iab7l7cvZ59X"
      },
      "source": [
        "glove_embdding = dict()\n",
        "with open('/content/glove.twitter.27B.25d.txt', 'r') as f:\n",
        "  for line in f:\n",
        "    values = line.split()\n",
        "    word = values[0]\n",
        "    coefs = np.asarray(values[1:], dtype='float32')\n",
        "    glove_embdding[word] = coefs"
      ],
      "execution_count": null,
      "outputs": []
    },
    {
      "cell_type": "code",
      "metadata": {
        "colab": {
          "base_uri": "https://localhost:8080/"
        },
        "id": "LLm0nJp_axql",
        "outputId": "853df66f-7275-442d-f3e1-3434d902bdb9"
      },
      "source": [
        "print(glove_embdding['frog'])"
      ],
      "execution_count": null,
      "outputs": [
        {
          "output_type": "stream",
          "text": [
            "[-1.2158   -0.74924   0.91941   0.72985  -0.12917  -0.19555   1.2365\n",
            " -0.77196   0.85161   0.11922   0.16816   0.33334  -2.0845   -0.53471\n",
            "  0.013538  0.18178   1.2831    0.089331  0.57264   0.50694   0.27134\n",
            "  0.66504   0.54097  -0.58377   0.67097 ]\n"
          ],
          "name": "stdout"
        }
      ]
    },
    {
      "cell_type": "code",
      "metadata": {
        "id": "3gSHvWQka2Gp"
      },
      "source": [
        "vocab_size = 13200\n",
        "embedding_dim = 25\n",
        "\n",
        "embedding_matrix = np.zeros((vocab_size, embedding_dim))\n",
        "for word, index in tokenizer.word_index.items():\n",
        "  if index > vocab_size - 1:\n",
        "    break\n",
        "  else:\n",
        "    embedding_vector = glove_embdding.get(word)\n",
        "    if embedding_vector is not None:\n",
        "      embedding_matrix[index] = embedding_vector"
      ],
      "execution_count": null,
      "outputs": []
    },
    {
      "cell_type": "code",
      "metadata": {
        "colab": {
          "base_uri": "https://localhost:8080/"
        },
        "id": "lb2g3-Nob1Jk",
        "outputId": "5ed7c70e-a5b8-481c-be96-804f969ea35c"
      },
      "source": [
        "model = keras.Sequential(\n",
        "    [\n",
        "     keras.layers.Embedding(vocab_size, embedding_dim, weights=[embedding_matrix], trainable=False),\n",
        "     keras.layers.Bidirectional(keras.layers.LSTM(embedding_dim, return_sequences=True)),\n",
        "     keras.layers.Bidirectional(keras.layers.LSTM(embedding_dim)),\n",
        "     keras.layers.Dense(24, activation='relu'),\n",
        "     keras.layers.Dense(1, activation='sigmoid')\n",
        "    ]\n",
        ")\n",
        "\n",
        "model.compile(loss='binary_crossentropy', optimizer='adam', metrics=['accuracy'])\n",
        "model.summary()"
      ],
      "execution_count": null,
      "outputs": [
        {
          "output_type": "stream",
          "text": [
            "Model: \"sequential_3\"\n",
            "_________________________________________________________________\n",
            "Layer (type)                 Output Shape              Param #   \n",
            "=================================================================\n",
            "embedding_2 (Embedding)      (None, None, 25)          330000    \n",
            "_________________________________________________________________\n",
            "bidirectional_2 (Bidirection (None, None, 50)          10200     \n",
            "_________________________________________________________________\n",
            "bidirectional_3 (Bidirection (None, 50)                15200     \n",
            "_________________________________________________________________\n",
            "dense_6 (Dense)              (None, 24)                1224      \n",
            "_________________________________________________________________\n",
            "dense_7 (Dense)              (None, 1)                 25        \n",
            "=================================================================\n",
            "Total params: 356,649\n",
            "Trainable params: 26,649\n",
            "Non-trainable params: 330,000\n",
            "_________________________________________________________________\n"
          ],
          "name": "stdout"
        }
      ]
    },
    {
      "cell_type": "code",
      "metadata": {
        "colab": {
          "base_uri": "https://localhost:8080/"
        },
        "id": "ssa3kKi7ceUY",
        "outputId": "1996821d-9225-4625-9bba-7ba04dae03d3"
      },
      "source": [
        "history = model.fit(training_padded, training_labels,\n",
        "          epochs=30, verbose=1,\n",
        "          validation_data=(testing_padded, testing_labels))"
      ],
      "execution_count": null,
      "outputs": [
        {
          "output_type": "stream",
          "text": [
            "Epoch 1/30\n",
            "  2/750 [..............................] - ETA: 41s - loss: 0.7005 - accuracy: 0.3906"
          ],
          "name": "stdout"
        },
        {
          "output_type": "stream",
          "text": [
            "/usr/local/lib/python3.7/dist-packages/tensorflow/python/data/ops/dataset_ops.py:4212: UserWarning: Even though the `tf.config.experimental_run_functions_eagerly` option is set, this option does not apply to tf.data functions. To force eager execution of tf.data functions, please use `tf.data.experimental.enable_debug_mode()`.\n",
            "  \"Even though the `tf.config.experimental_run_functions_eagerly` \"\n"
          ],
          "name": "stderr"
        },
        {
          "output_type": "stream",
          "text": [
            "750/750 [==============================] - 43s 57ms/step - loss: 0.5597 - accuracy: 0.6915 - val_loss: 0.4783 - val_accuracy: 0.7619\n",
            "Epoch 2/30\n",
            "750/750 [==============================] - 42s 57ms/step - loss: 0.4633 - accuracy: 0.7695 - val_loss: 0.4402 - val_accuracy: 0.7850\n",
            "Epoch 3/30\n",
            "750/750 [==============================] - 43s 57ms/step - loss: 0.4327 - accuracy: 0.7895 - val_loss: 0.4202 - val_accuracy: 0.8013\n",
            "Epoch 4/30\n",
            "750/750 [==============================] - 43s 57ms/step - loss: 0.4086 - accuracy: 0.8071 - val_loss: 0.4064 - val_accuracy: 0.8093\n",
            "Epoch 5/30\n",
            "750/750 [==============================] - 41s 54ms/step - loss: 0.3911 - accuracy: 0.8162 - val_loss: 0.4147 - val_accuracy: 0.8004\n",
            "Epoch 6/30\n",
            "750/750 [==============================] - 41s 54ms/step - loss: 0.3798 - accuracy: 0.8223 - val_loss: 0.3994 - val_accuracy: 0.8067\n",
            "Epoch 7/30\n",
            "750/750 [==============================] - 42s 57ms/step - loss: 0.3678 - accuracy: 0.8278 - val_loss: 0.4013 - val_accuracy: 0.8101\n",
            "Epoch 8/30\n",
            "750/750 [==============================] - 40s 54ms/step - loss: 0.3580 - accuracy: 0.8351 - val_loss: 0.3867 - val_accuracy: 0.8127\n",
            "Epoch 9/30\n",
            "750/750 [==============================] - 43s 57ms/step - loss: 0.3489 - accuracy: 0.8403 - val_loss: 0.3903 - val_accuracy: 0.8101\n",
            "Epoch 10/30\n",
            "750/750 [==============================] - 42s 57ms/step - loss: 0.3431 - accuracy: 0.8445 - val_loss: 0.3896 - val_accuracy: 0.8138\n",
            "Epoch 11/30\n",
            "750/750 [==============================] - 42s 56ms/step - loss: 0.3335 - accuracy: 0.8495 - val_loss: 0.3866 - val_accuracy: 0.8162\n",
            "Epoch 12/30\n",
            "750/750 [==============================] - 41s 54ms/step - loss: 0.3260 - accuracy: 0.8517 - val_loss: 0.3992 - val_accuracy: 0.8073\n",
            "Epoch 13/30\n",
            "750/750 [==============================] - 41s 55ms/step - loss: 0.3181 - accuracy: 0.8568 - val_loss: 0.3955 - val_accuracy: 0.8153\n",
            "Epoch 14/30\n",
            "750/750 [==============================] - 43s 57ms/step - loss: 0.3127 - accuracy: 0.8605 - val_loss: 0.4141 - val_accuracy: 0.8069\n",
            "Epoch 15/30\n",
            "750/750 [==============================] - 41s 54ms/step - loss: 0.3050 - accuracy: 0.8622 - val_loss: 0.3836 - val_accuracy: 0.8214\n",
            "Epoch 16/30\n",
            "750/750 [==============================] - 43s 57ms/step - loss: 0.2996 - accuracy: 0.8671 - val_loss: 0.3896 - val_accuracy: 0.8192\n",
            "Epoch 17/30\n",
            "750/750 [==============================] - 43s 57ms/step - loss: 0.2901 - accuracy: 0.8694 - val_loss: 0.4088 - val_accuracy: 0.8058\n",
            "Epoch 18/30\n",
            "750/750 [==============================] - 43s 57ms/step - loss: 0.2848 - accuracy: 0.8736 - val_loss: 0.4151 - val_accuracy: 0.8086\n",
            "Epoch 19/30\n",
            "750/750 [==============================] - 42s 57ms/step - loss: 0.2789 - accuracy: 0.8756 - val_loss: 0.4077 - val_accuracy: 0.8099\n",
            "Epoch 20/30\n",
            "750/750 [==============================] - 41s 55ms/step - loss: 0.2691 - accuracy: 0.8832 - val_loss: 0.4387 - val_accuracy: 0.8110\n",
            "Epoch 21/30\n",
            "750/750 [==============================] - 42s 57ms/step - loss: 0.2606 - accuracy: 0.8864 - val_loss: 0.4304 - val_accuracy: 0.8129\n",
            "Epoch 22/30\n",
            "750/750 [==============================] - 41s 54ms/step - loss: 0.2519 - accuracy: 0.8901 - val_loss: 0.4336 - val_accuracy: 0.8142\n",
            "Epoch 23/30\n",
            "750/750 [==============================] - 41s 54ms/step - loss: 0.2496 - accuracy: 0.8915 - val_loss: 0.4282 - val_accuracy: 0.8114\n",
            "Epoch 24/30\n",
            "750/750 [==============================] - 43s 57ms/step - loss: 0.2383 - accuracy: 0.8982 - val_loss: 0.4518 - val_accuracy: 0.8132\n",
            "Epoch 25/30\n",
            "750/750 [==============================] - 40s 54ms/step - loss: 0.2328 - accuracy: 0.9003 - val_loss: 0.4783 - val_accuracy: 0.8095\n",
            "Epoch 26/30\n",
            "750/750 [==============================] - 42s 57ms/step - loss: 0.2241 - accuracy: 0.9035 - val_loss: 0.4914 - val_accuracy: 0.8095\n",
            "Epoch 27/30\n",
            "750/750 [==============================] - 42s 57ms/step - loss: 0.2177 - accuracy: 0.9062 - val_loss: 0.4846 - val_accuracy: 0.8090\n",
            "Epoch 28/30\n",
            "750/750 [==============================] - 42s 57ms/step - loss: 0.2085 - accuracy: 0.9110 - val_loss: 0.5084 - val_accuracy: 0.8097\n",
            "Epoch 29/30\n",
            "750/750 [==============================] - 40s 54ms/step - loss: 0.2018 - accuracy: 0.9147 - val_loss: 0.5267 - val_accuracy: 0.7997\n",
            "Epoch 30/30\n",
            "750/750 [==============================] - 41s 54ms/step - loss: 0.1958 - accuracy: 0.9174 - val_loss: 0.5130 - val_accuracy: 0.8125\n"
          ],
          "name": "stdout"
        }
      ]
    },
    {
      "cell_type": "code",
      "metadata": {
        "colab": {
          "base_uri": "https://localhost:8080/",
          "height": 573
        },
        "id": "jhnflrQbczNa",
        "outputId": "3c252912-db32-4b7d-cd74-084e1ba3ec5c"
      },
      "source": [
        "import matplotlib.pyplot as plt\n",
        "\n",
        "plt.plot(history.history['accuracy'])\n",
        "plt.plot(history.history['val_accuracy'])\n",
        "plt.title('Model accuracy')\n",
        "plt.ylabel('Accuracy')\n",
        "plt.xlabel('Epoch')\n",
        "plt.legend(['Train', 'Test'], loc='upper left')\n",
        "plt.show()\n",
        "\n",
        "plt.plot(history.history['loss'])\n",
        "plt.plot(history.history['val_loss'])\n",
        "plt.title('Model loss')\n",
        "plt.ylabel('Loss')\n",
        "plt.xlabel('Epoch')\n",
        "plt.legend(['Train', 'Test'], loc='upper left')\n",
        "plt.show()"
      ],
      "execution_count": null,
      "outputs": [
        {
          "output_type": "display_data",
          "data": {
            "image/png": "[encoded data removed]",
            "text/plain": [
              "<Figure size 432x288 with 1 Axes>"
            ]
          },
          "metadata": {
            "needs_background": "light"
          }
        },
        {
          "output_type": "display_data",
          "data": {
            "image/png": "[encoded data removed]",
            "text/plain": [
              "<Figure size 432x288 with 1 Axes>"
            ]
          },
          "metadata": {
            "needs_background": "light"
          }
        }
      ]
    },
    {
      "cell_type": "code",
      "metadata": {
        "id": "oE6Pg3iqq4uH"
      },
      "source": [
        ""
      ],
      "execution_count": null,
      "outputs": []
    },
    {
      "cell_type": "code",
      "metadata": {
        "colab": {
          "base_uri": "https://localhost:8080/"
        },
        "id": "PCKOvLChqLSG",
        "outputId": "385257f5-d580-463b-e568-3acd661cfba6"
      },
      "source": [
        "model = keras.Sequential(\n",
        "    [\n",
        "     keras.layers.Embedding(vocab_size, embedding_dim, weights=[embedding_matrix], trainable=False),\n",
        "     keras.layers.Bidirectional(keras.layers.LSTM(embedding_dim, return_sequences=True)),\n",
        "     keras.layers.Bidirectional(keras.layers.LSTM(embedding_dim)),\n",
        "     keras.layers.Dense(16, activation='relu'),\n",
        "     keras.layers.Dense(1, activation='sigmoid')\n",
        "    ]\n",
        ")\n",
        "\n",
        "adam = tf.keras.optimizers.Adam(learning_rate=0.00001, beta_1=0.9, beta_2=0.999)\n",
        "\n",
        "model.compile(loss='binary_crossentropy', optimizer=adam, metrics=['accuracy'])\n",
        "model.summary()"
      ],
      "execution_count": null,
      "outputs": [
        {
          "output_type": "stream",
          "text": [
            "Model: \"sequential_7\"\n",
            "_________________________________________________________________\n",
            "Layer (type)                 Output Shape              Param #   \n",
            "=================================================================\n",
            "embedding_6 (Embedding)      (None, None, 25)          330000    \n",
            "_________________________________________________________________\n",
            "bidirectional_10 (Bidirectio (None, None, 50)          10200     \n",
            "_________________________________________________________________\n",
            "bidirectional_11 (Bidirectio (None, 50)                15200     \n",
            "_________________________________________________________________\n",
            "dense_14 (Dense)             (None, 16)                816       \n",
            "_________________________________________________________________\n",
            "dense_15 (Dense)             (None, 1)                 17        \n",
            "=================================================================\n",
            "Total params: 356,233\n",
            "Trainable params: 26,233\n",
            "Non-trainable params: 330,000\n",
            "_________________________________________________________________\n"
          ],
          "name": "stdout"
        }
      ]
    },
    {
      "cell_type": "code",
      "metadata": {
        "colab": {
          "base_uri": "https://localhost:8080/"
        },
        "id": "U077zG5sqPnN",
        "outputId": "e929c9b1-a40c-4223-80d2-9f9886e9d74e"
      },
      "source": [
        "  history = model.fit(training_padded, training_labels,\n",
        "          epochs=30, verbose=1,\n",
        "          validation_data=(testing_padded, testing_labels))"
      ],
      "execution_count": null,
      "outputs": [
        {
          "output_type": "stream",
          "text": [
            "Epoch 1/30\n",
            "  2/750 [..............................] - ETA: 39s - loss: 0.6916 - accuracy: 0.5469"
          ],
          "name": "stdout"
        },
        {
          "output_type": "stream",
          "text": [
            "/usr/local/lib/python3.7/dist-packages/tensorflow/python/data/ops/dataset_ops.py:4212: UserWarning: Even though the `tf.config.experimental_run_functions_eagerly` option is set, this option does not apply to tf.data functions. To force eager execution of tf.data functions, please use `tf.data.experimental.enable_debug_mode()`.\n",
            "  \"Even though the `tf.config.experimental_run_functions_eagerly` \"\n"
          ],
          "name": "stderr"
        },
        {
          "output_type": "stream",
          "text": [
            "750/750 [==============================] - 44s 59ms/step - loss: 0.6893 - accuracy: 0.5367 - val_loss: 0.6866 - val_accuracy: 0.5441\n",
            "Epoch 2/30\n",
            "750/750 [==============================] - 45s 60ms/step - loss: 0.6861 - accuracy: 0.5340 - val_loss: 0.6828 - val_accuracy: 0.5538\n",
            "Epoch 3/30\n",
            "750/750 [==============================] - 48s 64ms/step - loss: 0.6822 - accuracy: 0.5518 - val_loss: 0.6779 - val_accuracy: 0.5804\n",
            "Epoch 4/30\n",
            "750/750 [==============================] - 45s 60ms/step - loss: 0.6770 - accuracy: 0.5781 - val_loss: 0.6713 - val_accuracy: 0.6081\n",
            "Epoch 5/30\n",
            "750/750 [==============================] - 44s 59ms/step - loss: 0.6697 - accuracy: 0.6050 - val_loss: 0.6622 - val_accuracy: 0.6352\n",
            "Epoch 6/30\n",
            "750/750 [==============================] - 46s 61ms/step - loss: 0.6597 - accuracy: 0.6305 - val_loss: 0.6500 - val_accuracy: 0.6456\n",
            "Epoch 7/30\n",
            "750/750 [==============================] - 45s 60ms/step - loss: 0.6468 - accuracy: 0.6477 - val_loss: 0.6348 - val_accuracy: 0.6614\n",
            "Epoch 8/30\n",
            "750/750 [==============================] - 44s 58ms/step - loss: 0.6328 - accuracy: 0.6557 - val_loss: 0.6199 - val_accuracy: 0.6638\n",
            "Epoch 9/30\n",
            "750/750 [==============================] - 43s 58ms/step - loss: 0.6201 - accuracy: 0.6602 - val_loss: 0.6080 - val_accuracy: 0.6718\n",
            "Epoch 10/30\n",
            "750/750 [==============================] - 45s 60ms/step - loss: 0.6105 - accuracy: 0.6692 - val_loss: 0.5986 - val_accuracy: 0.6779\n",
            "Epoch 11/30\n",
            "750/750 [==============================] - 43s 58ms/step - loss: 0.6034 - accuracy: 0.6722 - val_loss: 0.5920 - val_accuracy: 0.6839\n",
            "Epoch 12/30\n",
            "750/750 [==============================] - 45s 61ms/step - loss: 0.5981 - accuracy: 0.6775 - val_loss: 0.5871 - val_accuracy: 0.6887\n",
            "Epoch 13/30\n",
            "750/750 [==============================] - 43s 58ms/step - loss: 0.5942 - accuracy: 0.6791 - val_loss: 0.5844 - val_accuracy: 0.6900\n",
            "Epoch 14/30\n",
            "750/750 [==============================] - 45s 60ms/step - loss: 0.5913 - accuracy: 0.6806 - val_loss: 0.5816 - val_accuracy: 0.6917\n",
            "Epoch 15/30\n",
            "750/750 [==============================] - 45s 60ms/step - loss: 0.5889 - accuracy: 0.6835 - val_loss: 0.5798 - val_accuracy: 0.6926\n",
            "Epoch 16/30\n",
            "750/750 [==============================] - 45s 61ms/step - loss: 0.5865 - accuracy: 0.6848 - val_loss: 0.5771 - val_accuracy: 0.6956\n",
            "Epoch 17/30\n",
            "750/750 [==============================] - 43s 58ms/step - loss: 0.5845 - accuracy: 0.6867 - val_loss: 0.5757 - val_accuracy: 0.6930\n",
            "Epoch 18/30\n",
            "750/750 [==============================] - 45s 60ms/step - loss: 0.5826 - accuracy: 0.6875 - val_loss: 0.5739 - val_accuracy: 0.6960\n",
            "Epoch 19/30\n",
            "750/750 [==============================] - 46s 61ms/step - loss: 0.5805 - accuracy: 0.6896 - val_loss: 0.5720 - val_accuracy: 0.6984\n",
            "Epoch 20/30\n",
            "750/750 [==============================] - 46s 61ms/step - loss: 0.5784 - accuracy: 0.6922 - val_loss: 0.5711 - val_accuracy: 0.6971\n",
            "Epoch 21/30\n",
            "750/750 [==============================] - 45s 60ms/step - loss: 0.5765 - accuracy: 0.6925 - val_loss: 0.5680 - val_accuracy: 0.7021\n",
            "Epoch 22/30\n",
            "750/750 [==============================] - 44s 58ms/step - loss: 0.5747 - accuracy: 0.6946 - val_loss: 0.5663 - val_accuracy: 0.7036\n",
            "Epoch 23/30\n",
            "750/750 [==============================] - 46s 61ms/step - loss: 0.5728 - accuracy: 0.6965 - val_loss: 0.5647 - val_accuracy: 0.7060\n",
            "Epoch 24/30\n",
            "750/750 [==============================] - 45s 60ms/step - loss: 0.5708 - accuracy: 0.6980 - val_loss: 0.5631 - val_accuracy: 0.7069\n",
            "Epoch 25/30\n",
            "750/750 [==============================] - 46s 61ms/step - loss: 0.5688 - accuracy: 0.6995 - val_loss: 0.5609 - val_accuracy: 0.7084\n",
            "Epoch 26/30\n",
            "750/750 [==============================] - 43s 58ms/step - loss: 0.5668 - accuracy: 0.7011 - val_loss: 0.5596 - val_accuracy: 0.7114\n",
            "Epoch 27/30\n",
            "750/750 [==============================] - 43s 58ms/step - loss: 0.5650 - accuracy: 0.7017 - val_loss: 0.5577 - val_accuracy: 0.7123\n",
            "Epoch 28/30\n",
            "750/750 [==============================] - 45s 60ms/step - loss: 0.5630 - accuracy: 0.7040 - val_loss: 0.5562 - val_accuracy: 0.7123\n",
            "Epoch 29/30\n",
            "750/750 [==============================] - 44s 58ms/step - loss: 0.5611 - accuracy: 0.7048 - val_loss: 0.5543 - val_accuracy: 0.7140\n",
            "Epoch 30/30\n",
            "750/750 [==============================] - 45s 60ms/step - loss: 0.5593 - accuracy: 0.7071 - val_loss: 0.5527 - val_accuracy: 0.7144\n"
          ],
          "name": "stdout"
        }
      ]
    },
    {
      "cell_type": "code",
      "metadata": {
        "colab": {
          "base_uri": "https://localhost:8080/",
          "height": 573
        },
        "id": "shI0ZxhI5Awm",
        "outputId": "21328516-6a34-4f45-9e6d-13c53468985b"
      },
      "source": [
        "import matplotlib.pyplot as plt\n",
        "\n",
        "plt.plot(history.history['accuracy'])\n",
        "plt.plot(history.history['val_accuracy'])\n",
        "plt.title('Model accuracy')\n",
        "plt.ylabel('Accuracy')\n",
        "plt.xlabel('Epoch')\n",
        "plt.legend(['Train', 'Test'], loc='upper left')\n",
        "plt.show()\n",
        "\n",
        "plt.plot(history.history['loss'])\n",
        "plt.plot(history.history['val_loss'])\n",
        "plt.title('Model loss')\n",
        "plt.ylabel('Loss')\n",
        "plt.xlabel('Epoch')\n",
        "plt.legend(['Train', 'Test'], loc='upper left')\n",
        "plt.show()"
      ],
      "execution_count": null,
      "outputs": [
        {
          "output_type": "display_data",
          "data": {
            "image/png": "[encoded data removed]",
            "text/plain": [
              "<Figure size 432x288 with 1 Axes>"
            ]
          },
          "metadata": {
            "needs_background": "light"
          }
        },
        {
          "output_type": "display_data",
          "data": {
            "image/png": "[encoded data removed]",
            "text/plain": [
              "<Figure size 432x288 with 1 Axes>"
            ]
          },
          "metadata": {
            "needs_background": "light"
          }
        }
      ]
    },
    {
      "cell_type": "code",
      "metadata": {
        "colab": {
          "base_uri": "https://localhost:8080/"
        },
        "id": "js6v3K3x5XD2",
        "outputId": "549c13a5-3764-4833-aaab-beee37d269ea"
      },
      "source": [
        "model = keras.Sequential(\n",
        "    [\n",
        "     keras.layers.Embedding(vocab_size, embedding_dim, weights=[embedding_matrix], trainable=False),\n",
        "     keras.layers.Bidirectional(keras.layers.LSTM(embedding_dim, return_sequences=True)),\n",
        "     keras.layers.Bidirectional(keras.layers.LSTM(embedding_dim)),\n",
        "     keras.layers.Dense(16, activation='relu'),\n",
        "     keras.layers.Dense(1, activation='sigmoid')\n",
        "    ]\n",
        ")\n",
        "\n",
        "adam = tf.keras.optimizers.Adam(learning_rate=0.00001, beta_1=0.9, beta_2=0.999)\n",
        "\n",
        "model.compile(loss='binary_crossentropy', optimizer=adam, metrics=['accuracy'])\n",
        "model.summary()"
      ],
      "execution_count": null,
      "outputs": [
        {
          "output_type": "stream",
          "text": [
            "Model: \"sequential_8\"\n",
            "_________________________________________________________________\n",
            "Layer (type)                 Output Shape              Param #   \n",
            "=================================================================\n",
            "embedding_7 (Embedding)      (None, None, 25)          330000    \n",
            "_________________________________________________________________\n",
            "bidirectional_12 (Bidirectio (None, None, 50)          10200     \n",
            "_________________________________________________________________\n",
            "bidirectional_13 (Bidirectio (None, 50)                15200     \n",
            "_________________________________________________________________\n",
            "dense_16 (Dense)             (None, 16)                816       \n",
            "_________________________________________________________________\n",
            "dense_17 (Dense)             (None, 1)                 17        \n",
            "=================================================================\n",
            "Total params: 356,233\n",
            "Trainable params: 26,233\n",
            "Non-trainable params: 330,000\n",
            "_________________________________________________________________\n"
          ],
          "name": "stdout"
        }
      ]
    },
    {
      "cell_type": "code",
      "metadata": {
        "colab": {
          "base_uri": "https://localhost:8080/"
        },
        "id": "dN8OBHLr5aK2",
        "outputId": "6185b68a-7e37-4f56-ad1d-8416d4d05211"
      },
      "source": [
        "history = model.fit(training_padded, training_labels,\n",
        "          epochs=50, verbose=1,\n",
        "          validation_data=(testing_padded, testing_labels))"
      ],
      "execution_count": null,
      "outputs": [
        {
          "output_type": "stream",
          "text": [
            "Epoch 1/50\n",
            "  2/750 [..............................] - ETA: 41s - loss: 0.6878 - accuracy: 0.6250"
          ],
          "name": "stdout"
        },
        {
          "output_type": "stream",
          "text": [
            "/usr/local/lib/python3.7/dist-packages/tensorflow/python/data/ops/dataset_ops.py:4212: UserWarning: Even though the `tf.config.experimental_run_functions_eagerly` option is set, this option does not apply to tf.data functions. To force eager execution of tf.data functions, please use `tf.data.experimental.enable_debug_mode()`.\n",
            "  \"Even though the `tf.config.experimental_run_functions_eagerly` \"\n"
          ],
          "name": "stderr"
        },
        {
          "output_type": "stream",
          "text": [
            "750/750 [==============================] - 44s 58ms/step - loss: 0.6908 - accuracy: 0.5235 - val_loss: 0.6882 - val_accuracy: 0.5311\n",
            "Epoch 2/50\n",
            "750/750 [==============================] - 44s 59ms/step - loss: 0.6872 - accuracy: 0.5345 - val_loss: 0.6834 - val_accuracy: 0.5532\n",
            "Epoch 3/50\n",
            "750/750 [==============================] - 46s 61ms/step - loss: 0.6826 - accuracy: 0.5591 - val_loss: 0.6781 - val_accuracy: 0.5858\n",
            "Epoch 4/50\n",
            "750/750 [==============================] - 46s 61ms/step - loss: 0.6769 - accuracy: 0.5855 - val_loss: 0.6707 - val_accuracy: 0.6170\n",
            "Epoch 5/50\n",
            "750/750 [==============================] - 45s 61ms/step - loss: 0.6681 - accuracy: 0.6110 - val_loss: 0.6570 - val_accuracy: 0.6434\n",
            "Epoch 6/50\n",
            "750/750 [==============================] - 46s 62ms/step - loss: 0.6524 - accuracy: 0.6379 - val_loss: 0.6405 - val_accuracy: 0.6571\n",
            "Epoch 7/50\n",
            "750/750 [==============================] - 46s 61ms/step - loss: 0.6392 - accuracy: 0.6452 - val_loss: 0.6267 - val_accuracy: 0.6592\n",
            "Epoch 8/50\n",
            "750/750 [==============================] - 44s 59ms/step - loss: 0.6288 - accuracy: 0.6486 - val_loss: 0.6165 - val_accuracy: 0.6659\n",
            "Epoch 9/50\n",
            "750/750 [==============================] - 46s 61ms/step - loss: 0.6213 - accuracy: 0.6539 - val_loss: 0.6097 - val_accuracy: 0.6750\n",
            "Epoch 10/50\n",
            "750/750 [==============================] - 45s 61ms/step - loss: 0.6160 - accuracy: 0.6557 - val_loss: 0.6043 - val_accuracy: 0.6779\n",
            "Epoch 11/50\n",
            "750/750 [==============================] - 45s 61ms/step - loss: 0.6119 - accuracy: 0.6587 - val_loss: 0.6012 - val_accuracy: 0.6811\n",
            "Epoch 12/50\n",
            "750/750 [==============================] - 44s 58ms/step - loss: 0.6087 - accuracy: 0.6617 - val_loss: 0.5979 - val_accuracy: 0.6850\n",
            "Epoch 13/50\n",
            "750/750 [==============================] - 46s 61ms/step - loss: 0.6057 - accuracy: 0.6637 - val_loss: 0.5937 - val_accuracy: 0.6856\n",
            "Epoch 14/50\n",
            "750/750 [==============================] - 44s 59ms/step - loss: 0.6030 - accuracy: 0.6670 - val_loss: 0.5909 - val_accuracy: 0.6880\n",
            "Epoch 15/50\n",
            "750/750 [==============================] - 45s 60ms/step - loss: 0.6003 - accuracy: 0.6693 - val_loss: 0.5884 - val_accuracy: 0.6893\n",
            "Epoch 16/50\n",
            "750/750 [==============================] - 46s 61ms/step - loss: 0.5979 - accuracy: 0.6712 - val_loss: 0.5858 - val_accuracy: 0.6945\n",
            "Epoch 17/50\n",
            "750/750 [==============================] - 46s 61ms/step - loss: 0.5954 - accuracy: 0.6737 - val_loss: 0.5838 - val_accuracy: 0.6937\n",
            "Epoch 18/50\n",
            "750/750 [==============================] - 44s 59ms/step - loss: 0.5930 - accuracy: 0.6761 - val_loss: 0.5827 - val_accuracy: 0.6943\n",
            "Epoch 19/50\n",
            "750/750 [==============================] - 43s 58ms/step - loss: 0.5907 - accuracy: 0.6775 - val_loss: 0.5788 - val_accuracy: 0.6969\n",
            "Epoch 20/50\n",
            "750/750 [==============================] - 45s 61ms/step - loss: 0.5884 - accuracy: 0.6795 - val_loss: 0.5766 - val_accuracy: 0.6986\n",
            "Epoch 21/50\n",
            "750/750 [==============================] - 43s 57ms/step - loss: 0.5860 - accuracy: 0.6826 - val_loss: 0.5748 - val_accuracy: 0.7015\n",
            "Epoch 22/50\n",
            "750/750 [==============================] - 44s 59ms/step - loss: 0.5837 - accuracy: 0.6848 - val_loss: 0.5723 - val_accuracy: 0.7043\n",
            "Epoch 23/50\n",
            "750/750 [==============================] - 44s 59ms/step - loss: 0.5813 - accuracy: 0.6867 - val_loss: 0.5706 - val_accuracy: 0.7064\n",
            "Epoch 24/50\n",
            "750/750 [==============================] - 44s 59ms/step - loss: 0.5790 - accuracy: 0.6888 - val_loss: 0.5678 - val_accuracy: 0.7058\n",
            "Epoch 25/50\n",
            "750/750 [==============================] - 44s 59ms/step - loss: 0.5767 - accuracy: 0.6908 - val_loss: 0.5661 - val_accuracy: 0.7090\n",
            "Epoch 26/50\n",
            "750/750 [==============================] - 44s 59ms/step - loss: 0.5740 - accuracy: 0.6936 - val_loss: 0.5635 - val_accuracy: 0.7064\n",
            "Epoch 27/50\n",
            "750/750 [==============================] - 45s 60ms/step - loss: 0.5722 - accuracy: 0.6951 - val_loss: 0.5612 - val_accuracy: 0.7097\n",
            "Epoch 28/50\n",
            "750/750 [==============================] - 46s 62ms/step - loss: 0.5698 - accuracy: 0.6978 - val_loss: 0.5593 - val_accuracy: 0.7084\n",
            "Epoch 29/50\n",
            "750/750 [==============================] - 44s 59ms/step - loss: 0.5674 - accuracy: 0.6994 - val_loss: 0.5572 - val_accuracy: 0.7097\n",
            "Epoch 30/50\n",
            "750/750 [==============================] - 42s 57ms/step - loss: 0.5652 - accuracy: 0.7012 - val_loss: 0.5552 - val_accuracy: 0.7160\n",
            "Epoch 31/50\n",
            "750/750 [==============================] - 43s 58ms/step - loss: 0.5629 - accuracy: 0.7029 - val_loss: 0.5529 - val_accuracy: 0.7129\n",
            "Epoch 32/50\n",
            "750/750 [==============================] - 43s 58ms/step - loss: 0.5606 - accuracy: 0.7055 - val_loss: 0.5509 - val_accuracy: 0.7168\n",
            "Epoch 33/50\n",
            "750/750 [==============================] - 43s 57ms/step - loss: 0.5584 - accuracy: 0.7068 - val_loss: 0.5489 - val_accuracy: 0.7177\n",
            "Epoch 34/50\n",
            "750/750 [==============================] - 43s 58ms/step - loss: 0.5560 - accuracy: 0.7094 - val_loss: 0.5471 - val_accuracy: 0.7201\n",
            "Epoch 35/50\n",
            "750/750 [==============================] - 41s 55ms/step - loss: 0.5537 - accuracy: 0.7100 - val_loss: 0.5465 - val_accuracy: 0.7209\n",
            "Epoch 36/50\n",
            "750/750 [==============================] - 41s 55ms/step - loss: 0.5515 - accuracy: 0.7117 - val_loss: 0.5435 - val_accuracy: 0.7201\n",
            "Epoch 37/50\n",
            "750/750 [==============================] - 42s 55ms/step - loss: 0.5494 - accuracy: 0.7142 - val_loss: 0.5412 - val_accuracy: 0.7242\n",
            "Epoch 38/50\n",
            "750/750 [==============================] - 41s 55ms/step - loss: 0.5471 - accuracy: 0.7163 - val_loss: 0.5396 - val_accuracy: 0.7257\n",
            "Epoch 39/50\n",
            "750/750 [==============================] - 42s 55ms/step - loss: 0.5448 - accuracy: 0.7180 - val_loss: 0.5380 - val_accuracy: 0.7218\n",
            "Epoch 40/50\n",
            "750/750 [==============================] - 41s 54ms/step - loss: 0.5427 - accuracy: 0.7193 - val_loss: 0.5358 - val_accuracy: 0.7246\n",
            "Epoch 41/50\n",
            "750/750 [==============================] - 41s 55ms/step - loss: 0.5405 - accuracy: 0.7219 - val_loss: 0.5340 - val_accuracy: 0.7283\n",
            "Epoch 42/50\n",
            "750/750 [==============================] - 43s 58ms/step - loss: 0.5386 - accuracy: 0.7213 - val_loss: 0.5325 - val_accuracy: 0.7276\n",
            "Epoch 43/50\n",
            "750/750 [==============================] - 42s 56ms/step - loss: 0.5364 - accuracy: 0.7234 - val_loss: 0.5310 - val_accuracy: 0.7294\n",
            "Epoch 44/50\n",
            "750/750 [==============================] - 41s 55ms/step - loss: 0.5343 - accuracy: 0.7256 - val_loss: 0.5298 - val_accuracy: 0.7300\n",
            "Epoch 45/50\n",
            "750/750 [==============================] - 44s 58ms/step - loss: 0.5325 - accuracy: 0.7251 - val_loss: 0.5276 - val_accuracy: 0.7307\n",
            "Epoch 46/50\n",
            "750/750 [==============================] - 42s 56ms/step - loss: 0.5305 - accuracy: 0.7276 - val_loss: 0.5281 - val_accuracy: 0.7328\n",
            "Epoch 47/50\n",
            "750/750 [==============================] - 43s 57ms/step - loss: 0.5287 - accuracy: 0.7287 - val_loss: 0.5245 - val_accuracy: 0.7341\n",
            "Epoch 48/50\n",
            "750/750 [==============================] - 43s 57ms/step - loss: 0.5268 - accuracy: 0.7302 - val_loss: 0.5233 - val_accuracy: 0.7357\n",
            "Epoch 49/50\n",
            "750/750 [==============================] - 43s 57ms/step - loss: 0.5250 - accuracy: 0.7319 - val_loss: 0.5217 - val_accuracy: 0.7361\n",
            "Epoch 50/50\n",
            "750/750 [==============================] - 43s 58ms/step - loss: 0.5233 - accuracy: 0.7322 - val_loss: 0.5204 - val_accuracy: 0.7370\n"
          ],
          "name": "stdout"
        }
      ]
    },
    {
      "cell_type": "code",
      "metadata": {
        "colab": {
          "base_uri": "https://localhost:8080/",
          "height": 573
        },
        "id": "t8r4COUdCFzU",
        "outputId": "f4e39010-dc48-4342-c308-748282b7f0c1"
      },
      "source": [
        "import matplotlib.pyplot as plt\n",
        "\n",
        "plt.plot(history.history['accuracy'])\n",
        "plt.plot(history.history['val_accuracy'])\n",
        "plt.title('Model accuracy')\n",
        "plt.ylabel('Accuracy')\n",
        "plt.xlabel('Epoch')\n",
        "plt.legend(['Train', 'Test'], loc='upper left')\n",
        "plt.show()\n",
        "\n",
        "plt.plot(history.history['loss'])\n",
        "plt.plot(history.history['val_loss'])\n",
        "plt.title('Model loss')\n",
        "plt.ylabel('Loss')\n",
        "plt.xlabel('Epoch')\n",
        "plt.legend(['Train', 'Test'], loc='upper left')\n",
        "plt.show()"
      ],
      "execution_count": null,
      "outputs": [
        {
          "output_type": "display_data",
          "data": {
            "image/png": "[encoded data removed]",
            "text/plain": [
              "<Figure size 432x288 with 1 Axes>"
            ]
          },
          "metadata": {
            "needs_background": "light"
          }
        },
        {
          "output_type": "display_data",
          "data": {
            "image/png": "[encoded data removed]",
            "text/plain": [
              "<Figure size 432x288 with 1 Axes>"
            ]
          },
          "metadata": {
            "needs_background": "light"
          }
        }
      ]
    },
    {
      "cell_type": "code",
      "metadata": {
        "colab": {
          "base_uri": "https://localhost:8080/"
        },
        "id": "hAeSVmZcD2fM",
        "outputId": "8c52e23c-46ee-414f-b9b2-ae9a881e3385"
      },
      "source": [
        "!nvidia-smi"
      ],
      "execution_count": null,
      "outputs": [
        {
          "output_type": "stream",
          "text": [
            "Thu Aug 26 10:44:15 2021       \n",
            "+-----------------------------------------------------------------------------+\n",
            "| NVIDIA-SMI 470.57.02    Driver Version: 460.32.03    CUDA Version: 11.2     |\n",
            "|-------------------------------+----------------------+----------------------+\n",
            "| GPU  Name        Persistence-M| Bus-Id        Disp.A | Volatile Uncorr. ECC |\n",
            "| Fan  Temp  Perf  Pwr:Usage/Cap|         Memory-Usage | GPU-Util  Compute M. |\n",
            "|                               |                      |               MIG M. |\n",
            "|===============================+======================+======================|\n",
            "|   0  Tesla T4            Off  | 00000000:00:04.0 Off |                    0 |\n",
            "| N/A   49C    P0    26W /  70W |    690MiB / 15109MiB |      0%      Default |\n",
            "|                               |                      |                  N/A |\n",
            "+-------------------------------+----------------------+----------------------+\n",
            "                                                                               \n",
            "+-----------------------------------------------------------------------------+\n",
            "| Processes:                                                                  |\n",
            "|  GPU   GI   CI        PID   Type   Process name                  GPU Memory |\n",
            "|        ID   ID                                                   Usage      |\n",
            "|=============================================================================|\n",
            "|  No running processes found                                                 |\n",
            "+-----------------------------------------------------------------------------+\n"
          ],
          "name": "stdout"
        }
      ]
    },
    {
      "cell_type": "code",
      "metadata": {
        "colab": {
          "base_uri": "https://localhost:8080/"
        },
        "id": "XrwKCWNsD-u8",
        "outputId": "a32cbbbf-0258-47f3-c4d3-8691f0f1b914"
      },
      "source": [
        "model = keras.Sequential(\n",
        "    [\n",
        "     keras.layers.Embedding(vocab_size, embedding_dim, weights=[embedding_matrix], trainable=False),\n",
        "     keras.layers.Bidirectional(keras.layers.LSTM(embedding_dim, return_sequences=True)),\n",
        "     keras.layers.Bidirectional(keras.layers.LSTM(embedding_dim)),\n",
        "     keras.layers.Dense(16, activation='relu'),\n",
        "     keras.layers.Dense(1, activation='sigmoid')\n",
        "    ]\n",
        ")\n",
        "\n",
        "adam = tf.keras.optimizers.Adam(learning_rate=0.00001, beta_1=0.9, beta_2=0.999)\n",
        "\n",
        "model.compile(loss='binary_crossentropy', optimizer=adam, metrics=['accuracy'])\n",
        "model.summary()"
      ],
      "execution_count": null,
      "outputs": [
        {
          "output_type": "stream",
          "text": [
            "Model: \"sequential\"\n",
            "_________________________________________________________________\n",
            "Layer (type)                 Output Shape              Param #   \n",
            "=================================================================\n",
            "embedding (Embedding)        (None, None, 25)          330000    \n",
            "_________________________________________________________________\n",
            "bidirectional (Bidirectional (None, None, 50)          10200     \n",
            "_________________________________________________________________\n",
            "bidirectional_1 (Bidirection (None, 50)                15200     \n",
            "_________________________________________________________________\n",
            "dense (Dense)                (None, 16)                816       \n",
            "_________________________________________________________________\n",
            "dense_1 (Dense)              (None, 1)                 17        \n",
            "=================================================================\n",
            "Total params: 356,233\n",
            "Trainable params: 26,233\n",
            "Non-trainable params: 330,000\n",
            "_________________________________________________________________\n"
          ],
          "name": "stdout"
        }
      ]
    },
    {
      "cell_type": "code",
      "metadata": {
        "colab": {
          "base_uri": "https://localhost:8080/"
        },
        "id": "nEHSK1VsEA-i",
        "outputId": "5cf7014b-d6f7-438d-8bdd-012446e233c8"
      },
      "source": [
        "history = model.fit(training_padded, training_labels,\n",
        "          epochs=70, verbose=1,\n",
        "          validation_data=(testing_padded, testing_labels))"
      ],
      "execution_count": null,
      "outputs": [
        {
          "output_type": "stream",
          "text": [
            "Epoch 1/70\n",
            "750/750 [==============================] - 100s 120ms/step - loss: 0.6892 - accuracy: 0.5239 - val_loss: 0.6859 - val_accuracy: 0.5332\n",
            "Epoch 2/70\n",
            "750/750 [==============================] - 88s 117ms/step - loss: 0.6844 - accuracy: 0.5504 - val_loss: 0.6808 - val_accuracy: 0.5687\n",
            "Epoch 3/70\n",
            "750/750 [==============================] - 88s 118ms/step - loss: 0.6790 - accuracy: 0.5754 - val_loss: 0.6744 - val_accuracy: 0.6014\n",
            "Epoch 4/70\n",
            "750/750 [==============================] - 88s 117ms/step - loss: 0.6710 - accuracy: 0.6038 - val_loss: 0.6627 - val_accuracy: 0.6220\n",
            "Epoch 5/70\n",
            "750/750 [==============================] - 88s 117ms/step - loss: 0.6585 - accuracy: 0.6197 - val_loss: 0.6496 - val_accuracy: 0.6361\n",
            "Epoch 6/70\n",
            "750/750 [==============================] - 88s 117ms/step - loss: 0.6460 - accuracy: 0.6312 - val_loss: 0.6371 - val_accuracy: 0.6439\n",
            "Epoch 7/70\n",
            "750/750 [==============================] - 88s 117ms/step - loss: 0.6349 - accuracy: 0.6391 - val_loss: 0.6270 - val_accuracy: 0.6523\n",
            "Epoch 8/70\n",
            "750/750 [==============================] - 88s 117ms/step - loss: 0.6265 - accuracy: 0.6470 - val_loss: 0.6187 - val_accuracy: 0.6514\n",
            "Epoch 9/70\n",
            "750/750 [==============================] - 88s 117ms/step - loss: 0.6204 - accuracy: 0.6508 - val_loss: 0.6129 - val_accuracy: 0.6551\n",
            "Epoch 10/70\n",
            "750/750 [==============================] - 88s 117ms/step - loss: 0.6154 - accuracy: 0.6561 - val_loss: 0.6078 - val_accuracy: 0.6597\n",
            "Epoch 11/70\n",
            "750/750 [==============================] - 88s 117ms/step - loss: 0.6111 - accuracy: 0.6593 - val_loss: 0.6038 - val_accuracy: 0.6616\n",
            "Epoch 12/70\n",
            "750/750 [==============================] - 87s 117ms/step - loss: 0.6075 - accuracy: 0.6608 - val_loss: 0.6002 - val_accuracy: 0.6657\n",
            "Epoch 13/70\n",
            "750/750 [==============================] - 87s 117ms/step - loss: 0.6041 - accuracy: 0.6642 - val_loss: 0.5968 - val_accuracy: 0.6696\n",
            "Epoch 14/70\n",
            "750/750 [==============================] - 87s 117ms/step - loss: 0.6006 - accuracy: 0.6687 - val_loss: 0.5933 - val_accuracy: 0.6688\n",
            "Epoch 15/70\n",
            "750/750 [==============================] - 88s 117ms/step - loss: 0.5977 - accuracy: 0.6699 - val_loss: 0.5903 - val_accuracy: 0.6772\n",
            "Epoch 16/70\n",
            "750/750 [==============================] - 88s 117ms/step - loss: 0.5945 - accuracy: 0.6736 - val_loss: 0.5872 - val_accuracy: 0.6809\n",
            "Epoch 17/70\n",
            "750/750 [==============================] - 88s 117ms/step - loss: 0.5917 - accuracy: 0.6768 - val_loss: 0.5853 - val_accuracy: 0.6811\n",
            "Epoch 18/70\n",
            "750/750 [==============================] - 87s 117ms/step - loss: 0.5887 - accuracy: 0.6808 - val_loss: 0.5815 - val_accuracy: 0.6865\n",
            "Epoch 19/70\n",
            "750/750 [==============================] - 87s 116ms/step - loss: 0.5859 - accuracy: 0.6835 - val_loss: 0.5786 - val_accuracy: 0.6839\n",
            "Epoch 20/70\n",
            "750/750 [==============================] - 88s 117ms/step - loss: 0.5833 - accuracy: 0.6844 - val_loss: 0.5759 - val_accuracy: 0.6891\n",
            "Epoch 21/70\n",
            "750/750 [==============================] - 87s 116ms/step - loss: 0.5805 - accuracy: 0.6877 - val_loss: 0.5735 - val_accuracy: 0.6919\n",
            "Epoch 22/70\n",
            "750/750 [==============================] - 87s 117ms/step - loss: 0.5779 - accuracy: 0.6899 - val_loss: 0.5711 - val_accuracy: 0.6958\n",
            "Epoch 23/70\n",
            "750/750 [==============================] - 88s 117ms/step - loss: 0.5754 - accuracy: 0.6910 - val_loss: 0.5682 - val_accuracy: 0.6954\n",
            "Epoch 24/70\n",
            "750/750 [==============================] - 87s 116ms/step - loss: 0.5728 - accuracy: 0.6949 - val_loss: 0.5663 - val_accuracy: 0.7021\n",
            "Epoch 25/70\n",
            "750/750 [==============================] - 87s 117ms/step - loss: 0.5704 - accuracy: 0.6973 - val_loss: 0.5635 - val_accuracy: 0.7023\n",
            "Epoch 26/70\n",
            "750/750 [==============================] - 88s 117ms/step - loss: 0.5681 - accuracy: 0.6992 - val_loss: 0.5615 - val_accuracy: 0.7023\n",
            "Epoch 27/70\n",
            "750/750 [==============================] - 88s 117ms/step - loss: 0.5657 - accuracy: 0.7021 - val_loss: 0.5591 - val_accuracy: 0.7062\n",
            "Epoch 28/70\n",
            "750/750 [==============================] - 88s 117ms/step - loss: 0.5633 - accuracy: 0.7028 - val_loss: 0.5572 - val_accuracy: 0.7097\n",
            "Epoch 29/70\n",
            "750/750 [==============================] - 88s 117ms/step - loss: 0.5612 - accuracy: 0.7036 - val_loss: 0.5560 - val_accuracy: 0.7097\n",
            "Epoch 30/70\n",
            "750/750 [==============================] - 87s 116ms/step - loss: 0.5588 - accuracy: 0.7065 - val_loss: 0.5529 - val_accuracy: 0.7118\n",
            "Epoch 31/70\n",
            "750/750 [==============================] - 87s 116ms/step - loss: 0.5567 - accuracy: 0.7091 - val_loss: 0.5515 - val_accuracy: 0.7125\n",
            "Epoch 32/70\n",
            "750/750 [==============================] - 88s 117ms/step - loss: 0.5547 - accuracy: 0.7093 - val_loss: 0.5495 - val_accuracy: 0.7131\n",
            "Epoch 33/70\n",
            "750/750 [==============================] - 88s 117ms/step - loss: 0.5525 - accuracy: 0.7110 - val_loss: 0.5482 - val_accuracy: 0.7140\n",
            "Epoch 34/70\n",
            "750/750 [==============================] - 88s 117ms/step - loss: 0.5504 - accuracy: 0.7120 - val_loss: 0.5450 - val_accuracy: 0.7160\n",
            "Epoch 35/70\n",
            "750/750 [==============================] - 87s 117ms/step - loss: 0.5483 - accuracy: 0.7158 - val_loss: 0.5436 - val_accuracy: 0.7155\n",
            "Epoch 36/70\n",
            "750/750 [==============================] - 87s 117ms/step - loss: 0.5464 - accuracy: 0.7159 - val_loss: 0.5416 - val_accuracy: 0.7192\n",
            "Epoch 37/70\n",
            "750/750 [==============================] - 87s 116ms/step - loss: 0.5443 - accuracy: 0.7172 - val_loss: 0.5413 - val_accuracy: 0.7188\n",
            "Epoch 38/70\n",
            "750/750 [==============================] - 87s 117ms/step - loss: 0.5425 - accuracy: 0.7185 - val_loss: 0.5379 - val_accuracy: 0.7181\n",
            "Epoch 39/70\n",
            "750/750 [==============================] - 87s 117ms/step - loss: 0.5404 - accuracy: 0.7190 - val_loss: 0.5359 - val_accuracy: 0.7222\n",
            "Epoch 40/70\n",
            "750/750 [==============================] - 87s 116ms/step - loss: 0.5387 - accuracy: 0.7204 - val_loss: 0.5340 - val_accuracy: 0.7250\n",
            "Epoch 41/70\n",
            "750/750 [==============================] - 87s 116ms/step - loss: 0.5365 - accuracy: 0.7212 - val_loss: 0.5338 - val_accuracy: 0.7237\n",
            "Epoch 42/70\n",
            "750/750 [==============================] - 87s 116ms/step - loss: 0.5345 - accuracy: 0.7232 - val_loss: 0.5333 - val_accuracy: 0.7248\n",
            "Epoch 43/70\n",
            "750/750 [==============================] - 87s 116ms/step - loss: 0.5325 - accuracy: 0.7254 - val_loss: 0.5291 - val_accuracy: 0.7268\n",
            "Epoch 44/70\n",
            "750/750 [==============================] - 88s 117ms/step - loss: 0.5308 - accuracy: 0.7267 - val_loss: 0.5292 - val_accuracy: 0.7300\n",
            "Epoch 45/70\n",
            "750/750 [==============================] - 87s 116ms/step - loss: 0.5289 - accuracy: 0.7271 - val_loss: 0.5288 - val_accuracy: 0.7285\n",
            "Epoch 46/70\n",
            "750/750 [==============================] - 87s 116ms/step - loss: 0.5276 - accuracy: 0.7280 - val_loss: 0.5259 - val_accuracy: 0.7328\n",
            "Epoch 47/70\n",
            "750/750 [==============================] - 87s 116ms/step - loss: 0.5256 - accuracy: 0.7304 - val_loss: 0.5234 - val_accuracy: 0.7307\n",
            "Epoch 48/70\n",
            "750/750 [==============================] - 87s 116ms/step - loss: 0.5239 - accuracy: 0.7326 - val_loss: 0.5217 - val_accuracy: 0.7315\n",
            "Epoch 49/70\n",
            "750/750 [==============================] - 87s 116ms/step - loss: 0.5222 - accuracy: 0.7347 - val_loss: 0.5204 - val_accuracy: 0.7322\n",
            "Epoch 50/70\n",
            "750/750 [==============================] - 87s 117ms/step - loss: 0.5208 - accuracy: 0.7340 - val_loss: 0.5193 - val_accuracy: 0.7331\n",
            "Epoch 51/70\n",
            "750/750 [==============================] - 87s 116ms/step - loss: 0.5191 - accuracy: 0.7355 - val_loss: 0.5184 - val_accuracy: 0.7352\n",
            "Epoch 52/70\n",
            "750/750 [==============================] - 87s 116ms/step - loss: 0.5175 - accuracy: 0.7380 - val_loss: 0.5167 - val_accuracy: 0.7359\n",
            "Epoch 53/70\n",
            "750/750 [==============================] - 88s 117ms/step - loss: 0.5161 - accuracy: 0.7382 - val_loss: 0.5164 - val_accuracy: 0.7370\n",
            "Epoch 54/70\n",
            "750/750 [==============================] - 88s 117ms/step - loss: 0.5144 - accuracy: 0.7395 - val_loss: 0.5143 - val_accuracy: 0.7380\n",
            "Epoch 55/70\n",
            "750/750 [==============================] - 88s 117ms/step - loss: 0.5131 - accuracy: 0.7403 - val_loss: 0.5155 - val_accuracy: 0.7376\n",
            "Epoch 56/70\n",
            "750/750 [==============================] - 88s 117ms/step - loss: 0.5118 - accuracy: 0.7416 - val_loss: 0.5122 - val_accuracy: 0.7385\n",
            "Epoch 57/70\n",
            "750/750 [==============================] - 87s 117ms/step - loss: 0.5103 - accuracy: 0.7424 - val_loss: 0.5110 - val_accuracy: 0.7387\n",
            "Epoch 58/70\n",
            "750/750 [==============================] - 88s 117ms/step - loss: 0.5088 - accuracy: 0.7425 - val_loss: 0.5132 - val_accuracy: 0.7374\n",
            "Epoch 59/70\n",
            "750/750 [==============================] - 87s 117ms/step - loss: 0.5072 - accuracy: 0.7445 - val_loss: 0.5087 - val_accuracy: 0.7393\n",
            "Epoch 60/70\n",
            "750/750 [==============================] - 87s 116ms/step - loss: 0.5064 - accuracy: 0.7444 - val_loss: 0.5080 - val_accuracy: 0.7422\n",
            "Epoch 61/70\n",
            "750/750 [==============================] - 88s 117ms/step - loss: 0.5050 - accuracy: 0.7470 - val_loss: 0.5067 - val_accuracy: 0.7435\n",
            "Epoch 62/70\n",
            "750/750 [==============================] - 87s 117ms/step - loss: 0.5037 - accuracy: 0.7479 - val_loss: 0.5058 - val_accuracy: 0.7443\n",
            "Epoch 63/70\n",
            "750/750 [==============================] - 88s 117ms/step - loss: 0.5027 - accuracy: 0.7494 - val_loss: 0.5049 - val_accuracy: 0.7428\n",
            "Epoch 64/70\n",
            "750/750 [==============================] - 88s 117ms/step - loss: 0.5015 - accuracy: 0.7497 - val_loss: 0.5042 - val_accuracy: 0.7426\n",
            "Epoch 65/70\n",
            "750/750 [==============================] - 88s 117ms/step - loss: 0.5003 - accuracy: 0.7503 - val_loss: 0.5040 - val_accuracy: 0.7409\n",
            "Epoch 66/70\n",
            "750/750 [==============================] - 87s 117ms/step - loss: 0.4992 - accuracy: 0.7501 - val_loss: 0.5021 - val_accuracy: 0.7458\n",
            "Epoch 67/70\n",
            "750/750 [==============================] - 88s 117ms/step - loss: 0.4979 - accuracy: 0.7520 - val_loss: 0.5013 - val_accuracy: 0.7482\n",
            "Epoch 68/70\n",
            "750/750 [==============================] - 88s 117ms/step - loss: 0.4971 - accuracy: 0.7525 - val_loss: 0.5011 - val_accuracy: 0.7460\n",
            "Epoch 69/70\n",
            "750/750 [==============================] - 88s 117ms/step - loss: 0.4960 - accuracy: 0.7533 - val_loss: 0.4996 - val_accuracy: 0.7471\n",
            "Epoch 70/70\n",
            "750/750 [==============================] - 88s 117ms/step - loss: 0.4949 - accuracy: 0.7538 - val_loss: 0.4989 - val_accuracy: 0.7473\n"
          ],
          "name": "stdout"
        }
      ]
    },
    {
      "cell_type": "code",
      "metadata": {
        "id": "8Ffv9DYm5MAz",
        "colab": {
          "base_uri": "https://localhost:8080/",
          "height": 573
        },
        "outputId": "8a8218ba-7fe4-4845-be76-84532d4cc817"
      },
      "source": [
        "import matplotlib.pyplot as plt\n",
        "\n",
        "plt.plot(history.history['accuracy'])\n",
        "plt.plot(history.history['val_accuracy'])\n",
        "plt.title('Model accuracy')\n",
        "plt.ylabel('Accuracy')\n",
        "plt.xlabel('Epoch')\n",
        "plt.legend(['Train', 'Test'], loc='upper left')\n",
        "plt.show()\n",
        "\n",
        "plt.plot(history.history['loss'])\n",
        "plt.plot(history.history['val_loss'])\n",
        "plt.title('Model loss')\n",
        "plt.ylabel('Loss')\n",
        "plt.xlabel('Epoch')\n",
        "plt.legend(['Train', 'Test'], loc='upper left')\n",
        "plt.show()"
      ],
      "execution_count": null,
      "outputs": [
        {
          "output_type": "display_data",
          "data": {
            "image/png": "[encoded data removed]",
            "text/plain": [
              "<Figure size 432x288 with 1 Axes>"
            ]
          },
          "metadata": {
            "needs_background": "light"
          }
        },
        {
          "output_type": "display_data",
          "data": {
            "image/png": "[encoded data removed]",
            "text/plain": [
              "<Figure size 432x288 with 1 Axes>"
            ]
          },
          "metadata": {
            "needs_background": "light"
          }
        }
      ]
    }
  ]
}